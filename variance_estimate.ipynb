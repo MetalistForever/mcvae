{
 "cells": [
  {
   "cell_type": "code",
   "execution_count": 1,
   "metadata": {},
   "outputs": [],
   "source": [
    "import os\n",
    "import torch\n",
    "import torch.nn as nn\n",
    "import torch.nn.functional as F\n",
    "import torchvision\n",
    "from torch.utils.data import Dataset, DataLoader\n",
    "import matplotlib.pyplot as plt\n",
    "import seaborn as sns\n",
    "from utils import make_dataloaders\n",
    "from models.vaes import Base, VAE, IWAE, AIS_VAE, ULA_VAE, Stacked_VAE, VAE_with_flows, repeat_data\n",
    "from models.samplers import HMC, MALA, ULA, run_chain\n",
    "import yaml\n",
    "import numpy as np\n",
    "from scipy.stats import norm\n",
    "import copy\n",
    "from tqdm.auto import tqdm\n",
    "\n",
    "import pytorch_lightning as pl\n",
    "from pytorch_lightning import loggers as pl_loggers\n",
    "\n",
    "%matplotlib widget\n",
    "\n",
    "colors = {\n",
    "    0: 'blue',\n",
    "    1: 'red',\n",
    "    2: 'green',\n",
    "    3: 'yellow',\n",
    "    4: 'black',\n",
    "    5: 'orange',\n",
    "}"
   ]
  },
  {
   "cell_type": "code",
   "execution_count": 2,
   "metadata": {},
   "outputs": [],
   "source": [
    "device = torch.device('cuda:0' if torch.cuda.is_available() else 'cpu')"
   ]
  },
  {
   "cell_type": "code",
   "execution_count": null,
   "metadata": {},
   "outputs": [],
   "source": [
    "train_loader, val_loader = make_dataloaders(dataset='mnist', batch_size=100, val_batch_size=100, binarize=True)"
   ]
  },
  {
   "cell_type": "code",
   "execution_count": null,
   "metadata": {},
   "outputs": [],
   "source": []
  },
  {
   "cell_type": "code",
   "execution_count": null,
   "metadata": {},
   "outputs": [],
   "source": [
    "def load_model(version):\n",
    "    with open(f'lightning_logs/default/version_{version}/hparams.yaml') as file:\n",
    "        fruits_list = yaml.load(file, Loader=yaml.FullLoader)\n",
    "        print(fruits_list)\n",
    "        hparams = fruits_list\n",
    "        \n",
    "    path = f'lightning_logs/default/version_{version}/checkpoints/'\n",
    "    file_name = os.listdir(path)[0]\n",
    "    checkpoint = torch.load(f'{path}{file_name}')\n",
    "    \n",
    "    for current_model in [VAE, IWAE, ULA_VAE, AIS_VAE]:\n",
    "        try:\n",
    "            model = current_model(**hparams).to(device)\n",
    "            model.load_state_dict(checkpoint['state_dict'])\n",
    "        except:\n",
    "            pass\n",
    "        else:\n",
    "            print(f'loaded {model.name}')\n",
    "            return model"
   ]
  },
  {
   "cell_type": "code",
   "execution_count": null,
   "metadata": {},
   "outputs": [],
   "source": [
    "version = 794\n",
    "iwae = load_model(version=version)"
   ]
  },
  {
   "cell_type": "code",
   "execution_count": null,
   "metadata": {},
   "outputs": [],
   "source": []
  },
  {
   "cell_type": "code",
   "execution_count": 6,
   "metadata": {},
   "outputs": [],
   "source": [
    "def get_transitions_output(model, z, mu, logvar, x):\n",
    "    with torch.no_grad():\n",
    "        x = repeat_data(x, model.num_samples)\n",
    "        output = model.run_transitions(z=z,\n",
    "                                        x=x,\n",
    "                                       mu=mu,\n",
    "                                       logvar=logvar)\n",
    "    return output"
   ]
  },
  {
   "cell_type": "code",
   "execution_count": 7,
   "metadata": {},
   "outputs": [],
   "source": [
    "sigma = 0.1"
   ]
  },
  {
   "cell_type": "code",
   "execution_count": 8,
   "metadata": {},
   "outputs": [],
   "source": [
    "model_W = iwae.decoder_net.net[0].weight.data\n",
    "model_mu = iwae.decoder_net.net[0].bias.data[..., None]\n",
    "\n",
    "C = (model_W @ model_W.T) + (sigma**2) * torch.eye(784, device=device)\n",
    "C_inv = torch.inverse(C)\n",
    "logdetC = torch.logdet(C)\n",
    "\n",
    "first_term = 784 * np.log(2 * np.pi) + logdetC\n",
    "\n",
    "def get_true_loglikelihood(x):\n",
    "    true_loglikelihood = torch.empty(x.shape[0], device=device, dtype=torch.float32)\n",
    "    for i in range(x.shape[0]):\n",
    "        x_cur = x[i].view(784, 1)\n",
    "        S = (x_cur - model_mu) @ (x_cur - model_mu).T\n",
    "        true_loglikelihood[i] = -0.5 * (first_term + torch.trace(C_inv @ S))\n",
    "    return true_loglikelihood"
   ]
  },
  {
   "cell_type": "code",
   "execution_count": 9,
   "metadata": {},
   "outputs": [],
   "source": [
    "# ----- ULA_VAE ----- #\n",
    "ula_vae = ULA_VAE(shape=28, act_func=nn.LeakyReLU, num_samples=1, hidden_dim=iwae.hidden_dim, net_type='fc', dataset='mnist',\n",
    "            step_size=0.01, K=10, use_transforms=False, learnable_transitions=False, return_pre_alphas=True, use_score_matching=False,\n",
    "                      ula_skip_threshold=0.1, grad_skip_val=0., grad_clip_val=0., use_cloned_decoder=False, variance_sensitive_step=False,\n",
    "                     acceptance_rate_target=0.9, annealing_scheme='linear', specific_likelihood='gaussian', sigma=sigma).to(device)\n",
    "ula_vae.decoder_net = copy.deepcopy(iwae.decoder_net)\n",
    "\n",
    "# ----- AIS_VAE ----- #\n",
    "ais_vae = AIS_VAE(shape=28, act_func=nn.LeakyReLU, num_samples=1, hidden_dim=iwae.hidden_dim, net_type='fc', dataset='mnist',\n",
    "                  step_size=0.01, K=10, use_barker=False, learnable_transitions=False, use_alpha_annealing=True, grad_skip_val=0.,\n",
    "                      grad_clip_val=0., use_cloned_decoder=False, variance_sensitive_step=False,\n",
    "                     acceptance_rate_target=0.8, annealing_scheme='linear', specific_likelihood='gaussian', sigma=sigma).to(device)\n",
    "ais_vae.decoder_net = copy.deepcopy(iwae.decoder_net)"
   ]
  },
  {
   "cell_type": "code",
   "execution_count": 10,
   "metadata": {},
   "outputs": [],
   "source": [
    "n = 100"
   ]
  },
  {
   "cell_type": "code",
   "execution_count": 11,
   "metadata": {},
   "outputs": [
    {
     "data": {
      "application/vnd.jupyter.widget-view+json": {
       "model_id": "53f4809530c44929a1dacf536933ccf7",
       "version_major": 2,
       "version_minor": 0
      },
      "text/plain": [
       "HBox(children=(HTML(value=''), FloatProgress(value=0.0), HTML(value='')))"
      ]
     },
     "metadata": {},
     "output_type": "display_data"
    },
    {
     "name": "stdout",
     "output_type": "stream",
     "text": [
      "\n"
     ]
    }
   ],
   "source": [
    "for batch in train_loader:\n",
    "    x, _ = batch\n",
    "    x = x.to(device)\n",
    "    z, mu, logvar = iwae.enc_rep(x, 1) # <- latents are fixed\n",
    "    \n",
    "    ula_w = torch.tensor([], device=device, dtype=torch.float32)\n",
    "    ais_w = torch.tensor([], device=device, dtype=torch.float32)\n",
    "    \n",
    "    true_loglikelihood = get_true_loglikelihood(x)\n",
    "    \n",
    "    for i in tqdm(range(n)):\n",
    "        ula_log_w = get_transitions_output(ula_vae, z, mu, logvar, x)[1]\n",
    "        ais_log_w = get_transitions_output(ais_vae, z, mu, logvar, x)[1]\n",
    "        \n",
    "        ula_w = torch.cat([ula_w, ula_log_w[..., None]], dim=1)\n",
    "        ais_w = torch.cat([ais_w, ais_log_w[..., None]], dim=1)\n",
    "    \n",
    "    break"
   ]
  },
  {
   "cell_type": "code",
   "execution_count": 12,
   "metadata": {},
   "outputs": [
    {
     "data": {
      "text/plain": [
       "tensor([-2452.1934, -6029.5659, -1680.9746, -3616.5933, -3597.8057, -3371.4492,\n",
       "        -6793.7598, -3445.1914, -1711.1777, -4196.6079, -2745.9248, -4487.2944,\n",
       "        -2636.4326, -2560.2698, -2440.2881, -2254.8745, -4458.2861, -3561.3682,\n",
       "        -4743.0518, -3855.7749, -3778.6172, -3431.2993, -6701.0513, -3076.9558,\n",
       "        -2926.0525, -2452.2312, -3208.3110, -2763.3035, -2491.3765, -5707.7031,\n",
       "        -3896.1113, -5264.2686, -4555.1895, -4465.1865, -4051.3618, -2939.1489,\n",
       "        -6437.1318, -3729.7852, -1889.5876, -5795.1494, -2217.9404, -4862.6978,\n",
       "        -3329.8687, -3622.3506, -5568.6387, -2771.0420, -5163.8887, -3137.0747,\n",
       "        -3684.6172, -1860.2253, -3312.0479, -2050.1240, -3070.3494, -6949.9531,\n",
       "        -3030.4233, -3680.4229, -3263.5144, -2347.2092, -2584.5767, -4391.4863,\n",
       "        -5637.6333,  -932.4315, -6219.0801, -6480.4229, -2314.8040, -6265.3525,\n",
       "        -5660.7534, -2791.5156, -2552.9812, -2668.9629, -2486.2610, -4123.9375,\n",
       "        -3069.2251, -4171.0742, -2596.8809, -4211.0439, -5680.4468, -3543.1953,\n",
       "        -5407.4980, -4123.3145, -4470.8555, -5201.9805, -4319.3276, -3048.6133,\n",
       "        -2701.3828,  -952.0252, -2456.7405, -2072.0879, -5448.3027, -4842.3418,\n",
       "        -1783.3638, -1279.8267, -2237.2920, -2609.2627, -3622.0415, -3862.3740,\n",
       "        -5662.8242, -3936.0430, -4437.2749, -3097.3660], device='cuda:0')"
      ]
     },
     "execution_count": 12,
     "metadata": {},
     "output_type": "execute_result"
    }
   ],
   "source": [
    "true_loglikelihood"
   ]
  },
  {
   "cell_type": "code",
   "execution_count": 13,
   "metadata": {},
   "outputs": [
    {
     "data": {
      "text/plain": [
       "tensor([ -4051245.2500,  -4142501.2500,  -1728860.7500,  -4609149.0000,\n",
       "         -3132180.5000,  -2071665.1250,  -5778044.0000,  -4034548.5000,\n",
       "         -2453695.7500,  -4364711.5000,  -2941454.0000,  -2718607.5000,\n",
       "         -5033194.5000,  -2583134.0000,  -2431394.0000,  -4131238.0000,\n",
       "         -3396202.5000,  -2930794.5000,  -7239304.5000,  -2971218.5000,\n",
       "         -3666390.0000,  -3923755.0000,  -5295299.5000,  -3744014.5000,\n",
       "         -2780702.5000,  -7811330.5000, -11288383.0000,  -4978382.5000,\n",
       "         -3855796.0000, -10961722.0000,  -5369453.5000,  -1731265.1250,\n",
       "         -2615478.0000,  -6848207.5000,  -3184644.5000,  -3671973.0000,\n",
       "         -4650130.0000,  -3262731.7500,  -5456484.5000,  -3052228.5000,\n",
       "         -5707489.5000,  -4971593.5000,  -3142734.5000,  -4246878.5000,\n",
       "         -3075003.0000,  -3660056.0000,  -4647316.0000,  -2765877.5000,\n",
       "         -2984320.2500,  -5108746.0000,  -2510135.2500,  -3029675.5000,\n",
       "         -4939290.5000,  -5840400.5000,  -4394059.5000,  -2781256.7500,\n",
       "         -2325506.5000,  -4367595.5000,  -2329526.7500,  -4170072.7500,\n",
       "         -2788824.5000,  -1414380.5000,  -3853296.0000,  -6539044.0000,\n",
       "         -3695923.0000,  -6246090.5000,  -3139784.0000,  -3899030.5000,\n",
       "         -3721602.0000,  -2102771.5000,  -3888894.5000,  -2532713.7500,\n",
       "         -6771329.5000,  -7972139.5000,  -3049330.5000,  -3329553.5000,\n",
       "         -4751939.5000,  -4985922.0000,  -4770866.0000,  -3886716.5000,\n",
       "         -6294313.5000,  -3987261.0000,  -8061235.5000,  -4195906.5000,\n",
       "         -2245730.5000,  -4378394.5000,  -7637640.5000,  -3527829.0000,\n",
       "         -4416849.5000,  -2135145.7500,  -3629223.0000,  -2429547.5000,\n",
       "         -2431593.0000,  -3700517.5000,  -2534858.2500,  -3971881.0000,\n",
       "         -4061102.5000,  -1801238.2500,  -2061989.3750,  -4726008.0000],\n",
       "       device='cuda:0')"
      ]
     },
     "execution_count": 13,
     "metadata": {},
     "output_type": "execute_result"
    }
   ],
   "source": [
    "torch.logsumexp(ula_w, dim=1) - np.log(n)"
   ]
  },
  {
   "cell_type": "code",
   "execution_count": null,
   "metadata": {},
   "outputs": [],
   "source": []
  }
 ],
 "metadata": {
  "kernelspec": {
   "display_name": "Condatorch",
   "language": "python",
   "name": "condatorch"
  },
  "language_info": {
   "codemirror_mode": {
    "name": "ipython",
    "version": 3
   },
   "file_extension": ".py",
   "mimetype": "text/x-python",
   "name": "python",
   "nbconvert_exporter": "python",
   "pygments_lexer": "ipython3",
   "version": "3.8.5"
  }
 },
 "nbformat": 4,
 "nbformat_minor": 4
}
