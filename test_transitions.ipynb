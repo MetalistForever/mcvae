{
 "cells": [
  {
   "cell_type": "code",
   "execution_count": 1,
   "metadata": {},
   "outputs": [],
   "source": [
    "from models.samplers import HMC, MALA, ULA, run_chain\n",
    "from models.normflows import NormFlow\n",
    "import torch\n",
    "import numpy as np\n",
    "from tqdm.auto import tqdm\n",
    "import matplotlib.pyplot as plt\n",
    "%matplotlib widget"
   ]
  },
  {
   "cell_type": "code",
   "execution_count": 2,
   "metadata": {},
   "outputs": [],
   "source": [
    "device = torch.device(\"cuda:0\" if torch.cuda.is_available() else \"cpu\")"
   ]
  },
  {
   "cell_type": "code",
   "execution_count": null,
   "metadata": {},
   "outputs": [],
   "source": [
    "class GMM():\n",
    "    def __init__(self, locs, covariance_matrices):\n",
    "        self.locs = torch.tensor([], device=locs[0].device)\n",
    "        self.covariance_matrices = torch.tensor([], device=covariance_matrices[0].device)\n",
    "        self.distributions = []\n",
    "        self.device = locs[0].device\n",
    "        for i in range(len(locs)):\n",
    "            self.distributions.append(\n",
    "                torch.distributions.MultivariateNormal(loc=locs[i], covariance_matrix=covariance_matrices[i]))\n",
    "\n",
    "    def log_prob(self, z, x=None):\n",
    "        log_p = torch.tensor([], device=z.device)\n",
    "        for i in range(len(self.distributions)):\n",
    "            log_paux = self.distributions[i].log_prob(z).view(-1, 1)\n",
    "            log_p = torch.cat([log_p, log_paux], dim=-1)\n",
    "        log_density = torch.logsumexp(log_p, dim=1)\n",
    "        return log_density\n",
    "\n",
    "    def sample(self, shape):\n",
    "        p = np.random.choice(a=len(self.distributions), size=shape[0])\n",
    "        samples = torch.tensor([], device=self.device)\n",
    "        for idx in p:\n",
    "            z = self.distributions[idx].sample((1,))\n",
    "            samples = torch.cat([samples, z])\n",
    "        return samples\n",
    "    \n",
    "class Gaussian():\n",
    "    def __init__(self, loc, scale):\n",
    "        self.distr = torch.distributions.Normal(loc=torch.tensor(loc, device=device), scale=torch.tensor(scale, device=device))\n",
    "    def log_prob(self, z, x=None):\n",
    "        return self.distr.log_prob(z).sum(-1)\n",
    "    def sample(self, shape):\n",
    "        return self.distr.sample(shape)"
   ]
  },
  {
   "cell_type": "code",
   "execution_count": 4,
   "metadata": {},
   "outputs": [],
   "source": [
    "locs = [torch.tensor([-3, -3], device=device, dtype=torch.float32),\n",
    "       torch.tensor([3, 3], device=device, dtype=torch.float32),]\n",
    "\n",
    "covs = [torch.eye(2, device=device, dtype=torch.float32)*0.1,\n",
    "       torch.eye(2, device=device, dtype=torch.float32)*0.1]"
   ]
  },
  {
   "cell_type": "code",
   "execution_count": 5,
   "metadata": {},
   "outputs": [],
   "source": [
    "target = GMM(locs=locs, covariance_matrices=covs)\n",
    "# target = Gaussian(loc=[10., -10.], scale=[1., 1.])"
   ]
  },
  {
   "cell_type": "code",
   "execution_count": null,
   "metadata": {},
   "outputs": [],
   "source": []
  },
  {
   "cell_type": "code",
   "execution_count": 6,
   "metadata": {},
   "outputs": [
    {
     "data": {
      "application/vnd.jupyter.widget-view+json": {
       "model_id": "471992b40f684484b832b0c0b2389f57",
       "version_major": 2,
       "version_minor": 0
      },
      "text/plain": [
       "Canvas(toolbar=Toolbar(toolitems=[('Home', 'Reset original view', 'home', 'home'), ('Back', 'Back to previous …"
      ]
     },
     "metadata": {},
     "output_type": "display_data"
    }
   ],
   "source": [
    "plt.close()\n",
    "plt.figure()\n",
    "\n",
    "target_samples = target.sample((5000, )).cpu()\n",
    "plt.scatter(target_samples[:, 0], target_samples[:, 1])\n",
    "\n",
    "plt.show();"
   ]
  },
  {
   "cell_type": "code",
   "execution_count": 7,
   "metadata": {},
   "outputs": [
    {
     "data": {
      "application/vnd.jupyter.widget-view+json": {
       "model_id": "2878d63d3eb341829950b114de2f73d0",
       "version_major": 2,
       "version_minor": 0
      },
      "text/plain": [
       "HBox(children=(HTML(value=''), FloatProgress(value=0.0, max=10000.0), HTML(value='')))"
      ]
     },
     "metadata": {},
     "output_type": "display_data"
    },
    {
     "name": "stdout",
     "output_type": "stream",
     "text": [
      "62.95368957519531\n",
      "40.01558303833008\n",
      "23.565397262573242\n",
      "14.11245346069336\n",
      "11.473953247070312\n",
      "5.775651931762695\n",
      "0.8184287548065186\n",
      "0.16920296847820282\n",
      "0.1546507030725479\n",
      "0.13421529531478882\n",
      "0.04289143532514572\n",
      "0.05631246417760849\n",
      "0.06898728013038635\n",
      "-0.002356430282816291\n",
      "0.025244303047657013\n",
      "0.008367604576051235\n",
      "0.02510571852326393\n",
      "0.04167329519987106\n",
      "0.008731777779757977\n",
      "0.033164724707603455\n",
      "-0.0005605006008408964\n",
      "0.030274996533989906\n",
      "0.010937687940895557\n",
      "-0.0047379168681800365\n",
      "-0.002835329622030258\n",
      "-0.0021473716478794813\n",
      "0.009011618793010712\n",
      "0.016713811084628105\n",
      "0.00662901159375906\n",
      "0.007869038730859756\n",
      "\n"
     ]
    },
    {
     "ename": "KeyboardInterrupt",
     "evalue": "",
     "output_type": "error",
     "traceback": [
      "\u001b[0;31m---------------------------------------------------------------------------\u001b[0m",
      "\u001b[0;31mKeyboardInterrupt\u001b[0m                         Traceback (most recent call last)",
      "\u001b[0;32m<ipython-input-7-077a67c119d0>\u001b[0m in \u001b[0;36m<module>\u001b[0;34m\u001b[0m\n\u001b[1;32m     10\u001b[0m     \u001b[0meps\u001b[0m \u001b[0;34m=\u001b[0m \u001b[0mprior\u001b[0m\u001b[0;34m.\u001b[0m\u001b[0msample\u001b[0m\u001b[0;34m(\u001b[0m\u001b[0;34m(\u001b[0m\u001b[0;36m100\u001b[0m\u001b[0;34m,\u001b[0m \u001b[0;34m)\u001b[0m\u001b[0;34m)\u001b[0m\u001b[0;34m\u001b[0m\u001b[0;34m\u001b[0m\u001b[0m\n\u001b[1;32m     11\u001b[0m     \u001b[0mz\u001b[0m\u001b[0;34m,\u001b[0m \u001b[0mlog_jac\u001b[0m \u001b[0;34m=\u001b[0m \u001b[0mflow\u001b[0m\u001b[0;34m(\u001b[0m\u001b[0meps\u001b[0m\u001b[0;34m)\u001b[0m\u001b[0;34m\u001b[0m\u001b[0;34m\u001b[0m\u001b[0m\n\u001b[0;32m---> 12\u001b[0;31m     \u001b[0mloss\u001b[0m \u001b[0;34m=\u001b[0m \u001b[0;34m(\u001b[0m\u001b[0mprior\u001b[0m\u001b[0;34m.\u001b[0m\u001b[0mlog_prob\u001b[0m\u001b[0;34m(\u001b[0m\u001b[0meps\u001b[0m\u001b[0;34m)\u001b[0m\u001b[0;34m.\u001b[0m\u001b[0msum\u001b[0m\u001b[0;34m(\u001b[0m\u001b[0;34m-\u001b[0m\u001b[0;36m1\u001b[0m\u001b[0;34m)\u001b[0m \u001b[0;34m-\u001b[0m \u001b[0mlog_jac\u001b[0m \u001b[0;34m-\u001b[0m \u001b[0mtarget\u001b[0m\u001b[0;34m.\u001b[0m\u001b[0mlog_prob\u001b[0m\u001b[0;34m(\u001b[0m\u001b[0mz\u001b[0m\u001b[0;34m)\u001b[0m\u001b[0;34m)\u001b[0m\u001b[0;34m.\u001b[0m\u001b[0mmean\u001b[0m\u001b[0;34m(\u001b[0m\u001b[0;34m)\u001b[0m\u001b[0;34m\u001b[0m\u001b[0;34m\u001b[0m\u001b[0m\n\u001b[0m\u001b[1;32m     13\u001b[0m     \u001b[0mloss\u001b[0m\u001b[0;34m.\u001b[0m\u001b[0mbackward\u001b[0m\u001b[0;34m(\u001b[0m\u001b[0;34m)\u001b[0m\u001b[0;34m\u001b[0m\u001b[0;34m\u001b[0m\u001b[0m\n\u001b[1;32m     14\u001b[0m     \u001b[0moptimizer\u001b[0m\u001b[0;34m.\u001b[0m\u001b[0mstep\u001b[0m\u001b[0;34m(\u001b[0m\u001b[0;34m)\u001b[0m\u001b[0;34m\u001b[0m\u001b[0;34m\u001b[0m\u001b[0m\n",
      "\u001b[0;32m<ipython-input-3-08edf7c656a1>\u001b[0m in \u001b[0;36mlog_prob\u001b[0;34m(self, z, x)\u001b[0m\n\u001b[1;32m     13\u001b[0m         \u001b[0;32mfor\u001b[0m \u001b[0mi\u001b[0m \u001b[0;32min\u001b[0m \u001b[0mrange\u001b[0m\u001b[0;34m(\u001b[0m\u001b[0mlen\u001b[0m\u001b[0;34m(\u001b[0m\u001b[0mself\u001b[0m\u001b[0;34m.\u001b[0m\u001b[0mdistributions\u001b[0m\u001b[0;34m)\u001b[0m\u001b[0;34m)\u001b[0m\u001b[0;34m:\u001b[0m\u001b[0;34m\u001b[0m\u001b[0;34m\u001b[0m\u001b[0m\n\u001b[1;32m     14\u001b[0m             \u001b[0mlog_paux\u001b[0m \u001b[0;34m=\u001b[0m \u001b[0mself\u001b[0m\u001b[0;34m.\u001b[0m\u001b[0mdistributions\u001b[0m\u001b[0;34m[\u001b[0m\u001b[0mi\u001b[0m\u001b[0;34m]\u001b[0m\u001b[0;34m.\u001b[0m\u001b[0mlog_prob\u001b[0m\u001b[0;34m(\u001b[0m\u001b[0mz\u001b[0m\u001b[0;34m)\u001b[0m\u001b[0;34m.\u001b[0m\u001b[0mview\u001b[0m\u001b[0;34m(\u001b[0m\u001b[0;34m-\u001b[0m\u001b[0;36m1\u001b[0m\u001b[0;34m,\u001b[0m \u001b[0;36m1\u001b[0m\u001b[0;34m)\u001b[0m\u001b[0;34m\u001b[0m\u001b[0;34m\u001b[0m\u001b[0m\n\u001b[0;32m---> 15\u001b[0;31m             \u001b[0mlog_p\u001b[0m \u001b[0;34m=\u001b[0m \u001b[0mtorch\u001b[0m\u001b[0;34m.\u001b[0m\u001b[0mcat\u001b[0m\u001b[0;34m(\u001b[0m\u001b[0;34m[\u001b[0m\u001b[0mlog_p\u001b[0m\u001b[0;34m,\u001b[0m \u001b[0mlog_paux\u001b[0m\u001b[0;34m]\u001b[0m\u001b[0;34m,\u001b[0m \u001b[0mdim\u001b[0m\u001b[0;34m=\u001b[0m\u001b[0;34m-\u001b[0m\u001b[0;36m1\u001b[0m\u001b[0;34m)\u001b[0m\u001b[0;34m\u001b[0m\u001b[0;34m\u001b[0m\u001b[0m\n\u001b[0m\u001b[1;32m     16\u001b[0m         \u001b[0mlog_density\u001b[0m \u001b[0;34m=\u001b[0m \u001b[0mtorch\u001b[0m\u001b[0;34m.\u001b[0m\u001b[0mlogsumexp\u001b[0m\u001b[0;34m(\u001b[0m\u001b[0mlog_p\u001b[0m\u001b[0;34m,\u001b[0m \u001b[0mdim\u001b[0m\u001b[0;34m=\u001b[0m\u001b[0;36m1\u001b[0m\u001b[0;34m)\u001b[0m\u001b[0;34m\u001b[0m\u001b[0;34m\u001b[0m\u001b[0m\n\u001b[1;32m     17\u001b[0m         \u001b[0;32mreturn\u001b[0m \u001b[0mlog_density\u001b[0m\u001b[0;34m\u001b[0m\u001b[0;34m\u001b[0m\u001b[0m\n",
      "\u001b[0;31mKeyboardInterrupt\u001b[0m: "
     ]
    }
   ],
   "source": [
    "dim = 2\n",
    "flow = NormFlow(flow_type='RNVP', num_flows=2, hidden_dim=dim, need_permute=True).to(device)\n",
    "optimizer = torch.optim.Adam(flow.parameters(), lr=1e-3)\n",
    "\n",
    "prior = torch.distributions.Normal(loc=torch.zeros(dim, device=device, dtype=torch.float32),\n",
    "                                  scale=torch.ones(dim, device=device, dtype=torch.float32))\n",
    "for ep in tqdm(range(10000)):\n",
    "#         import pdb\n",
    "#         pdb.set_trace()\n",
    "    eps = prior.sample((100, ))\n",
    "    z, log_jac = flow(eps)\n",
    "    loss = (prior.log_prob(eps).sum(-1) - log_jac - target.log_prob(z)).mean()\n",
    "    loss.backward()\n",
    "    optimizer.step()\n",
    "    optimizer.zero_grad()\n",
    "    if ep % 100 == 0:\n",
    "        print(loss.item())"
   ]
  },
  {
   "cell_type": "code",
   "execution_count": null,
   "metadata": {},
   "outputs": [],
   "source": []
  },
  {
   "cell_type": "code",
   "execution_count": 8,
   "metadata": {},
   "outputs": [
    {
     "data": {
      "application/vnd.jupyter.widget-view+json": {
       "model_id": "929fe381f8874b2585abd5a387e5625d",
       "version_major": 2,
       "version_minor": 0
      },
      "text/plain": [
       "Canvas(toolbar=Toolbar(toolitems=[('Home', 'Reset original view', 'home', 'home'), ('Back', 'Back to previous …"
      ]
     },
     "metadata": {},
     "output_type": "display_data"
    }
   ],
   "source": [
    "with torch.no_grad():\n",
    "    eps = prior.sample((5000,))\n",
    "    z, _ = flow(eps)\n",
    "    z = z.cpu().numpy()\n",
    "    \n",
    "plt.close()\n",
    "plt.figure()\n",
    "\n",
    "target_samples = target.sample((5000, )).cpu()\n",
    "plt.scatter(target_samples[:, 0], target_samples[:, 1], color='blue')\n",
    "plt.scatter(z[:, 0], z[:, 1], color='red')\n",
    "# plt.scatter(ula_samples[:, 0], ula_samples[:, 1], color='green')\n",
    "# plt.scatter(hmc_samples[:, 0], hmc_samples[:, 1], color='orange')\n",
    "\n",
    "plt.show();"
   ]
  },
  {
   "cell_type": "code",
   "execution_count": null,
   "metadata": {},
   "outputs": [],
   "source": []
  },
  {
   "cell_type": "code",
   "execution_count": 7,
   "metadata": {},
   "outputs": [],
   "source": [
    "# MALA\n",
    "\n",
    "mala = MALA(step_size=0.01, use_barker=False, learnable=False)\n",
    "z_init = torch.zeros(2, device=device, dtype=torch.float32)[None]\n",
    "\n",
    "mala_samples = run_chain(mala, z_init, target=target.log_prob, n_steps=1000, return_trace=True,).cpu()"
   ]
  },
  {
   "cell_type": "code",
   "execution_count": 8,
   "metadata": {},
   "outputs": [],
   "source": [
    "# ULA\n",
    "\n",
    "ula = ULA(step_size=0.01, learnable=False)\n",
    "z_init = torch.zeros(2, device=device, dtype=torch.float32)[None]\n",
    "\n",
    "ula_samples = run_chain(ula, z_init, target=target.log_prob, n_steps=1000, return_trace=True,).cpu()"
   ]
  },
  {
   "cell_type": "code",
   "execution_count": 9,
   "metadata": {},
   "outputs": [],
   "source": [
    "# HMC\n",
    "\n",
    "hmc = HMC(step_size=0.05, n_leapfrogs=10, learnable=False)\n",
    "z_init = torch.zeros(2, device=device, dtype=torch.float32)[None]\n",
    "\n",
    "hmc_samples = run_chain(hmc, z_init, target=target.log_prob, n_steps=1000, return_trace=True,).cpu()"
   ]
  },
  {
   "cell_type": "code",
   "execution_count": 8,
   "metadata": {},
   "outputs": [
    {
     "data": {
      "application/vnd.jupyter.widget-view+json": {
       "model_id": "88bc202eade24619b9f29082679835ab",
       "version_major": 2,
       "version_minor": 0
      },
      "text/plain": [
       "Canvas(toolbar=Toolbar(toolitems=[('Home', 'Reset original view', 'home', 'home'), ('Back', 'Back to previous …"
      ]
     },
     "metadata": {},
     "output_type": "display_data"
    }
   ],
   "source": [
    "plt.close()\n",
    "plt.figure()\n",
    "\n",
    "target_samples = target.sample((5000, )).cpu()\n",
    "plt.scatter(target_samples[:, 0], target_samples[:, 1], color='blue')\n",
    "plt.scatter(mala_samples[:, 0], mala_samples[:, 1], color='red')\n",
    "# plt.scatter(ula_samples[:, 0], ula_samples[:, 1], color='green')\n",
    "# plt.scatter(hmc_samples[:, 0], hmc_samples[:, 1], color='orange')\n",
    "\n",
    "plt.show();"
   ]
  },
  {
   "cell_type": "code",
   "execution_count": null,
   "metadata": {},
   "outputs": [],
   "source": []
  }
 ],
 "metadata": {
  "kernelspec": {
   "display_name": "Condatorch",
   "language": "python",
   "name": "condatorch"
  },
  "language_info": {
   "codemirror_mode": {
    "name": "ipython",
    "version": 3
   },
   "file_extension": ".py",
   "mimetype": "text/x-python",
   "name": "python",
   "nbconvert_exporter": "python",
   "pygments_lexer": "ipython3",
   "version": "3.8.5"
  }
 },
 "nbformat": 4,
 "nbformat_minor": 4
}
