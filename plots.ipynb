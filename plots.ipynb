{
 "cells": [
  {
   "cell_type": "code",
   "execution_count": 1,
   "metadata": {},
   "outputs": [],
   "source": [
    "import numpy as np\n",
    "import matplotlib.pyplot as plt\n",
    "import seaborn as sns\n",
    "\n",
    "%matplotlib widget\n",
    "\n",
    "colors = {\n",
    "    0: 'blue',\n",
    "    1: 'red',\n",
    "    2: 'green',\n",
    "    3: 'yellow',\n",
    "    4: 'black',\n",
    "    5: 'orange',\n",
    "}"
   ]
  },
  {
   "cell_type": "code",
   "execution_count": null,
   "metadata": {},
   "outputs": [],
   "source": [
    "nll_ula_1 = [88.78, 86.90, 86.41, 86.23, 86.23, 86.13, 86.06, 86.19, 86.07, 85.91]\n",
    "nll_ula_3 = [88.21, 86.57, 86.05, 85.86, 85.94, 85.80, 85.69, 85.79, 85.79, 85.61]\n",
    "nll_ula_5 = [87.75, 85.57, 84.99, 84.85, 84.8, 84.75, 84.69, 84.65, 84.6, 84.59]\n",
    "nll_ula_7 = [88.24, 86.44, 85.70, 85.63, 85.61, 85.50, 85.44, 85.46, 85.38, 85.48]\n",
    "nll_ula_10 = [91.34, 85.81, 84.86, 84.54, 84.38, 84.29, 84.25, 84.18, 84.11, 84.05]"
   ]
  },
  {
   "cell_type": "code",
   "execution_count": 3,
   "metadata": {},
   "outputs": [],
   "source": [
    "nll_iwae_10 = [88.18, 86.61, 85.94, 85.5, 85.24, 85.11, 85.12, 84.88, 85.23, 84.95] # 84.52\n",
    "nll_iwae_10_2 = [88.61, 87.02, 86.08, 85.47, 85.61, 85.13, 84.95, 84.78, 84.96, 84.82]\n",
    "nll_iwae_50 = [89.1, 87.26, 86.53, 85.83, 85.64, 85.47, 85.83, 85.09, 85.35, 84.94]\n",
    "\n",
    "nll_vae = [89.01, 87.26, 86.49, 85.85, 85.58, 85.74, 85.33, 85.29, 85.1, 85.14]"
   ]
  },
  {
   "cell_type": "code",
   "execution_count": 4,
   "metadata": {},
   "outputs": [],
   "source": [
    "nll_vae_cifar = [1818.80, 1816.37, 1815.40, 1814.92, 1814.67, 1814.40, 1814.01, 1813.95, 1813.81, 1813.87]\n",
    "nll_iwae10_cifar = [1819.81, 1816.96, 1816.24, 1815.74, 1815.05, 1814.69, 1814.47, 1814.25, 1813.87, 1814.06]\n",
    "nll_iwae50_cifar = [1819.75, 1817.17, 1815.81, 1815.43, 1815.12, 1814.40, 1814.29, 1814.29, 1813.92, 1814.21]"
   ]
  },
  {
   "cell_type": "code",
   "execution_count": 5,
   "metadata": {},
   "outputs": [],
   "source": [
    "nll_ais_5 = [87.27, 85.13, 84.67, 84.56, 84.54, 84.45, 84.42, 84.38, 84.38, 84.35]"
   ]
  },
  {
   "cell_type": "code",
   "execution_count": 6,
   "metadata": {},
   "outputs": [],
   "source": [
    "nll_ais_3 = [87.14, 85.36, 84.85, 84.79, 84.69, 84.67, 84.58, 84.58, 84.52, 84.5]"
   ]
  },
  {
   "cell_type": "code",
   "execution_count": 7,
   "metadata": {},
   "outputs": [
    {
     "data": {
      "application/vnd.jupyter.widget-view+json": {
       "model_id": "73ec8460183a43e4985f497b919d0df6",
       "version_major": 2,
       "version_minor": 0
      },
      "text/plain": [
       "Canvas(toolbar=Toolbar(toolitems=[('Home', 'Reset original view', 'home', 'home'), ('Back', 'Back to previous …"
      ]
     },
     "metadata": {},
     "output_type": "display_data"
    }
   ],
   "source": [
    "plt.close()\n",
    "plt.figure(figsize=(5, 3), dpi=200)\n",
    "plt.plot([1, 3, 5, 10], -1 * np.array([nll_ula_1[-1], nll_ula_3[-1], nll_ula_5[-1], nll_ula_10[-1]]), '-o', label='L-MCVAE')\n",
    "# plt.hlines(-nll_vae[-1], -10, 10, linestyle='--', color='red', label='VAE')\n",
    "plt.hlines(-nll_iwae_10[-1], -10, 10, linestyle='--', color='green', label='IWAE')\n",
    "plt.xlabel('Transitions')\n",
    "plt.ylabel('Log likelihood')\n",
    "plt.xlim(1, 10)\n",
    "plt.xticks([1, 3, 5, 10])\n",
    "plt.grid()\n",
    "plt.legend()\n",
    "plt.tight_layout();\n",
    "plt.savefig('nll.pdf', format='pdf')"
   ]
  },
  {
   "cell_type": "code",
   "execution_count": 8,
   "metadata": {},
   "outputs": [
    {
     "data": {
      "application/vnd.jupyter.widget-view+json": {
       "model_id": "5e3953462b9647c5a54961f20780dbcf",
       "version_major": 2,
       "version_minor": 0
      },
      "text/plain": [
       "Canvas(toolbar=Toolbar(toolitems=[('Home', 'Reset original view', 'home', 'home'), ('Back', 'Back to previous …"
      ]
     },
     "metadata": {},
     "output_type": "display_data"
    }
   ],
   "source": [
    "plt.close()\n",
    "plt.figure(figsize=(5, 3), dpi=200)\n",
    "plt.plot(10 * np.arange(10), -np.array(nll_ula_10), '-o', label='L-MCVAE')\n",
    "plt.plot(10 * np.arange(10), -np.array(nll_ais_5), '-o', label='A-MCVAE')\n",
    "plt.plot(10 * np.arange(10), -np.array(nll_vae), '-o', label='VAE', color='red')\n",
    "plt.plot(10 * np.arange(10), -np.array(nll_iwae_10), '-o', label='IWAE', color='green')\n",
    "plt.xlabel('Epoch')\n",
    "plt.ylabel('Log likelihood')\n",
    "plt.grid()\n",
    "plt.legend()\n",
    "plt.tight_layout();\n",
    "plt.savefig('nll_training.pdf', format='pdf')"
   ]
  },
  {
   "cell_type": "code",
   "execution_count": null,
   "metadata": {},
   "outputs": [],
   "source": []
  },
  {
   "cell_type": "code",
   "execution_count": null,
   "metadata": {},
   "outputs": [],
   "source": []
  },
  {
   "cell_type": "code",
   "execution_count": null,
   "metadata": {},
   "outputs": [],
   "source": []
  },
  {
   "cell_type": "markdown",
   "metadata": {},
   "source": [
    "## Toy experiment results"
   ]
  },
  {
   "cell_type": "code",
   "execution_count": 56,
   "metadata": {},
   "outputs": [],
   "source": [
    "results = {\"VAE\": [10.550479888916016, 11.216449737548828, 11.922038078308105, 12.825586318969727, 14.065547943115234, 14.875882148742676, 15.291547775268555, 15.52389144897461, 15.868099212646484],\n",
    "           \"IWAE\": [9.285918235778809, 9.485891342163086, 9.864771842956543, 10.40803337097168, 11.307821273803711, 12.12191390991211, 12.601133346557617, 12.971668243408203, 13.466663360595703],\n",
    "           \"L-MCVAE\": [8.887885093688965, 9.512554168701172, 10.252117156982422, 11.321290016174316, 12.019365310668945, 12.487015724182129, 13.029390335083008, 13.308279037475586, 13.826054573059082],\n",
    "           \"A-MCVAE\": [9.563720703125, 10.254179954528809, 10.87863540649414, 11.421743392944336, 11.81063461303711, 12.336275100708008, 12.756787300109863, 13.061426162719727, 13.527843475341797],\n",
    "           \"RealNVP\": [12.536500930786133, 17.569583892822266, 19.28040313720703, 20.322044372558594, 25.31503677368164, 33.05736541748047, 43.40273666381836, 48.910736083984375, 53.62092590332031]}"
   ]
  },
  {
   "cell_type": "code",
   "execution_count": 57,
   "metadata": {},
   "outputs": [],
   "source": [
    "alphas = {\"VAE\": [3.982020854949951, 4.208756923675537, 4.384149551391602, 4.581679344177246, 4.8326239585876465, 5.0243306159973145, 5.13739013671875, 5.211341857910156, 5.326637268066406], \"iwae\": [4.008960723876953, 4.2698893547058105, 4.448665142059326, 4.646263599395752, 4.895529270172119, 5.079067230224609, 5.197933197021484, 5.269079685211182, 5.380191326141357], \"ula\": [4.503686428070068, 4.685574531555176, 4.790509223937988, 4.746026992797852, 4.795763969421387, 4.979308128356934, 5.095440864562988, 5.184185981750488, 5.312742233276367], \"ais\": [4.35058069229126, 4.4296345710754395, 4.517520904541016, 4.628722190856934, 4.786405086517334, 4.960949897766113, 5.084184169769287, 5.170601844787598, 5.300750732421875], \"flow\": [4.322167873382568, 4.5603203773498535, 4.568498611450195, 4.696115016937256, 4.750179767608643, 4.886528491973877, 4.99501895904541, 5.049005031585693, 5.156989574432373]}"
   ]
  },
  {
   "cell_type": "code",
   "execution_count": 58,
   "metadata": {},
   "outputs": [],
   "source": [
    "betas = {\"VAE\": [4.292405128479004, 4.629295825958252, 4.883695602416992, 5.15126371383667, 5.458528518676758, 5.645705223083496, 5.738810062408447, 5.791443347930908, 5.8669257164001465], \"iwae\": [3.8402044773101807, 4.109161376953125, 4.3069868087768555, 4.54127311706543, 4.843807697296143, 5.067098140716553, 5.1991286277771, 5.2842698097229, 5.406628608703613], \"ula\": [4.3919172286987305, 4.638217926025391, 4.832672595977783, 4.9930644035339355, 5.131603717803955, 5.284344673156738, 5.408614635467529, 5.478574275970459, 5.589469909667969], \"ais\": [4.414282321929932, 4.611231327056885, 4.7858686447143555, 4.946946620941162, 5.093587398529053, 5.253915786743164, 5.364399433135986, 5.438543796539307, 5.544384956359863], \"flow\": [4.14431619644165, 4.4019341468811035, 4.686739444732666, 4.837130069732666, 5.185356616973877, 5.606884479522705, 5.855235576629639, 6.09788179397583, 6.355269908905029]}"
   ]
  },
  {
   "cell_type": "code",
   "execution_count": 59,
   "metadata": {},
   "outputs": [],
   "source": [
    "d = [2, 5, 10, 20, 50, 100, 150, 200, 300] "
   ]
  },
  {
   "cell_type": "code",
   "execution_count": 60,
   "metadata": {},
   "outputs": [],
   "source": [
    "def plot_toy_results(res_dict, name):\n",
    "    plt.close()\n",
    "    plt.figure(dpi=200, figsize=(5, 3))\n",
    "\n",
    "    for i, (k, v) in enumerate(res_dict.items()):\n",
    "        plt.plot(d, res_dict[k], '-o', color=colors[i], label=k)\n",
    "    if name == 'alpha':\n",
    "        plt.hlines(2*np.pi, d[0], d[-1], linestyle='--', color='green', label='True alpha')\n",
    "    if name == 'beta':\n",
    "        plt.hlines(2, d[0], d[-1], linestyle='--', color='green', label='True beta')\n",
    "    \n",
    "    plt.yscale('log')\n",
    "    plt.legend(loc='lower right')\n",
    "    plt.tight_layout()\n",
    "    plt.savefig('./toy_l2_result.pdf', format='pdf')\n",
    "    plt.show();"
   ]
  },
  {
   "cell_type": "code",
   "execution_count": 61,
   "metadata": {},
   "outputs": [
    {
     "data": {
      "application/vnd.jupyter.widget-view+json": {
       "model_id": "cef8a2f38c1a40679fb73ec5f386ed7b",
       "version_major": 2,
       "version_minor": 0
      },
      "text/plain": [
       "Canvas(toolbar=Toolbar(toolitems=[('Home', 'Reset original view', 'home', 'home'), ('Back', 'Back to previous …"
      ]
     },
     "metadata": {},
     "output_type": "display_data"
    }
   ],
   "source": [
    "plot_toy_results(results, 'results')"
   ]
  },
  {
   "cell_type": "code",
   "execution_count": 18,
   "metadata": {},
   "outputs": [
    {
     "data": {
      "application/vnd.jupyter.widget-view+json": {
       "model_id": "9db80a669d3d464281befe144007b027",
       "version_major": 2,
       "version_minor": 0
      },
      "text/plain": [
       "Canvas(toolbar=Toolbar(toolitems=[('Home', 'Reset original view', 'home', 'home'), ('Back', 'Back to previous …"
      ]
     },
     "metadata": {},
     "output_type": "display_data"
    }
   ],
   "source": [
    "plot_toy_results(alphas, 'alpha')"
   ]
  },
  {
   "cell_type": "code",
   "execution_count": 19,
   "metadata": {},
   "outputs": [
    {
     "data": {
      "application/vnd.jupyter.widget-view+json": {
       "model_id": "b3b39e8b38984b198b96f1c1e0a734a0",
       "version_major": 2,
       "version_minor": 0
      },
      "text/plain": [
       "Canvas(toolbar=Toolbar(toolitems=[('Home', 'Reset original view', 'home', 'home'), ('Back', 'Back to previous …"
      ]
     },
     "metadata": {},
     "output_type": "display_data"
    }
   ],
   "source": [
    "plot_toy_results(betas, 'beta')"
   ]
  },
  {
   "cell_type": "code",
   "execution_count": null,
   "metadata": {},
   "outputs": [],
   "source": []
  },
  {
   "cell_type": "code",
   "execution_count": null,
   "metadata": {},
   "outputs": [],
   "source": []
  },
  {
   "cell_type": "code",
   "execution_count": null,
   "metadata": {},
   "outputs": [],
   "source": []
  },
  {
   "cell_type": "markdown",
   "metadata": {},
   "source": [
    "## Experiments on 2d models."
   ]
  },
  {
   "cell_type": "code",
   "execution_count": 5,
   "metadata": {},
   "outputs": [],
   "source": [
    "import os\n",
    "import torch\n",
    "import torch.nn as nn\n",
    "import torch.nn.functional as F\n",
    "import torchvision\n",
    "from torch.utils.data import Dataset, DataLoader\n",
    "import matplotlib.pyplot as plt\n",
    "import seaborn as sns\n",
    "from utils import make_dataloaders\n",
    "from models.vaes import Base, VAE, IWAE, AIS_VAE, ULA_VAE, Stacked_VAE, VAE_with_flows\n",
    "from models.samplers import HMC, MALA, ULA, run_chain\n",
    "import yaml\n",
    "import numpy as np\n",
    "from scipy.stats import norm\n",
    "\n",
    "import pytorch_lightning as pl\n",
    "from pytorch_lightning import loggers as pl_loggers\n",
    "\n",
    "%matplotlib widget\n",
    "\n",
    "colors = {\n",
    "    0: 'blue',\n",
    "    1: 'red',\n",
    "    2: 'green',\n",
    "    3: 'yellow',\n",
    "    4: 'black',\n",
    "    5: 'orange',\n",
    "}"
   ]
  },
  {
   "cell_type": "code",
   "execution_count": 3,
   "metadata": {},
   "outputs": [],
   "source": [
    "device = torch.device('cuda:1' if torch.cuda.is_available() else 'cpu')"
   ]
  },
  {
   "cell_type": "code",
   "execution_count": 4,
   "metadata": {},
   "outputs": [
    {
     "name": "stderr",
     "output_type": "stream",
     "text": [
      "/home/nkotelevskii/anaconda3/envs/condatorch/lib/python3.8/site-packages/torchvision/datasets/mnist.py:58: UserWarning: train_data has been renamed data\n",
      "  warnings.warn(\"train_data has been renamed data\")\n",
      "/home/nkotelevskii/anaconda3/envs/condatorch/lib/python3.8/site-packages/torchvision/datasets/mnist.py:48: UserWarning: train_labels has been renamed targets\n",
      "  warnings.warn(\"train_labels has been renamed targets\")\n",
      "/home/nkotelevskii/anaconda3/envs/condatorch/lib/python3.8/site-packages/torchvision/datasets/mnist.py:63: UserWarning: test_data has been renamed data\n",
      "  warnings.warn(\"test_data has been renamed data\")\n",
      "/home/nkotelevskii/anaconda3/envs/condatorch/lib/python3.8/site-packages/torchvision/datasets/mnist.py:53: UserWarning: test_labels has been renamed targets\n",
      "  warnings.warn(\"test_labels has been renamed targets\")\n"
     ]
    }
   ],
   "source": [
    "train_loader, val_loader = make_dataloaders(dataset='mnist', batch_size=100, val_batch_size=100, binarize=True)"
   ]
  },
  {
   "cell_type": "code",
   "execution_count": 20,
   "metadata": {},
   "outputs": [],
   "source": [
    "version = 269"
   ]
  },
  {
   "cell_type": "code",
   "execution_count": 6,
   "metadata": {},
   "outputs": [],
   "source": [
    "# 268 - IWAE\n",
    "# 269 - VAE\n",
    "# 616 -- AIS_VAE with alpha annealing\n",
    "# 617 -- ULA_VAE with alpha annealing"
   ]
  },
  {
   "cell_type": "code",
   "execution_count": 21,
   "metadata": {},
   "outputs": [],
   "source": [
    "def load_model(version):\n",
    "    with open(f'lightning_logs/default/version_{version}/hparams.yaml') as file:\n",
    "        fruits_list = yaml.load(file, Loader=yaml.FullLoader)\n",
    "        print(fruits_list)\n",
    "        hparams = fruits_list\n",
    "        \n",
    "    path = f'lightning_logs/default/version_{version}/checkpoints/'\n",
    "    file_name = os.listdir(path)[0]\n",
    "    checkpoint = torch.load(f'{path}{file_name}')\n",
    "    \n",
    "    for current_model in [VAE, IWAE, ULA_VAE, AIS_VAE]:\n",
    "        try:\n",
    "            model = current_model(**hparams).to(device)\n",
    "            model.load_state_dict(checkpoint['state_dict'])\n",
    "        except:\n",
    "            pass\n",
    "        else:\n",
    "            print(f'loaded {model.name}')\n",
    "            return model"
   ]
  },
  {
   "cell_type": "code",
   "execution_count": 22,
   "metadata": {},
   "outputs": [
    {
     "name": "stdout",
     "output_type": "stream",
     "text": [
      "{'act_func': <class 'torch.nn.modules.activation.GELU'>, 'dataset': 'mnist', 'hidden_dim': 2, 'name': 'VAE', 'net_type': 'conv', 'num_samples': 1, 'shape': 28}\n",
      "loaded VAE\n"
     ]
    }
   ],
   "source": [
    "model = load_model(version=version)"
   ]
  },
  {
   "cell_type": "code",
   "execution_count": null,
   "metadata": {},
   "outputs": [],
   "source": []
  },
  {
   "cell_type": "code",
   "execution_count": 9,
   "metadata": {},
   "outputs": [],
   "source": [
    "random_vector = torch.randn((10, model.hidden_dim)).to(device)\n",
    "\n",
    "def reconstruct_image(model, pics, num_samples=50):\n",
    "    '''\n",
    "    Function to reconstruct given images\n",
    "    '''\n",
    "    with torch.no_grad():\n",
    "        z = get_posterior_samples(model, pics.to(device), n_samples=1)\n",
    "        z = torch.tensor(z, device=device, dtype=torch.float32)\n",
    "        pics_rec = torch.sigmoid(model.decode(z)).cpu()\n",
    "    return pics_rec\n",
    "\n",
    "## And let us write a function to generate images:\n",
    "def generate_image(model, random_vector):\n",
    "    with torch.no_grad():\n",
    "        generated = torch.sigmoid(model.decode(random_vector)).cpu()\n",
    "    return generated\n",
    "\n",
    "\n",
    "def plot_digit_samples(original, reconstucted, generated):\n",
    "    \"\"\"\n",
    "    Plot samples from the generative network in a grid\n",
    "    \"\"\"\n",
    "\n",
    "    grid_h = 2\n",
    "    grid_w = 5\n",
    "    data_h = 28\n",
    "    data_w = 28\n",
    "    data_c = 1\n",
    "    plt.close()\n",
    "    fig, ax = plt.subplots(ncols=3, figsize=(5, 3), dpi=200)\n",
    "    images_list = [original, reconstucted, generated]\n",
    "    names = ['original', 'reconstructed', 'generated']\n",
    "    for pos in range(3):\n",
    "        # Turn the samples into one large image\n",
    "        tiled_img = np.zeros((data_h * grid_h, data_w * grid_w))\n",
    "\n",
    "        for idx, image in enumerate(images_list[pos]):\n",
    "            i = idx % grid_w\n",
    "            j = idx // grid_w\n",
    "\n",
    "            top = j * data_h\n",
    "            bottom = (j + 1) * data_h\n",
    "            left = i * data_w\n",
    "            right = (i + 1) * data_w\n",
    "            tiled_img[top:bottom, left:right] = image\n",
    "\n",
    "        # Plot the new image\n",
    "        ax[pos].set_title(names[pos])\n",
    "        ax[pos].axis('off')\n",
    "        ax[pos].imshow(tiled_img, cmap='gray')\n",
    "    plt.tight_layout()\n",
    "    plt.show()\n",
    "\n",
    "\n",
    "def get_posterior_samples(model, X, n_samples=1000):\n",
    "    '''\n",
    "    The function returns samples from posterior (from encoder for VAE and IWAE, transitions output for ULA/AIS VAEs)\n",
    "    '''\n",
    "    all_samples = np.array([])\n",
    "    with torch.no_grad():\n",
    "        for x in X:\n",
    "            x = x[None].to(device)\n",
    "            model_samples, mu, logvar = model.enc_rep(x=x, n_samples=n_samples)\n",
    "            if model.name in ['ULA_VAE', 'AIS_VAE']:\n",
    "                model_samples_init = model_samples\n",
    "\n",
    "                model_samples = model.run_transitions(z=model_samples, x=x.repeat(n_samples, 1, 1, 1), mu=mu, logvar=logvar)[0]\n",
    "            if all_samples.shape[0] == 0:\n",
    "                all_samples = model_samples.cpu().numpy()[None]\n",
    "            else:\n",
    "                all_samples = np.concatenate([all_samples, model_samples.cpu().numpy()[None]])\n",
    "    return all_samples\n",
    "\n",
    "def plot_image(x):\n",
    "    '''\n",
    "    The function plots given image (tensor) x\n",
    "    '''\n",
    "    plt.close()\n",
    "    plt.figure()\n",
    "    if x.shape[1] == 1:\n",
    "        plt.imshow(x[0].cpu())\n",
    "    else:\n",
    "        plt.imshow(x.permute((1, 2, 0)).cpu())\n",
    "    plt.tight_layout()\n",
    "    plt.show();\n",
    "    \n",
    "def plot_posterior_samples(samples, labels=None):\n",
    "    '''\n",
    "    The function takes given samples of shape [n_objects, n_samples, dims] and plots them, using different colors\n",
    "    '''\n",
    "    plt.close()\n",
    "    plt.figure()\n",
    "    for i, sampl in enumerate(samples):\n",
    "        plt.scatter(sampl[:, 0], sampl[:, 1], c=colors[i], label=labels[i].item() if labels is not None else None)\n",
    "    plt.axis('equal')\n",
    "    plt.legend()\n",
    "    plt.tight_layout()\n",
    "    plt.show();\n",
    "    \n",
    "def form_objects(indices):\n",
    "    '''\n",
    "    The function forms pairs (object, labels) from given indices\n",
    "    '''\n",
    "    if not isinstance(indices, list):\n",
    "        indices = [indices]\n",
    "    formed_objects = torch.tensor([])\n",
    "    formed_labels = torch.tensor([])\n",
    "    for i in indices:\n",
    "        formed_objects = torch.cat([formed_objects, batch[i][None]])\n",
    "        formed_labels = torch.cat([formed_labels, labels[i][None]])\n",
    "    return formed_objects, formed_labels\n",
    "\n",
    "def plot_pics_manifold(model, n=15):\n",
    "    '''\n",
    "    The function plots manifold, given model\n",
    "    '''\n",
    "    image_size = 28\n",
    "    figure = np.zeros((image_size * n, image_size * n))\n",
    "    grid_x = norm.ppf(np.linspace(0.05, 0.95, n)).astype(np.float32)\n",
    "    grid_y = norm.ppf(np.linspace(0.05, 0.95, n)).astype(np.float32)\n",
    "\n",
    "    for i, yi in enumerate(grid_x):\n",
    "        for j, xi in enumerate(grid_y):\n",
    "            z_sample = torch.tensor(np.array([[xi, yi]]), dtype=torch.float32, device=model.device)\n",
    "            with torch.no_grad():\n",
    "                x_decoded = torch.sigmoid(model.decode(z_sample)).cpu().numpy()\n",
    "            image = x_decoded[0].reshape(image_size, image_size)\n",
    "            figure[i * image_size: (i + 1) * image_size,\n",
    "                   j * image_size: (j + 1) * image_size] = image\n",
    "\n",
    "    plt.figure(figsize=(10, 10))\n",
    "    plt.imshow(figure, cmap='Greys_r')\n",
    "    plt.tight_layout()\n",
    "    plt.show()"
   ]
  },
  {
   "cell_type": "code",
   "execution_count": 10,
   "metadata": {},
   "outputs": [],
   "source": [
    "# x_cond = \n",
    "for full_batch in val_loader:\n",
    "    batch, labels = full_batch\n",
    "    break"
   ]
  },
  {
   "cell_type": "code",
   "execution_count": 11,
   "metadata": {},
   "outputs": [
    {
     "data": {
      "text/plain": [
       "(array([ 0, 11, 35, 47, 65]),)"
      ]
     },
     "execution_count": 11,
     "metadata": {},
     "output_type": "execute_result"
    }
   ],
   "source": [
    "np.where(labels==5)"
   ]
  },
  {
   "cell_type": "code",
   "execution_count": 19,
   "metadata": {},
   "outputs": [
    {
     "data": {
      "application/vnd.jupyter.widget-view+json": {
       "model_id": "fdaffdce266345f89d97f47b9db301c7",
       "version_major": 2,
       "version_minor": 0
      },
      "text/plain": [
       "Canvas(toolbar=Toolbar(toolitems=[('Home', 'Reset original view', 'home', 'home'), ('Back', 'Back to previous …"
      ]
     },
     "metadata": {},
     "output_type": "display_data"
    }
   ],
   "source": [
    "plot_image(batch[0])"
   ]
  },
  {
   "cell_type": "code",
   "execution_count": 23,
   "metadata": {},
   "outputs": [],
   "source": [
    "formed_objects, formed_labels = form_objects([0, 11, 35, 47, 65])"
   ]
  },
  {
   "cell_type": "code",
   "execution_count": 24,
   "metadata": {},
   "outputs": [],
   "source": [
    "posterior_samples = get_posterior_samples(model, formed_objects)"
   ]
  },
  {
   "cell_type": "code",
   "execution_count": 25,
   "metadata": {},
   "outputs": [
    {
     "data": {
      "application/vnd.jupyter.widget-view+json": {
       "model_id": "f324c763936942a19f661277c8ce7b30",
       "version_major": 2,
       "version_minor": 0
      },
      "text/plain": [
       "Canvas(toolbar=Toolbar(toolitems=[('Home', 'Reset original view', 'home', 'home'), ('Back', 'Back to previous …"
      ]
     },
     "metadata": {},
     "output_type": "display_data"
    }
   ],
   "source": [
    "plot_posterior_samples(posterior_samples, labels=formed_labels)"
   ]
  },
  {
   "cell_type": "code",
   "execution_count": 52,
   "metadata": {},
   "outputs": [
    {
     "data": {
      "application/vnd.jupyter.widget-view+json": {
       "model_id": "bd6ee0a6867a4e6fa3c415dcfc7feb2e",
       "version_major": 2,
       "version_minor": 0
      },
      "text/plain": [
       "Canvas(toolbar=Toolbar(toolitems=[('Home', 'Reset original view', 'home', 'home'), ('Back', 'Back to previous …"
      ]
     },
     "metadata": {},
     "output_type": "display_data"
    }
   ],
   "source": [
    "plot_pics_manifold(model, n=50)"
   ]
  },
  {
   "cell_type": "code",
   "execution_count": 15,
   "metadata": {},
   "outputs": [
    {
     "data": {
      "text/plain": [
       "torch.Size([100, 1, 28, 28])"
      ]
     },
     "execution_count": 15,
     "metadata": {},
     "output_type": "execute_result"
    }
   ],
   "source": [
    "batch.shape"
   ]
  },
  {
   "cell_type": "code",
   "execution_count": 16,
   "metadata": {},
   "outputs": [
    {
     "data": {
      "application/vnd.jupyter.widget-view+json": {
       "model_id": "fddd22a67cc74671b87164f2dc6f912c",
       "version_major": 2,
       "version_minor": 0
      },
      "text/plain": [
       "Canvas(toolbar=Toolbar(toolitems=[('Home', 'Reset original view', 'home', 'home'), ('Back', 'Back to previous …"
      ]
     },
     "metadata": {},
     "output_type": "display_data"
    }
   ],
   "source": [
    "reconstructed = reconstruct_image(model, batch[:10], num_samples=1)\n",
    "generated = generate_image(model, random_vector)\n",
    "plot_digit_samples(original=batch[:10], reconstucted=reconstructed, generated=generated)"
   ]
  },
  {
   "cell_type": "code",
   "execution_count": null,
   "metadata": {},
   "outputs": [],
   "source": []
  },
  {
   "cell_type": "code",
   "execution_count": null,
   "metadata": {},
   "outputs": [],
   "source": []
  }
 ],
 "metadata": {
  "kernelspec": {
   "display_name": "Condatorch",
   "language": "python",
   "name": "condatorch"
  },
  "language_info": {
   "codemirror_mode": {
    "name": "ipython",
    "version": 3
   },
   "file_extension": ".py",
   "mimetype": "text/x-python",
   "name": "python",
   "nbconvert_exporter": "python",
   "pygments_lexer": "ipython3",
   "version": "3.8.5"
  }
 },
 "nbformat": 4,
 "nbformat_minor": 4
}
