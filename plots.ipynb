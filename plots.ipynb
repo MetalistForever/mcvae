{
 "cells": [
  {
   "cell_type": "code",
   "execution_count": 1,
   "metadata": {},
   "outputs": [],
   "source": [
    "import numpy as np\n",
    "import matplotlib.pyplot as plt\n",
    "import seaborn as sns\n",
    "\n",
    "%matplotlib widget"
   ]
  },
  {
   "cell_type": "code",
   "execution_count": 2,
   "metadata": {},
   "outputs": [],
   "source": [
    "nll_ula_1 = [88.78, 86.90, 86.41, 86.23, 86.23, 86.13, 86.06, 86.19, 86.07, 85.91]\n",
    "nll_ula_3 = [88.21, 86.57, 86.05, 85.86, 85.94, 85.80, 85.69, 85.79, 85.79, 85.61]\n",
    "nll_ula_5 = [87.67, 85.89, 85.46, 85.30, 85.24, 85.27, 85.29, 85.05, 85.18, 85.02]\n",
    "nll_ula_7 = [88.24, 86.44, 85.70, 85.63, 85.61, 85.50, 85.44, 85.46, 85.38, 85.48]\n",
    "nll_ula_10 = [87.35, 85.76, 85.28, 85.14, 84.83, 85.04, 84.86, 84.86, 84.8, 84.85]"
   ]
  },
  {
   "cell_type": "code",
   "execution_count": 3,
   "metadata": {},
   "outputs": [],
   "source": [
    "nll_iwae_10 = [88.18, 86.61, 85.94, 85.5, 85.24, 85.11, 85.12, 84.88, 85.23, 84.95] # 84.52\n",
    "nll_iwae_10_2 = [88.61, 87.02, 86.08, 85.47, 85.61, 85.13, 84.95, 84.78, 84.96, 84.82]\n",
    "nll_iwae_50 = [89.1, 87.26, 86.53, 85.83, 85.64, 85.47, 85.83, 85.09, 85.35, 84.94]\n",
    "\n",
    "nll_vae = [89.01, 87.26, 86.49, 85.85, 85.58, 85.74, 85.33, 85.29, 85.1, 85.14]"
   ]
  },
  {
   "cell_type": "code",
   "execution_count": 4,
   "metadata": {},
   "outputs": [],
   "source": [
    "nll_vae_cifar = [1818.80, 1816.37, 1815.40, 1814.92, 1814.67, 1814.40, 1814.01, 1813.95, 1813.81, 1813.87]\n",
    "nll_iwae10_cifar = [1819.81, 1816.96, 1816.24, 1815.74, 1815.05, 1814.69, 1814.47, 1814.25, 1813.87, 1814.06]\n",
    "nll_iwae50_cifar = [1819.75, 1817.17, 1815.81, 1815.43, 1815.12, 1814.40, 1814.29, 1814.29, 1813.92, 1814.21]"
   ]
  },
  {
   "cell_type": "code",
   "execution_count": 5,
   "metadata": {},
   "outputs": [],
   "source": [
    "nll_ais_5 = [87.27, 85.13, 84.67, 84.56, 84.54, 84.45, 84.42, 84.38, 84.38, 84.35]"
   ]
  },
  {
   "cell_type": "code",
   "execution_count": 6,
   "metadata": {},
   "outputs": [],
   "source": [
    "nll_ais_3 = [87.14, 85.36, 84.85, 84.79, 84.69, 84.67, 84.58, 84.58, 84.52, 84.5]"
   ]
  },
  {
   "cell_type": "code",
   "execution_count": 18,
   "metadata": {},
   "outputs": [
    {
     "data": {
      "application/vnd.jupyter.widget-view+json": {
       "model_id": "fba549bbee714881b4749a7026680d95",
       "version_major": 2,
       "version_minor": 0
      },
      "text/plain": [
       "Canvas(toolbar=Toolbar(toolitems=[('Home', 'Reset original view', 'home', 'home'), ('Back', 'Back to previous …"
      ]
     },
     "metadata": {},
     "output_type": "display_data"
    }
   ],
   "source": [
    "plt.close()\n",
    "plt.figure(figsize=(5, 3), dpi=200)\n",
    "plt.plot([1, 3, 5, 10], -1 * np.array([nll_ula_1[-1], nll_ula_3[-1], nll_ula_5[-1], nll_ula_10[-1]]), '-o', label='L-MCVAE')\n",
    "# plt.hlines(-nll_vae[-1], -10, 10, linestyle='--', color='red', label='VAE')\n",
    "plt.hlines(-nll_iwae_10[-1], -10, 10, linestyle='--', color='green', label='IWAE')\n",
    "plt.xlabel('Transitions')\n",
    "plt.ylabel('Log likelihood')\n",
    "plt.xlim(1, 10)\n",
    "plt.xticks([1, 3, 5, 10])\n",
    "plt.grid()\n",
    "plt.legend()\n",
    "plt.tight_layout();\n",
    "plt.savefig('nll.pdf', format='pdf')"
   ]
  },
  {
   "cell_type": "code",
   "execution_count": 16,
   "metadata": {},
   "outputs": [
    {
     "data": {
      "application/vnd.jupyter.widget-view+json": {
       "model_id": "fd4373d0512a4518a054c68f254b7b1e",
       "version_major": 2,
       "version_minor": 0
      },
      "text/plain": [
       "Canvas(toolbar=Toolbar(toolitems=[('Home', 'Reset original view', 'home', 'home'), ('Back', 'Back to previous …"
      ]
     },
     "metadata": {},
     "output_type": "display_data"
    }
   ],
   "source": [
    "plt.close()\n",
    "plt.figure(figsize=(5, 3), dpi=200)\n",
    "plt.plot(10 * np.arange(10), -np.array(nll_ula_10), '-o', label='L-MCVAE')\n",
    "plt.plot(10 * np.arange(10), -np.array(nll_ais_5), '-o', label='A-MCVAE')\n",
    "plt.plot(10 * np.arange(10), -np.array(nll_vae), '-o', label='VAE', color='red')\n",
    "plt.plot(10 * np.arange(10), -np.array(nll_iwae_10), '-o', label='IWAE', color='green')\n",
    "plt.xlabel('Epoch')\n",
    "plt.ylabel('Log likelihood')\n",
    "plt.grid()\n",
    "plt.legend()\n",
    "plt.tight_layout();\n",
    "plt.savefig('nll_training.pdf', format='pdf')"
   ]
  },
  {
   "cell_type": "code",
   "execution_count": null,
   "metadata": {},
   "outputs": [],
   "source": []
  },
  {
   "cell_type": "code",
   "execution_count": null,
   "metadata": {},
   "outputs": [],
   "source": []
  },
  {
   "cell_type": "code",
   "execution_count": null,
   "metadata": {},
   "outputs": [],
   "source": []
  },
  {
   "cell_type": "markdown",
   "metadata": {},
   "source": [
    "## Toy experiment results"
   ]
  },
  {
   "cell_type": "code",
   "execution_count": 2,
   "metadata": {},
   "outputs": [],
   "source": [
    "results = {\"vae\": [35.93205261230469, 40.811927795410156, 41.276123046875, 39.444923400878906, 38.49256134033203, 38.366455078125, 40.23199462890625, 42.184730529785156, 45.39942932128906], \"iwae\": [7.292807579040527, 8.863018989562988, 10.818889617919922, 13.202258110046387, 18.657751083374023, 24.302963256835938, 28.635988235473633, 32.38014221191406, 38.702056884765625], \"ula\": [12.949514389038086, 13.45137882232666, 13.762989044189453, 14.0269136428833, 14.376235008239746, 14.560166358947754, 14.641260147094727, 14.68917465209961, 14.739206314086914], \"ais\": [13.993948936462402, 14.59650993347168, 14.867197036743164, 15.323493003845215, 17.934425354003906, 15.805609703063965, 15.087540626525879, 21.555500030517578, 20.411970138549805], \"flow\": [24.579124450683594, 102.99466705322266, 41.37825012207031, 51.73381042480469, 66.15017700195312, 88.79150390625, 109.56078338623047, 136.41358947753906, 162.86868286132812]}"
   ]
  },
  {
   "cell_type": "code",
   "execution_count": 3,
   "metadata": {},
   "outputs": [],
   "source": [
    "alphas = {\"vae\": [2.6427066326141357, 2.7843499183654785, 3.0197935104370117, 3.33316969871521, 3.7817001342773438, 4.082568168640137, 4.244946002960205, 4.351256370544434, 4.485596656799316], \"iwae\": [4.069727897644043, 4.023739337921143, 4.031833648681641, 4.097207069396973, 4.211974620819092, 4.337185382843018, 4.419699192047119, 4.476807117462158, 4.563759803771973], \"ula\": [3.083674907684326, 3.074263095855713, 3.076519012451172, 3.0767555236816406, 3.0666048526763916, 3.064457416534424, 3.064497470855713, 3.065133810043335, 3.0661728382110596], \"ais\": [2.905139446258545, 2.9267547130584717, 2.9330174922943115, 2.890611171722412, 2.491800546646118, 2.66322660446167, 2.459796905517578, 1.7698032855987549, 1.8766822814941406], \"flow\": [3.0711591243743896, 1.975581407546997, 3.0906310081481934, 3.205831527709961, 3.441910982131958, 3.603797674179077, 3.692031145095825, 3.70945405960083, 3.8325319290161133]}"
   ]
  },
  {
   "cell_type": "code",
   "execution_count": 15,
   "metadata": {},
   "outputs": [],
   "source": [
    "betas = {\"vae\": [6.762243747711182, 7.345098495483398, 7.534111976623535, 7.544576644897461, 7.6775994300842285, 7.789968967437744, 8.006461143493652, 8.200998306274414, 8.493697166442871], \"iwae\": [3.5470659732818604, 3.9385361671447754, 4.397979259490967, 4.902370929718018, 5.790493011474609, 6.529464244842529, 7.0163140296936035, 7.396029949188232, 7.97876501083374], \"ula\": [3.6470112800598145, 3.776005506515503, 3.8655505180358887, 3.9353864192962646, 4.007447242736816, 4.049379348754883, 4.069131851196289, 4.081662178039551, 4.095241069793701], \"ais\": [3.6070950031280518, 3.825070381164551, 3.9088141918182373, 3.9529292583465576, 3.8867502212524414, 3.6436264514923096, 2.685011386871338, 3.0885236263275146, 2.9973461627960205], \"flow\": [5.77650785446167, 11.189081192016602, 7.584428787231445, 8.501053810119629, 9.620848655700684, 11.033957481384277, 12.141336441040039, 13.392518997192383, 14.524495124816895]}"
   ]
  },
  {
   "cell_type": "code",
   "execution_count": 4,
   "metadata": {},
   "outputs": [],
   "source": [
    "d = [2, 5, 10, 20, 50, 100, 150, 200, 300]"
   ]
  },
  {
   "cell_type": "code",
   "execution_count": null,
   "metadata": {},
   "outputs": [],
   "source": []
  },
  {
   "cell_type": "code",
   "execution_count": 10,
   "metadata": {},
   "outputs": [],
   "source": [
    "def plot_toy_results(res_dict, name):\n",
    "    plt.close()\n",
    "    plt.figure(dpi=200, figsize=(5, 4))\n",
    "\n",
    "    for i, (k, v) in enumerate(res_dict.items()):\n",
    "        plt.plot(d, res_dict[k], '-o', color=colors[i], label=k)\n",
    "    if name == 'alpha':\n",
    "        plt.hlines(2*np.pi, d[0], d[-1], linestyle='--', color='green', label='True alpha')\n",
    "    if name == 'beta':\n",
    "        plt.hlines(2, d[0], d[-1], linestyle='--', color='green', label='True beta')\n",
    "    \n",
    "    plt.legend()\n",
    "    plt.tight_layout()\n",
    "    plt.show();"
   ]
  },
  {
   "cell_type": "code",
   "execution_count": 17,
   "metadata": {},
   "outputs": [
    {
     "data": {
      "application/vnd.jupyter.widget-view+json": {
       "model_id": "2d1fd6b433744303aca110caeb75591d",
       "version_major": 2,
       "version_minor": 0
      },
      "text/plain": [
       "Canvas(toolbar=Toolbar(toolitems=[('Home', 'Reset original view', 'home', 'home'), ('Back', 'Back to previous …"
      ]
     },
     "metadata": {},
     "output_type": "display_data"
    }
   ],
   "source": [
    "plot_toy_results(results, 'results')"
   ]
  },
  {
   "cell_type": "code",
   "execution_count": 18,
   "metadata": {},
   "outputs": [
    {
     "data": {
      "application/vnd.jupyter.widget-view+json": {
       "model_id": "9db80a669d3d464281befe144007b027",
       "version_major": 2,
       "version_minor": 0
      },
      "text/plain": [
       "Canvas(toolbar=Toolbar(toolitems=[('Home', 'Reset original view', 'home', 'home'), ('Back', 'Back to previous …"
      ]
     },
     "metadata": {},
     "output_type": "display_data"
    }
   ],
   "source": [
    "plot_toy_results(alphas, 'alpha')"
   ]
  },
  {
   "cell_type": "code",
   "execution_count": 19,
   "metadata": {},
   "outputs": [
    {
     "data": {
      "application/vnd.jupyter.widget-view+json": {
       "model_id": "b3b39e8b38984b198b96f1c1e0a734a0",
       "version_major": 2,
       "version_minor": 0
      },
      "text/plain": [
       "Canvas(toolbar=Toolbar(toolitems=[('Home', 'Reset original view', 'home', 'home'), ('Back', 'Back to previous …"
      ]
     },
     "metadata": {},
     "output_type": "display_data"
    }
   ],
   "source": [
    "plot_toy_results(betas, 'beta')"
   ]
  },
  {
   "cell_type": "code",
   "execution_count": null,
   "metadata": {},
   "outputs": [],
   "source": []
  },
  {
   "cell_type": "code",
   "execution_count": null,
   "metadata": {},
   "outputs": [],
   "source": []
  },
  {
   "cell_type": "code",
   "execution_count": null,
   "metadata": {},
   "outputs": [],
   "source": []
  },
  {
   "cell_type": "markdown",
   "metadata": {},
   "source": [
    "## Experiments on 2d models."
   ]
  },
  {
   "cell_type": "code",
   "execution_count": 5,
   "metadata": {},
   "outputs": [],
   "source": [
    "import os\n",
    "import torch\n",
    "import torch.nn as nn\n",
    "import torch.nn.functional as F\n",
    "import torchvision\n",
    "from torch.utils.data import Dataset, DataLoader\n",
    "import matplotlib.pyplot as plt\n",
    "import seaborn as sns\n",
    "from utils import make_dataloaders\n",
    "from models.vaes import Base, VAE, IWAE, AIS_VAE, ULA_VAE, Stacked_VAE, VAE_with_flows\n",
    "from models.samplers import HMC, MALA, ULA, run_chain\n",
    "import yaml\n",
    "import numpy as np\n",
    "from scipy.stats import norm\n",
    "\n",
    "import pytorch_lightning as pl\n",
    "from pytorch_lightning import loggers as pl_loggers\n",
    "\n",
    "%matplotlib widget\n",
    "\n",
    "colors = {\n",
    "    0: 'blue',\n",
    "    1: 'red',\n",
    "    2: 'green',\n",
    "    3: 'yellow',\n",
    "    4: 'black',\n",
    "    5: 'orange',\n",
    "}"
   ]
  },
  {
   "cell_type": "code",
   "execution_count": 3,
   "metadata": {},
   "outputs": [],
   "source": [
    "device = torch.device('cuda:1' if torch.cuda.is_available() else 'cpu')"
   ]
  },
  {
   "cell_type": "code",
   "execution_count": 4,
   "metadata": {},
   "outputs": [
    {
     "name": "stderr",
     "output_type": "stream",
     "text": [
      "/home/nkotelevskii/anaconda3/envs/condatorch/lib/python3.8/site-packages/torchvision/datasets/mnist.py:58: UserWarning: train_data has been renamed data\n",
      "  warnings.warn(\"train_data has been renamed data\")\n",
      "/home/nkotelevskii/anaconda3/envs/condatorch/lib/python3.8/site-packages/torchvision/datasets/mnist.py:48: UserWarning: train_labels has been renamed targets\n",
      "  warnings.warn(\"train_labels has been renamed targets\")\n",
      "/home/nkotelevskii/anaconda3/envs/condatorch/lib/python3.8/site-packages/torchvision/datasets/mnist.py:63: UserWarning: test_data has been renamed data\n",
      "  warnings.warn(\"test_data has been renamed data\")\n",
      "/home/nkotelevskii/anaconda3/envs/condatorch/lib/python3.8/site-packages/torchvision/datasets/mnist.py:53: UserWarning: test_labels has been renamed targets\n",
      "  warnings.warn(\"test_labels has been renamed targets\")\n"
     ]
    }
   ],
   "source": [
    "train_loader, val_loader = make_dataloaders(dataset='mnist', batch_size=100, val_batch_size=100, binarize=True)"
   ]
  },
  {
   "cell_type": "code",
   "execution_count": 20,
   "metadata": {},
   "outputs": [],
   "source": [
    "version = 269"
   ]
  },
  {
   "cell_type": "code",
   "execution_count": 6,
   "metadata": {},
   "outputs": [],
   "source": [
    "# 268 - IWAE\n",
    "# 269 - VAE\n",
    "# 616 -- AIS_VAE with alpha annealing\n",
    "# 617 -- ULA_VAE with alpha annealing"
   ]
  },
  {
   "cell_type": "code",
   "execution_count": 21,
   "metadata": {},
   "outputs": [],
   "source": [
    "def load_model(version):\n",
    "    with open(f'lightning_logs/default/version_{version}/hparams.yaml') as file:\n",
    "        fruits_list = yaml.load(file, Loader=yaml.FullLoader)\n",
    "        print(fruits_list)\n",
    "        hparams = fruits_list\n",
    "        \n",
    "    path = f'lightning_logs/default/version_{version}/checkpoints/'\n",
    "    file_name = os.listdir(path)[0]\n",
    "    checkpoint = torch.load(f'{path}{file_name}')\n",
    "    \n",
    "    for current_model in [VAE, IWAE, ULA_VAE, AIS_VAE]:\n",
    "        try:\n",
    "            model = current_model(**hparams).to(device)\n",
    "            model.load_state_dict(checkpoint['state_dict'])\n",
    "        except:\n",
    "            pass\n",
    "        else:\n",
    "            print(f'loaded {model.name}')\n",
    "            return model"
   ]
  },
  {
   "cell_type": "code",
   "execution_count": 22,
   "metadata": {},
   "outputs": [
    {
     "name": "stdout",
     "output_type": "stream",
     "text": [
      "{'act_func': <class 'torch.nn.modules.activation.GELU'>, 'dataset': 'mnist', 'hidden_dim': 2, 'name': 'VAE', 'net_type': 'conv', 'num_samples': 1, 'shape': 28}\n",
      "loaded VAE\n"
     ]
    }
   ],
   "source": [
    "model = load_model(version=version)"
   ]
  },
  {
   "cell_type": "code",
   "execution_count": null,
   "metadata": {},
   "outputs": [],
   "source": []
  },
  {
   "cell_type": "code",
   "execution_count": 9,
   "metadata": {},
   "outputs": [],
   "source": [
    "random_vector = torch.randn((10, model.hidden_dim)).to(device)\n",
    "\n",
    "def reconstruct_image(model, pics, num_samples=50):\n",
    "    '''\n",
    "    Function to reconstruct given images\n",
    "    '''\n",
    "    with torch.no_grad():\n",
    "        z = get_posterior_samples(model, pics.to(device), n_samples=1)\n",
    "        z = torch.tensor(z, device=device, dtype=torch.float32)\n",
    "        pics_rec = torch.sigmoid(model.decode(z)).cpu()\n",
    "    return pics_rec\n",
    "\n",
    "## And let us write a function to generate images:\n",
    "def generate_image(model, random_vector):\n",
    "    with torch.no_grad():\n",
    "        generated = torch.sigmoid(model.decode(random_vector)).cpu()\n",
    "    return generated\n",
    "\n",
    "\n",
    "def plot_digit_samples(original, reconstucted, generated):\n",
    "    \"\"\"\n",
    "    Plot samples from the generative network in a grid\n",
    "    \"\"\"\n",
    "\n",
    "    grid_h = 2\n",
    "    grid_w = 5\n",
    "    data_h = 28\n",
    "    data_w = 28\n",
    "    data_c = 1\n",
    "    plt.close()\n",
    "    fig, ax = plt.subplots(ncols=3, figsize=(5, 3), dpi=200)\n",
    "    images_list = [original, reconstucted, generated]\n",
    "    names = ['original', 'reconstructed', 'generated']\n",
    "    for pos in range(3):\n",
    "        # Turn the samples into one large image\n",
    "        tiled_img = np.zeros((data_h * grid_h, data_w * grid_w))\n",
    "\n",
    "        for idx, image in enumerate(images_list[pos]):\n",
    "            i = idx % grid_w\n",
    "            j = idx // grid_w\n",
    "\n",
    "            top = j * data_h\n",
    "            bottom = (j + 1) * data_h\n",
    "            left = i * data_w\n",
    "            right = (i + 1) * data_w\n",
    "            tiled_img[top:bottom, left:right] = image\n",
    "\n",
    "        # Plot the new image\n",
    "        ax[pos].set_title(names[pos])\n",
    "        ax[pos].axis('off')\n",
    "        ax[pos].imshow(tiled_img, cmap='gray')\n",
    "    plt.tight_layout()\n",
    "    plt.show()\n",
    "\n",
    "\n",
    "def get_posterior_samples(model, X, n_samples=1000):\n",
    "    '''\n",
    "    The function returns samples from posterior (from encoder for VAE and IWAE, transitions output for ULA/AIS VAEs)\n",
    "    '''\n",
    "    all_samples = np.array([])\n",
    "    with torch.no_grad():\n",
    "        for x in X:\n",
    "            x = x[None].to(device)\n",
    "            model_samples, mu, logvar = model.enc_rep(x=x, n_samples=n_samples)\n",
    "            if model.name in ['ULA_VAE', 'AIS_VAE']:\n",
    "                model_samples_init = model_samples\n",
    "\n",
    "                model_samples = model.run_transitions(z=model_samples, x=x.repeat(n_samples, 1, 1, 1), mu=mu, logvar=logvar)[0]\n",
    "            if all_samples.shape[0] == 0:\n",
    "                all_samples = model_samples.cpu().numpy()[None]\n",
    "            else:\n",
    "                all_samples = np.concatenate([all_samples, model_samples.cpu().numpy()[None]])\n",
    "    return all_samples\n",
    "\n",
    "def plot_image(x):\n",
    "    '''\n",
    "    The function plots given image (tensor) x\n",
    "    '''\n",
    "    plt.close()\n",
    "    plt.figure()\n",
    "    if x.shape[1] == 1:\n",
    "        plt.imshow(x[0].cpu())\n",
    "    else:\n",
    "        plt.imshow(x.permute((1, 2, 0)).cpu())\n",
    "    plt.tight_layout()\n",
    "    plt.show();\n",
    "    \n",
    "def plot_posterior_samples(samples, labels=None):\n",
    "    '''\n",
    "    The function takes given samples of shape [n_objects, n_samples, dims] and plots them, using different colors\n",
    "    '''\n",
    "    plt.close()\n",
    "    plt.figure()\n",
    "    for i, sampl in enumerate(samples):\n",
    "        plt.scatter(sampl[:, 0], sampl[:, 1], c=colors[i], label=labels[i].item() if labels is not None else None)\n",
    "    plt.axis('equal')\n",
    "    plt.legend()\n",
    "    plt.tight_layout()\n",
    "    plt.show();\n",
    "    \n",
    "def form_objects(indices):\n",
    "    '''\n",
    "    The function forms pairs (object, labels) from given indices\n",
    "    '''\n",
    "    if not isinstance(indices, list):\n",
    "        indices = [indices]\n",
    "    formed_objects = torch.tensor([])\n",
    "    formed_labels = torch.tensor([])\n",
    "    for i in indices:\n",
    "        formed_objects = torch.cat([formed_objects, batch[i][None]])\n",
    "        formed_labels = torch.cat([formed_labels, labels[i][None]])\n",
    "    return formed_objects, formed_labels\n",
    "\n",
    "def plot_pics_manifold(model, n=15):\n",
    "    '''\n",
    "    The function plots manifold, given model\n",
    "    '''\n",
    "    image_size = 28\n",
    "    figure = np.zeros((image_size * n, image_size * n))\n",
    "    grid_x = norm.ppf(np.linspace(0.05, 0.95, n)).astype(np.float32)\n",
    "    grid_y = norm.ppf(np.linspace(0.05, 0.95, n)).astype(np.float32)\n",
    "\n",
    "    for i, yi in enumerate(grid_x):\n",
    "        for j, xi in enumerate(grid_y):\n",
    "            z_sample = torch.tensor(np.array([[xi, yi]]), dtype=torch.float32, device=model.device)\n",
    "            with torch.no_grad():\n",
    "                x_decoded = torch.sigmoid(model.decode(z_sample)).cpu().numpy()\n",
    "            image = x_decoded[0].reshape(image_size, image_size)\n",
    "            figure[i * image_size: (i + 1) * image_size,\n",
    "                   j * image_size: (j + 1) * image_size] = image\n",
    "\n",
    "    plt.figure(figsize=(10, 10))\n",
    "    plt.imshow(figure, cmap='Greys_r')\n",
    "    plt.tight_layout()\n",
    "    plt.show()"
   ]
  },
  {
   "cell_type": "code",
   "execution_count": 10,
   "metadata": {},
   "outputs": [],
   "source": [
    "# x_cond = \n",
    "for full_batch in val_loader:\n",
    "    batch, labels = full_batch\n",
    "    break"
   ]
  },
  {
   "cell_type": "code",
   "execution_count": 11,
   "metadata": {},
   "outputs": [
    {
     "data": {
      "text/plain": [
       "(array([ 0, 11, 35, 47, 65]),)"
      ]
     },
     "execution_count": 11,
     "metadata": {},
     "output_type": "execute_result"
    }
   ],
   "source": [
    "np.where(labels==5)"
   ]
  },
  {
   "cell_type": "code",
   "execution_count": 19,
   "metadata": {},
   "outputs": [
    {
     "data": {
      "application/vnd.jupyter.widget-view+json": {
       "model_id": "fdaffdce266345f89d97f47b9db301c7",
       "version_major": 2,
       "version_minor": 0
      },
      "text/plain": [
       "Canvas(toolbar=Toolbar(toolitems=[('Home', 'Reset original view', 'home', 'home'), ('Back', 'Back to previous …"
      ]
     },
     "metadata": {},
     "output_type": "display_data"
    }
   ],
   "source": [
    "plot_image(batch[0])"
   ]
  },
  {
   "cell_type": "code",
   "execution_count": 23,
   "metadata": {},
   "outputs": [],
   "source": [
    "formed_objects, formed_labels = form_objects([0, 11, 35, 47, 65])"
   ]
  },
  {
   "cell_type": "code",
   "execution_count": 24,
   "metadata": {},
   "outputs": [],
   "source": [
    "posterior_samples = get_posterior_samples(model, formed_objects)"
   ]
  },
  {
   "cell_type": "code",
   "execution_count": 25,
   "metadata": {},
   "outputs": [
    {
     "data": {
      "application/vnd.jupyter.widget-view+json": {
       "model_id": "f324c763936942a19f661277c8ce7b30",
       "version_major": 2,
       "version_minor": 0
      },
      "text/plain": [
       "Canvas(toolbar=Toolbar(toolitems=[('Home', 'Reset original view', 'home', 'home'), ('Back', 'Back to previous …"
      ]
     },
     "metadata": {},
     "output_type": "display_data"
    }
   ],
   "source": [
    "plot_posterior_samples(posterior_samples, labels=formed_labels)"
   ]
  },
  {
   "cell_type": "code",
   "execution_count": 52,
   "metadata": {},
   "outputs": [
    {
     "data": {
      "application/vnd.jupyter.widget-view+json": {
       "model_id": "bd6ee0a6867a4e6fa3c415dcfc7feb2e",
       "version_major": 2,
       "version_minor": 0
      },
      "text/plain": [
       "Canvas(toolbar=Toolbar(toolitems=[('Home', 'Reset original view', 'home', 'home'), ('Back', 'Back to previous …"
      ]
     },
     "metadata": {},
     "output_type": "display_data"
    }
   ],
   "source": [
    "plot_pics_manifold(model, n=50)"
   ]
  },
  {
   "cell_type": "code",
   "execution_count": 15,
   "metadata": {},
   "outputs": [
    {
     "data": {
      "text/plain": [
       "torch.Size([100, 1, 28, 28])"
      ]
     },
     "execution_count": 15,
     "metadata": {},
     "output_type": "execute_result"
    }
   ],
   "source": [
    "batch.shape"
   ]
  },
  {
   "cell_type": "code",
   "execution_count": 16,
   "metadata": {},
   "outputs": [
    {
     "data": {
      "application/vnd.jupyter.widget-view+json": {
       "model_id": "fddd22a67cc74671b87164f2dc6f912c",
       "version_major": 2,
       "version_minor": 0
      },
      "text/plain": [
       "Canvas(toolbar=Toolbar(toolitems=[('Home', 'Reset original view', 'home', 'home'), ('Back', 'Back to previous …"
      ]
     },
     "metadata": {},
     "output_type": "display_data"
    }
   ],
   "source": [
    "reconstructed = reconstruct_image(model, batch[:10], num_samples=1)\n",
    "generated = generate_image(model, random_vector)\n",
    "plot_digit_samples(original=batch[:10], reconstucted=reconstructed, generated=generated)"
   ]
  },
  {
   "cell_type": "code",
   "execution_count": null,
   "metadata": {},
   "outputs": [],
   "source": []
  },
  {
   "cell_type": "code",
   "execution_count": null,
   "metadata": {},
   "outputs": [],
   "source": []
  }
 ],
 "metadata": {
  "kernelspec": {
   "display_name": "Condatorch",
   "language": "python",
   "name": "condatorch"
  },
  "language_info": {
   "codemirror_mode": {
    "name": "ipython",
    "version": 3
   },
   "file_extension": ".py",
   "mimetype": "text/x-python",
   "name": "python",
   "nbconvert_exporter": "python",
   "pygments_lexer": "ipython3",
   "version": "3.8.5"
  }
 },
 "nbformat": 4,
 "nbformat_minor": 4
}
