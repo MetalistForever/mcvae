{
 "cells": [
  {
   "cell_type": "code",
   "execution_count": 2,
   "metadata": {},
   "outputs": [],
   "source": [
    "import numpy as np\n",
    "import matplotlib.pyplot as plt\n",
    "import seaborn as sns\n",
    "\n",
    "%matplotlib widget\n",
    "\n",
    "colors = {\n",
    "    0: 'blue',\n",
    "    1: 'red',\n",
    "    2: 'green',\n",
    "    3: 'yellow',\n",
    "    4: 'black',\n",
    "    5: 'orange',\n",
    "}"
   ]
  },
  {
   "cell_type": "code",
   "execution_count": 10,
   "metadata": {},
   "outputs": [],
   "source": [
    "nll_ula_1 = [88.78, 86.90, 86.41, 86.23, 86.23, 86.13, 86.06, 86.19, 86.07, 85.91]\n",
    "nll_ula_3 = [88.21, 86.57, 86.05, 85.86, 85.94, 85.80, 85.69, 85.79, 85.79, 85.61]\n",
    "nll_ula_5 = [87.75, 85.57, 84.99, 84.85, 84.8, 84.75, 84.69, 84.65, 84.6, 84.59]\n",
    "nll_ula_7 = [88.24, 86.44, 85.70, 85.63, 85.61, 85.50, 85.44, 85.46, 85.38, 85.48]\n",
    "nll_ula_10 = [91.34, 85.81, 84.86, 84.54, 84.38, 84.29, 84.25, 84.18, 84.11, 84.05]\n",
    "nll_ais_5 = [87.27, 85.13, 84.67, 84.56, 84.54, 84.45, 84.42, 84.38, 84.38, 84.35]\n",
    "nll_iwae_10 = [88.18, 86.61, 85.94, 85.5, 85.24, 85.11, 85.12, 84.88, 85.23, 84.95]\n",
    "nll_vae = [89.01, 87.26, 86.49, 85.85, 85.58, 85.74, 85.33, 85.29, 85.1, 85.14]"
   ]
  },
  {
   "cell_type": "code",
   "execution_count": null,
   "metadata": {},
   "outputs": [],
   "source": []
  },
  {
   "cell_type": "code",
   "execution_count": null,
   "metadata": {},
   "outputs": [],
   "source": []
  },
  {
   "cell_type": "code",
   "execution_count": 11,
   "metadata": {},
   "outputs": [
    {
     "data": {
      "application/vnd.jupyter.widget-view+json": {
       "model_id": "d7866df2aeb3426da31f06277a471fa3",
       "version_major": 2,
       "version_minor": 0
      },
      "text/plain": [
       "Canvas(toolbar=Toolbar(toolitems=[('Home', 'Reset original view', 'home', 'home'), ('Back', 'Back to previous …"
      ]
     },
     "metadata": {},
     "output_type": "display_data"
    }
   ],
   "source": [
    "plt.close()\n",
    "plt.figure(figsize=(5, 3), dpi=200)\n",
    "plt.plot([1, 3, 5, 10], -1 * np.array([nll_ula_1[-1], nll_ula_3[-1], nll_ula_5[-1], nll_ula_10[-1]]), '-o', label='L-MCVAE')\n",
    "# plt.hlines(-nll_vae[-1], -10, 10, linestyle='--', color='red', label='VAE')\n",
    "plt.hlines(-nll_iwae_10[-1], -10, 10, linestyle='--', color='green', label='IWAE')\n",
    "plt.xlabel('Transitions')\n",
    "plt.ylabel('Log likelihood')\n",
    "plt.xlim(1, 10)\n",
    "plt.xticks([1, 3, 5, 10])\n",
    "plt.grid()\n",
    "plt.legend()\n",
    "plt.tight_layout();\n",
    "plt.savefig('nll.pdf', format='pdf')"
   ]
  },
  {
   "cell_type": "code",
   "execution_count": 12,
   "metadata": {},
   "outputs": [
    {
     "data": {
      "application/vnd.jupyter.widget-view+json": {
       "model_id": "e556051ef4dc4c81aa8f56ae8651e21b",
       "version_major": 2,
       "version_minor": 0
      },
      "text/plain": [
       "Canvas(toolbar=Toolbar(toolitems=[('Home', 'Reset original view', 'home', 'home'), ('Back', 'Back to previous …"
      ]
     },
     "metadata": {},
     "output_type": "display_data"
    }
   ],
   "source": [
    "plt.close()\n",
    "plt.figure(figsize=(5, 3), dpi=200)\n",
    "plt.plot(10 * np.arange(10), -np.array(nll_ula_10), '-o', label='L-MCVAE')\n",
    "plt.plot(10 * np.arange(10), -np.array(nll_ais_5), '-o', label='A-MCVAE')\n",
    "plt.plot(10 * np.arange(10), -np.array(nll_vae), '-o', label='VAE', color='red')\n",
    "plt.plot(10 * np.arange(10), -np.array(nll_iwae_10), '-o', label='IWAE', color='green')\n",
    "plt.xlabel('Epoch')\n",
    "plt.ylabel('Log likelihood')\n",
    "plt.grid()\n",
    "plt.legend()\n",
    "plt.tight_layout();\n",
    "plt.savefig('nll_training.pdf', format='pdf')"
   ]
  },
  {
   "cell_type": "code",
   "execution_count": null,
   "metadata": {},
   "outputs": [],
   "source": []
  },
  {
   "cell_type": "code",
   "execution_count": null,
   "metadata": {},
   "outputs": [],
   "source": []
  },
  {
   "cell_type": "markdown",
   "metadata": {},
   "source": [
    "## Toy experiment results"
   ]
  },
  {
   "cell_type": "code",
   "execution_count": 23,
   "metadata": {},
   "outputs": [],
   "source": [
    "results_1 = {\"VAE\": [9.489044189453125, 9.711420059204102, 10.056703567504883, 10.633390426635742, 11.764986991882324, 12.824366569519043, 13.429542541503906, 13.930651664733887, 14.568775177001953],\n",
    "           \"IWAE\": [9.260887145996094, 9.484344482421875, 9.800859451293945, 10.299237251281738, 11.279234886169434, 12.27293586730957, 12.865394592285156, 13.34280776977539, 13.9927396774292],\n",
    "           \"L-MCVAE\": [9.118996620178223, 9.779533386230469, 10.703795433044434, 11.948686599731445, 12.583515167236328, 12.750625610351562, 13.204946517944336, 13.45518970489502, 14.006021499633789],\n",
    "           \"A-MCVAE\": [9.477715492248535, 10.238903999328613, 10.92711353302002, 11.494034767150879, 11.984244346618652, 12.451560974121094, 12.83547592163086, 13.128182411193848, 13.572105407714844],\n",
    "           \"RealNVP\": [9.16185188293457, 9.263143539428711, 9.77042293548584, 10.42081356048584, 11.439085006713867, 12.361296653747559, 12.80470085144043, 13.213519096374512, 13.697720527648926]}\n",
    "\n",
    "results_2 = {\"VAE\": [9.493705749511719, 9.701668739318848, 10.045796394348145, 10.639776229858398, 11.752975463867188, 12.805204391479492, 13.470074653625488, 13.913134574890137, 14.54239273071289],\n",
    "             \"IWAE\": [9.25584888458252, 9.485640525817871, 9.802783966064453, 10.294944763183594, 11.281732559204102, 12.254979133605957, 12.89520263671875, 13.322216033935547, 13.982027053833008],\n",
    "             \"L-MCVAE\": [9.07470989227295, 9.739128112792969, 10.556217193603516, 11.601243019104004, 12.140865325927734, 12.699372291564941, 13.06157112121582, 13.351716041564941, 13.810168266296387],\n",
    "             \"A-MCVAE\": [9.47760009765625, 10.164642333984375, 10.851320266723633, 11.483282089233398, 11.960285186767578, 12.38040542602539, 12.752954483032227, 13.02871036529541, 13.50217342376709],\n",
    "             \"RealNVP\": [9.025328636169434, 9.336747169494629, 9.708237648010254, 10.51171588897705, 11.476402282714844, 12.332413673400879, 12.842178344726562, 13.172000885009766, 13.764944076538086]}\n",
    "\n",
    "results_3 = {\"VAE\": [9.48486328125, 9.704404830932617, 10.052456855773926, 10.636529922485352, 11.755521774291992, 12.804656028747559, 13.4847993850708, 13.919256210327148, 14.539115905761719],\n",
    "             \"IWAE\": [9.262287139892578, 9.481062889099121, 9.79034423828125, 10.290452003479004, 11.292509078979492, 12.265210151672363, 12.907247543334961, 13.338055610656738, 13.97021198272705],\n",
    "             \"L-MCVAE\": [8.893909454345703, 9.749399185180664, 10.534564018249512, 11.59321403503418, 12.199453353881836, 12.487322807312012, 13.016782760620117, 13.312922477722168, 13.781850814819336],\n",
    "             \"A-MCVAE\": [9.472931861877441, 10.166595458984375, 10.834027290344238, 11.481038093566895, 11.947053909301758, 12.401407241821289, 12.759431838989258, 13.043220520019531, 13.493891716003418],\n",
    "             \"RealNVP\": [9.15990161895752, 9.166138648986816, 9.784193992614746, 10.475387573242188, 11.593122482299805, 12.365421295166016, 12.760961532592773, 13.155716896057129, 13.6983060836792]}"
   ]
  },
  {
   "cell_type": "code",
   "execution_count": 24,
   "metadata": {},
   "outputs": [],
   "source": [
    "import pandas as pd"
   ]
  },
  {
   "cell_type": "code",
   "execution_count": 25,
   "metadata": {},
   "outputs": [],
   "source": [
    "r1 = pd.DataFrame.from_dict(results_1)\n",
    "r2 = pd.DataFrame.from_dict(results_2)\n",
    "r3 = pd.DataFrame.from_dict(results_3)"
   ]
  },
  {
   "cell_type": "code",
   "execution_count": 27,
   "metadata": {},
   "outputs": [],
   "source": [
    "means = (r1 + r2 + r3) / 3."
   ]
  },
  {
   "cell_type": "code",
   "execution_count": 28,
   "metadata": {},
   "outputs": [
    {
     "data": {
      "text/html": [
       "<div>\n",
       "<style scoped>\n",
       "    .dataframe tbody tr th:only-of-type {\n",
       "        vertical-align: middle;\n",
       "    }\n",
       "\n",
       "    .dataframe tbody tr th {\n",
       "        vertical-align: top;\n",
       "    }\n",
       "\n",
       "    .dataframe thead th {\n",
       "        text-align: right;\n",
       "    }\n",
       "</style>\n",
       "<table border=\"1\" class=\"dataframe\">\n",
       "  <thead>\n",
       "    <tr style=\"text-align: right;\">\n",
       "      <th></th>\n",
       "      <th>VAE</th>\n",
       "      <th>IWAE</th>\n",
       "      <th>L-MCVAE</th>\n",
       "      <th>A-MCVAE</th>\n",
       "      <th>RealNVP</th>\n",
       "    </tr>\n",
       "  </thead>\n",
       "  <tbody>\n",
       "    <tr>\n",
       "      <th>0</th>\n",
       "      <td>9.489204</td>\n",
       "      <td>9.259674</td>\n",
       "      <td>9.029205</td>\n",
       "      <td>9.476082</td>\n",
       "      <td>9.115694</td>\n",
       "    </tr>\n",
       "    <tr>\n",
       "      <th>1</th>\n",
       "      <td>9.705831</td>\n",
       "      <td>9.483683</td>\n",
       "      <td>9.756020</td>\n",
       "      <td>10.190047</td>\n",
       "      <td>9.255343</td>\n",
       "    </tr>\n",
       "    <tr>\n",
       "      <th>2</th>\n",
       "      <td>10.051652</td>\n",
       "      <td>9.797996</td>\n",
       "      <td>10.598192</td>\n",
       "      <td>10.870820</td>\n",
       "      <td>9.754285</td>\n",
       "    </tr>\n",
       "    <tr>\n",
       "      <th>3</th>\n",
       "      <td>10.636566</td>\n",
       "      <td>10.294878</td>\n",
       "      <td>11.714381</td>\n",
       "      <td>11.486118</td>\n",
       "      <td>10.469306</td>\n",
       "    </tr>\n",
       "    <tr>\n",
       "      <th>4</th>\n",
       "      <td>11.757828</td>\n",
       "      <td>11.284492</td>\n",
       "      <td>12.307945</td>\n",
       "      <td>11.963861</td>\n",
       "      <td>11.502870</td>\n",
       "    </tr>\n",
       "    <tr>\n",
       "      <th>5</th>\n",
       "      <td>12.811409</td>\n",
       "      <td>12.264375</td>\n",
       "      <td>12.645774</td>\n",
       "      <td>12.411125</td>\n",
       "      <td>12.353044</td>\n",
       "    </tr>\n",
       "    <tr>\n",
       "      <th>6</th>\n",
       "      <td>13.461472</td>\n",
       "      <td>12.889282</td>\n",
       "      <td>13.094433</td>\n",
       "      <td>12.782621</td>\n",
       "      <td>12.802614</td>\n",
       "    </tr>\n",
       "    <tr>\n",
       "      <th>7</th>\n",
       "      <td>13.921014</td>\n",
       "      <td>13.334360</td>\n",
       "      <td>13.373276</td>\n",
       "      <td>13.066704</td>\n",
       "      <td>13.180412</td>\n",
       "    </tr>\n",
       "    <tr>\n",
       "      <th>8</th>\n",
       "      <td>14.550095</td>\n",
       "      <td>13.981660</td>\n",
       "      <td>13.866014</td>\n",
       "      <td>13.522724</td>\n",
       "      <td>13.720324</td>\n",
       "    </tr>\n",
       "  </tbody>\n",
       "</table>\n",
       "</div>"
      ],
      "text/plain": [
       "         VAE       IWAE    L-MCVAE    A-MCVAE    RealNVP\n",
       "0   9.489204   9.259674   9.029205   9.476082   9.115694\n",
       "1   9.705831   9.483683   9.756020  10.190047   9.255343\n",
       "2  10.051652   9.797996  10.598192  10.870820   9.754285\n",
       "3  10.636566  10.294878  11.714381  11.486118  10.469306\n",
       "4  11.757828  11.284492  12.307945  11.963861  11.502870\n",
       "5  12.811409  12.264375  12.645774  12.411125  12.353044\n",
       "6  13.461472  12.889282  13.094433  12.782621  12.802614\n",
       "7  13.921014  13.334360  13.373276  13.066704  13.180412\n",
       "8  14.550095  13.981660  13.866014  13.522724  13.720324"
      ]
     },
     "execution_count": 28,
     "metadata": {},
     "output_type": "execute_result"
    }
   ],
   "source": [
    "means"
   ]
  },
  {
   "cell_type": "code",
   "execution_count": 52,
   "metadata": {},
   "outputs": [],
   "source": [
    "stds = (((r1 - means)**2 + (r2 - means)**2 + (r3 - means)**2) / 2)**0.5"
   ]
  },
  {
   "cell_type": "code",
   "execution_count": 53,
   "metadata": {},
   "outputs": [
    {
     "data": {
      "text/html": [
       "<div>\n",
       "<style scoped>\n",
       "    .dataframe tbody tr th:only-of-type {\n",
       "        vertical-align: middle;\n",
       "    }\n",
       "\n",
       "    .dataframe tbody tr th {\n",
       "        vertical-align: top;\n",
       "    }\n",
       "\n",
       "    .dataframe thead th {\n",
       "        text-align: right;\n",
       "    }\n",
       "</style>\n",
       "<table border=\"1\" class=\"dataframe\">\n",
       "  <thead>\n",
       "    <tr style=\"text-align: right;\">\n",
       "      <th></th>\n",
       "      <th>VAE</th>\n",
       "      <th>IWAE</th>\n",
       "      <th>L-MCVAE</th>\n",
       "      <th>A-MCVAE</th>\n",
       "      <th>RealNVP</th>\n",
       "    </tr>\n",
       "  </thead>\n",
       "  <tbody>\n",
       "    <tr>\n",
       "      <th>0</th>\n",
       "      <td>0.004423</td>\n",
       "      <td>0.003386</td>\n",
       "      <td>0.119244</td>\n",
       "      <td>0.002729</td>\n",
       "      <td>0.078265</td>\n",
       "    </tr>\n",
       "    <tr>\n",
       "      <th>1</th>\n",
       "      <td>0.005030</td>\n",
       "      <td>0.002359</td>\n",
       "      <td>0.021001</td>\n",
       "      <td>0.042322</td>\n",
       "      <td>0.085571</td>\n",
       "    </tr>\n",
       "    <tr>\n",
       "      <th>2</th>\n",
       "      <td>0.005498</td>\n",
       "      <td>0.006696</td>\n",
       "      <td>0.092094</td>\n",
       "      <td>0.049512</td>\n",
       "      <td>0.040468</td>\n",
       "    </tr>\n",
       "    <tr>\n",
       "      <th>3</th>\n",
       "      <td>0.003193</td>\n",
       "      <td>0.004393</td>\n",
       "      <td>0.202954</td>\n",
       "      <td>0.006947</td>\n",
       "      <td>0.045755</td>\n",
       "    </tr>\n",
       "    <tr>\n",
       "      <th>4</th>\n",
       "      <td>0.006329</td>\n",
       "      <td>0.007054</td>\n",
       "      <td>0.240442</td>\n",
       "      <td>0.018851</td>\n",
       "      <td>0.080357</td>\n",
       "    </tr>\n",
       "    <tr>\n",
       "      <th>5</th>\n",
       "      <td>0.011225</td>\n",
       "      <td>0.009007</td>\n",
       "      <td>0.139595</td>\n",
       "      <td>0.036560</td>\n",
       "      <td>0.017985</td>\n",
       "    </tr>\n",
       "    <tr>\n",
       "      <th>6</th>\n",
       "      <td>0.028615</td>\n",
       "      <td>0.021546</td>\n",
       "      <td>0.098292</td>\n",
       "      <td>0.045888</td>\n",
       "      <td>0.040649</td>\n",
       "    </tr>\n",
       "    <tr>\n",
       "      <th>7</th>\n",
       "      <td>0.008890</td>\n",
       "      <td>0.010782</td>\n",
       "      <td>0.073543</td>\n",
       "      <td>0.053734</td>\n",
       "      <td>0.029805</td>\n",
       "    </tr>\n",
       "    <tr>\n",
       "      <th>8</th>\n",
       "      <td>0.016261</td>\n",
       "      <td>0.011268</td>\n",
       "      <td>0.122074</td>\n",
       "      <td>0.042966</td>\n",
       "      <td>0.038644</td>\n",
       "    </tr>\n",
       "  </tbody>\n",
       "</table>\n",
       "</div>"
      ],
      "text/plain": [
       "        VAE      IWAE   L-MCVAE   A-MCVAE   RealNVP\n",
       "0  0.004423  0.003386  0.119244  0.002729  0.078265\n",
       "1  0.005030  0.002359  0.021001  0.042322  0.085571\n",
       "2  0.005498  0.006696  0.092094  0.049512  0.040468\n",
       "3  0.003193  0.004393  0.202954  0.006947  0.045755\n",
       "4  0.006329  0.007054  0.240442  0.018851  0.080357\n",
       "5  0.011225  0.009007  0.139595  0.036560  0.017985\n",
       "6  0.028615  0.021546  0.098292  0.045888  0.040649\n",
       "7  0.008890  0.010782  0.073543  0.053734  0.029805\n",
       "8  0.016261  0.011268  0.122074  0.042966  0.038644"
      ]
     },
     "execution_count": 53,
     "metadata": {},
     "output_type": "execute_result"
    }
   ],
   "source": [
    "stds"
   ]
  },
  {
   "cell_type": "code",
   "execution_count": null,
   "metadata": {},
   "outputs": [],
   "source": []
  },
  {
   "cell_type": "code",
   "execution_count": null,
   "metadata": {},
   "outputs": [],
   "source": []
  },
  {
   "cell_type": "code",
   "execution_count": 54,
   "metadata": {},
   "outputs": [],
   "source": [
    "d = [2, 5, 10, 20, 50, 100, 150, 200, 300] "
   ]
  },
  {
   "cell_type": "code",
   "execution_count": 59,
   "metadata": {},
   "outputs": [],
   "source": [
    "def plot_toy_results(res_dict, stds_dict, name):\n",
    "    plt.close()\n",
    "    plt.figure(dpi=200, figsize=(5, 3))\n",
    "\n",
    "    for i, (k, v) in enumerate(res_dict.items()):\n",
    "        plt.plot(d, res_dict[k], '-o', color=colors[i], label=k)\n",
    "        plt.fill_between(d, res_dict[k]-2*stds_dict[k], res_dict[k]+2*stds_dict[k], color=colors[i], alpha=0.3)\n",
    "    \n",
    "    plt.yscale('log')\n",
    "    plt.legend(loc='lower right')\n",
    "    plt.tight_layout()\n",
    "    plt.savefig('./toy_l2_result.pdf', format='pdf')\n",
    "    plt.show();"
   ]
  },
  {
   "cell_type": "code",
   "execution_count": 60,
   "metadata": {},
   "outputs": [
    {
     "data": {
      "application/vnd.jupyter.widget-view+json": {
       "model_id": "2c32b90e21424493a8a98c3e0dfc5bbe",
       "version_major": 2,
       "version_minor": 0
      },
      "text/plain": [
       "Canvas(toolbar=Toolbar(toolitems=[('Home', 'Reset original view', 'home', 'home'), ('Back', 'Back to previous …"
      ]
     },
     "metadata": {},
     "output_type": "display_data"
    }
   ],
   "source": [
    "plot_toy_results(means, stds, 'results')"
   ]
  },
  {
   "cell_type": "code",
   "execution_count": null,
   "metadata": {},
   "outputs": [],
   "source": []
  },
  {
   "cell_type": "code",
   "execution_count": null,
   "metadata": {},
   "outputs": [],
   "source": []
  },
  {
   "cell_type": "code",
   "execution_count": null,
   "metadata": {},
   "outputs": [],
   "source": []
  },
  {
   "cell_type": "code",
   "execution_count": 3,
   "metadata": {},
   "outputs": [],
   "source": [
    "import pandas as pd"
   ]
  },
  {
   "cell_type": "code",
   "execution_count": 4,
   "metadata": {},
   "outputs": [],
   "source": [
    "results_mnist = pd.DataFrame(index=['VAE', 'IWAE, K=10', 'IWAE, K=50',\n",
    "                                    'AMCVAE, K=3, fixed', 'AMCVAE, K=3, sigmoidal', 'AMCVAE, K=3, all_learnable',\n",
    "                                    'AMCVAE, K=5, fixed', 'AMCVAE, K=5, sigmoidal', 'AMCVAE, K=5, all_learnable',\n",
    "                                    'LMCVAE, K=5, fixed', 'LMCVAE, K=5, sigmoidal', 'LMCVAE, K=5, all_learnable',\n",
    "                                    'LMCVAE, K=10, fixed', 'LMCVAE, K=10, sigmoidal', 'LMCVAE, K=10, all_learnable',\n",
    "                                   ], columns=['e10', 'e30', 'e100', 'n10', 'n30', 'n100'])\n",
    "\n",
    "results_mnist_1 = pd.DataFrame(index=['VAE', 'IWAE, K=10', 'IWAE, K=50',\n",
    "                                    'AMCVAE, K=3, fixed', 'AMCVAE, K=3, sigmoidal', 'AMCVAE, K=3, all_learnable',\n",
    "                                    'AMCVAE, K=5, fixed', 'AMCVAE, K=5, sigmoidal', 'AMCVAE, K=5, all_learnable',\n",
    "                                    'LMCVAE, K=5, fixed', 'LMCVAE, K=5, sigmoidal', 'LMCVAE, K=5, all_learnable',\n",
    "                                    'LMCVAE, K=10, fixed', 'LMCVAE, K=10, sigmoidal', 'LMCVAE, K=10, all_learnable',\n",
    "                                   ], columns=['e10', 'e30', 'e100', 'n10', 'n30', 'n100'])"
   ]
  },
  {
   "cell_type": "code",
   "execution_count": 5,
   "metadata": {},
   "outputs": [],
   "source": [
    "results_cifar = pd.DataFrame(index=['VAE', 'IWAE, K=10', 'IWAE, K=50',\n",
    "                                    'AMCVAE, K=3, fixed', 'AMCVAE, K=3, sigmoidal', 'AMCVAE, K=3, all_learnable',\n",
    "                                    'AMCVAE, K=5, fixed', 'AMCVAE, K=5, sigmoidal', 'AMCVAE, K=5, all_learnable',\n",
    "                                    'LMCVAE, K=5, fixed', 'LMCVAE, K=5, sigmoidal', 'LMCVAE, K=5, all_learnable',\n",
    "                                    'LMCVAE, K=10, fixed', 'LMCVAE, K=10, sigmoidal', 'LMCVAE, K=10, all_learnable',\n",
    "                                   ], columns=['e10', 'e30', 'e100', 'n10', 'n30', 'n100'])\n",
    "\n",
    "results_cifar_1 = pd.DataFrame(index=['VAE', 'IWAE, K=10', 'IWAE, K=50',\n",
    "                                    'AMCVAE, K=3, fixed', 'AMCVAE, K=3, sigmoidal', 'AMCVAE, K=3, all_learnable',\n",
    "                                    'AMCVAE, K=5, fixed', 'AMCVAE, K=5, sigmoidal', 'AMCVAE, K=5, all_learnable',\n",
    "                                    'LMCVAE, K=5, fixed', 'LMCVAE, K=5, sigmoidal', 'LMCVAE, K=5, all_learnable',\n",
    "                                    'LMCVAE, K=10, fixed', 'LMCVAE, K=10, sigmoidal', 'LMCVAE, K=10, all_learnable',\n",
    "                                   ], columns=['e10', 'e30', 'e100', 'n10', 'n30', 'n100'])"
   ]
  },
  {
   "cell_type": "code",
   "execution_count": 118,
   "metadata": {},
   "outputs": [
    {
     "data": {
      "text/html": [
       "<div>\n",
       "<style scoped>\n",
       "    .dataframe tbody tr th:only-of-type {\n",
       "        vertical-align: middle;\n",
       "    }\n",
       "\n",
       "    .dataframe tbody tr th {\n",
       "        vertical-align: top;\n",
       "    }\n",
       "\n",
       "    .dataframe thead th {\n",
       "        text-align: right;\n",
       "    }\n",
       "</style>\n",
       "<table border=\"1\" class=\"dataframe\">\n",
       "  <thead>\n",
       "    <tr style=\"text-align: right;\">\n",
       "      <th></th>\n",
       "      <th>e10</th>\n",
       "      <th>e30</th>\n",
       "      <th>e100</th>\n",
       "      <th>n10</th>\n",
       "      <th>n30</th>\n",
       "      <th>n100</th>\n",
       "    </tr>\n",
       "  </thead>\n",
       "  <tbody>\n",
       "    <tr>\n",
       "      <th>VAE</th>\n",
       "      <td>2869.47</td>\n",
       "      <td>2869.24</td>\n",
       "      <td>2868.77</td>\n",
       "      <td>2868.44</td>\n",
       "      <td>2868.16</td>\n",
       "      <td>2867.87</td>\n",
       "    </tr>\n",
       "    <tr>\n",
       "      <th>IWAE, K=10</th>\n",
       "      <td>2869.84</td>\n",
       "      <td>2869.31</td>\n",
       "      <td>2869.14</td>\n",
       "      <td>2868.53</td>\n",
       "      <td>2867.96</td>\n",
       "      <td>2867.73</td>\n",
       "    </tr>\n",
       "    <tr>\n",
       "      <th>IWAE, K=50</th>\n",
       "      <td>2869.83</td>\n",
       "      <td>2869.58</td>\n",
       "      <td>2869.46</td>\n",
       "      <td>2868.95</td>\n",
       "      <td>2868.62</td>\n",
       "      <td>2867.96</td>\n",
       "    </tr>\n",
       "    <tr>\n",
       "      <th>AMCVAE, K=3, fixed</th>\n",
       "      <td>2870.22</td>\n",
       "      <td>2868.24</td>\n",
       "      <td>2868.03</td>\n",
       "      <td>2868.93</td>\n",
       "      <td>2867.69</td>\n",
       "      <td>2867.45</td>\n",
       "    </tr>\n",
       "    <tr>\n",
       "      <th>AMCVAE, K=3, sigmoidal</th>\n",
       "      <td>2871.05</td>\n",
       "      <td>2868.36</td>\n",
       "      <td>2868.05</td>\n",
       "      <td>2869.36</td>\n",
       "      <td>2867.68</td>\n",
       "      <td>2867.46</td>\n",
       "    </tr>\n",
       "    <tr>\n",
       "      <th>AMCVAE, K=3, all_learnable</th>\n",
       "      <td>2870.55</td>\n",
       "      <td>2868.78</td>\n",
       "      <td>2868.02</td>\n",
       "      <td>2869.01</td>\n",
       "      <td>2867.66</td>\n",
       "      <td>2867.43</td>\n",
       "    </tr>\n",
       "    <tr>\n",
       "      <th>AMCVAE, K=5, fixed</th>\n",
       "      <td>2870.7</td>\n",
       "      <td>2868.33</td>\n",
       "      <td>2868.03</td>\n",
       "      <td>2869.6</td>\n",
       "      <td>2867.74</td>\n",
       "      <td>2867.49</td>\n",
       "    </tr>\n",
       "    <tr>\n",
       "      <th>AMCVAE, K=5, sigmoidal</th>\n",
       "      <td>2870.42</td>\n",
       "      <td>2868.35</td>\n",
       "      <td>2868.02</td>\n",
       "      <td>2869.15</td>\n",
       "      <td>2867.73</td>\n",
       "      <td>2867.47</td>\n",
       "    </tr>\n",
       "    <tr>\n",
       "      <th>AMCVAE, K=5, all_learnable</th>\n",
       "      <td>2872.26</td>\n",
       "      <td>2868.34</td>\n",
       "      <td>2867.98</td>\n",
       "      <td>2870.68</td>\n",
       "      <td>2867.74</td>\n",
       "      <td>2867.45</td>\n",
       "    </tr>\n",
       "    <tr>\n",
       "      <th>LMCVAE, K=5, fixed</th>\n",
       "      <td>2869.45</td>\n",
       "      <td>2868.67</td>\n",
       "      <td>2868.3</td>\n",
       "      <td>2869.9</td>\n",
       "      <td>2867.89</td>\n",
       "      <td>2867.63</td>\n",
       "    </tr>\n",
       "    <tr>\n",
       "      <th>LMCVAE, K=5, sigmoidal</th>\n",
       "      <td>2870.85</td>\n",
       "      <td>2868.65</td>\n",
       "      <td>2868.34</td>\n",
       "      <td>2869.4</td>\n",
       "      <td>2867.91</td>\n",
       "      <td>2867.64</td>\n",
       "    </tr>\n",
       "    <tr>\n",
       "      <th>LMCVAE, K=5, all_learnable</th>\n",
       "      <td>2871.05</td>\n",
       "      <td>2868.65</td>\n",
       "      <td>2868.29</td>\n",
       "      <td>2869.77</td>\n",
       "      <td>2867.9</td>\n",
       "      <td>2867.63</td>\n",
       "    </tr>\n",
       "    <tr>\n",
       "      <th>LMCVAE, K=10, fixed</th>\n",
       "      <td>2870.71</td>\n",
       "      <td>2868.42</td>\n",
       "      <td>2868.12</td>\n",
       "      <td>2869.66</td>\n",
       "      <td>2867.84</td>\n",
       "      <td>2867.58</td>\n",
       "    </tr>\n",
       "    <tr>\n",
       "      <th>LMCVAE, K=10, sigmoidal</th>\n",
       "      <td>2871.09</td>\n",
       "      <td>2868.43</td>\n",
       "      <td>2868.11</td>\n",
       "      <td>2870.11</td>\n",
       "      <td>2867.84</td>\n",
       "      <td>2867.55</td>\n",
       "    </tr>\n",
       "    <tr>\n",
       "      <th>LMCVAE, K=10, all_learnable</th>\n",
       "      <td>2871.11</td>\n",
       "      <td>2868.46</td>\n",
       "      <td>2868.09</td>\n",
       "      <td>2870.04</td>\n",
       "      <td>2867.83</td>\n",
       "      <td>2867.57</td>\n",
       "    </tr>\n",
       "  </tbody>\n",
       "</table>\n",
       "</div>"
      ],
      "text/plain": [
       "                                 e10      e30     e100      n10      n30  \\\n",
       "VAE                          2869.47  2869.24  2868.77  2868.44  2868.16   \n",
       "IWAE, K=10                   2869.84  2869.31  2869.14  2868.53  2867.96   \n",
       "IWAE, K=50                   2869.83  2869.58  2869.46  2868.95  2868.62   \n",
       "AMCVAE, K=3, fixed           2870.22  2868.24  2868.03  2868.93  2867.69   \n",
       "AMCVAE, K=3, sigmoidal       2871.05  2868.36  2868.05  2869.36  2867.68   \n",
       "AMCVAE, K=3, all_learnable   2870.55  2868.78  2868.02  2869.01  2867.66   \n",
       "AMCVAE, K=5, fixed            2870.7  2868.33  2868.03   2869.6  2867.74   \n",
       "AMCVAE, K=5, sigmoidal       2870.42  2868.35  2868.02  2869.15  2867.73   \n",
       "AMCVAE, K=5, all_learnable   2872.26  2868.34  2867.98  2870.68  2867.74   \n",
       "LMCVAE, K=5, fixed           2869.45  2868.67   2868.3   2869.9  2867.89   \n",
       "LMCVAE, K=5, sigmoidal       2870.85  2868.65  2868.34   2869.4  2867.91   \n",
       "LMCVAE, K=5, all_learnable   2871.05  2868.65  2868.29  2869.77   2867.9   \n",
       "LMCVAE, K=10, fixed          2870.71  2868.42  2868.12  2869.66  2867.84   \n",
       "LMCVAE, K=10, sigmoidal      2871.09  2868.43  2868.11  2870.11  2867.84   \n",
       "LMCVAE, K=10, all_learnable  2871.11  2868.46  2868.09  2870.04  2867.83   \n",
       "\n",
       "                                n100  \n",
       "VAE                          2867.87  \n",
       "IWAE, K=10                   2867.73  \n",
       "IWAE, K=50                   2867.96  \n",
       "AMCVAE, K=3, fixed           2867.45  \n",
       "AMCVAE, K=3, sigmoidal       2867.46  \n",
       "AMCVAE, K=3, all_learnable   2867.43  \n",
       "AMCVAE, K=5, fixed           2867.49  \n",
       "AMCVAE, K=5, sigmoidal       2867.47  \n",
       "AMCVAE, K=5, all_learnable   2867.45  \n",
       "LMCVAE, K=5, fixed           2867.63  \n",
       "LMCVAE, K=5, sigmoidal       2867.64  \n",
       "LMCVAE, K=5, all_learnable   2867.63  \n",
       "LMCVAE, K=10, fixed          2867.58  \n",
       "LMCVAE, K=10, sigmoidal      2867.55  \n",
       "LMCVAE, K=10, all_learnable  2867.57  "
      ]
     },
     "execution_count": 118,
     "metadata": {},
     "output_type": "execute_result"
    }
   ],
   "source": [
    "results_cifar"
   ]
  },
  {
   "cell_type": "code",
   "execution_count": 117,
   "metadata": {},
   "outputs": [],
   "source": [
    "results_cifar.loc[\"LMCVAE, K=10, all_learnable\", \"n100\"] = 2867.569580078125"
   ]
  },
  {
   "cell_type": "code",
   "execution_count": 119,
   "metadata": {},
   "outputs": [],
   "source": [
    "results_cifar.to_csv(\"CIFAR_1.csv\")"
   ]
  },
  {
   "cell_type": "code",
   "execution_count": 1,
   "metadata": {},
   "outputs": [
    {
     "ename": "NameError",
     "evalue": "name 'results_cifar' is not defined",
     "output_type": "error",
     "traceback": [
      "\u001b[0;31m---------------------------------------------------------------------------\u001b[0m",
      "\u001b[0;31mNameError\u001b[0m                                 Traceback (most recent call last)",
      "\u001b[0;32m<ipython-input-1-69aaad7238f1>\u001b[0m in \u001b[0;36m<module>\u001b[0;34m\u001b[0m\n\u001b[0;32m----> 1\u001b[0;31m \u001b[0mresults_cifar\u001b[0m\u001b[0;34m\u001b[0m\u001b[0;34m\u001b[0m\u001b[0m\n\u001b[0m",
      "\u001b[0;31mNameError\u001b[0m: name 'results_cifar' is not defined"
     ]
    }
   ],
   "source": [
    "results_cifar"
   ]
  },
  {
   "cell_type": "code",
   "execution_count": null,
   "metadata": {},
   "outputs": [],
   "source": []
  }
 ],
 "metadata": {
  "kernelspec": {
   "display_name": "Condatorch",
   "language": "python",
   "name": "condatorch"
  },
  "language_info": {
   "codemirror_mode": {
    "name": "ipython",
    "version": 3
   },
   "file_extension": ".py",
   "mimetype": "text/x-python",
   "name": "python",
   "nbconvert_exporter": "python",
   "pygments_lexer": "ipython3",
   "version": "3.8.5"
  }
 },
 "nbformat": 4,
 "nbformat_minor": 4
}
