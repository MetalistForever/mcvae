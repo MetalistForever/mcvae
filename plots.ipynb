{
 "cells": [
  {
   "cell_type": "code",
   "execution_count": 1,
   "metadata": {},
   "outputs": [],
   "source": [
    "import numpy as np\n",
    "import matplotlib.pyplot as plt\n",
    "import seaborn as sns\n",
    "\n",
    "%matplotlib widget"
   ]
  },
  {
   "cell_type": "code",
   "execution_count": 2,
   "metadata": {},
   "outputs": [],
   "source": [
    "nll_ula_1 = [88.78, 86.90, 86.41, 86.23, 86.23, 86.13, 86.06, 86.19, 86.07, 85.91]\n",
    "nll_ula_3 = [88.21, 86.57, 86.05, 85.86, 85.94, 85.80, 85.69, 85.79, 85.79, 85.61]\n",
    "nll_ula_5 = [87.67, 85.89, 85.46, 85.30, 85.24, 85.27, 85.29, 85.05, 85.18, 85.02]\n",
    "nll_ula_7 = [88.24, 86.44, 85.70, 85.63, 85.61, 85.50, 85.44, 85.46, 85.38, 85.48]\n",
    "nll_ula_10 = [87.35, 85.76, 85.28, 85.14, 84.83, 85.04, 84.86, 84.86, 84.8, 84.85]"
   ]
  },
  {
   "cell_type": "code",
   "execution_count": 3,
   "metadata": {},
   "outputs": [],
   "source": [
    "nll_iwae_10 = [88.18, 86.61, 85.94, 85.5, 85.24, 85.11, 85.12, 84.88, 85.23, 84.95] # 84.52\n",
    "nll_vae = [89.01, 87.26, 86.49, 85.85, 85.58, 85.74, 85.33, 85.29, 85.1, 85.14]"
   ]
  },
  {
   "cell_type": "code",
   "execution_count": null,
   "metadata": {},
   "outputs": [],
   "source": []
  },
  {
   "cell_type": "code",
   "execution_count": null,
   "metadata": {},
   "outputs": [],
   "source": []
  },
  {
   "cell_type": "code",
   "execution_count": 10,
   "metadata": {},
   "outputs": [
    {
     "data": {
      "application/vnd.jupyter.widget-view+json": {
       "model_id": "6041168b5537450fbcc42c7536f51e92",
       "version_major": 2,
       "version_minor": 0
      },
      "text/plain": [
       "Canvas(toolbar=Toolbar(toolitems=[('Home', 'Reset original view', 'home', 'home'), ('Back', 'Back to previous …"
      ]
     },
     "metadata": {},
     "output_type": "display_data"
    }
   ],
   "source": [
    "plt.close()\n",
    "plt.figure(figsize=(5, 3), dpi=200)\n",
    "plt.plot([1, 3, 5, 10], -1 * np.array([nll_ula_1[-1], nll_ula_3[-1], nll_ula_5[-1], nll_ula_10[-1]]), '-o', label='ULA VAE')\n",
    "# plt.hlines(-nll_vae[-1], -10, 10, linestyle='--', color='red', label='VAE')\n",
    "plt.hlines(-nll_iwae_10[-1], -10, 10, linestyle='--', color='green', label='IWAE')\n",
    "plt.xlabel('Transitions')\n",
    "plt.ylabel('Log likelihood')\n",
    "plt.xlim(1, 10)\n",
    "plt.xticks([1, 3, 5, 7, 10])\n",
    "plt.grid()\n",
    "plt.legend()\n",
    "plt.tight_layout();\n",
    "plt.savefig('nll.pdf', format='pdf')"
   ]
  },
  {
   "cell_type": "code",
   "execution_count": 8,
   "metadata": {},
   "outputs": [
    {
     "data": {
      "application/vnd.jupyter.widget-view+json": {
       "model_id": "67d5a0f25b6247bdb14f80a161305403",
       "version_major": 2,
       "version_minor": 0
      },
      "text/plain": [
       "Canvas(toolbar=Toolbar(toolitems=[('Home', 'Reset original view', 'home', 'home'), ('Back', 'Back to previous …"
      ]
     },
     "metadata": {},
     "output_type": "display_data"
    }
   ],
   "source": [
    "plt.close()\n",
    "plt.figure(figsize=(5, 3), dpi=200)\n",
    "plt.plot(10 * np.arange(10), -np.array(nll_ula_10), '-o', label='ULA VAE (K=10)')\n",
    "plt.plot(10 * np.arange(10), -np.array(nll_vae), '-o', label='VAE', color='red')\n",
    "plt.plot(10 * np.arange(10), -np.array(nll_iwae_10), '-o', label='IWAE (K=10)', color='green')\n",
    "plt.xlabel('Epoch')\n",
    "plt.ylabel('Log likelihood')\n",
    "plt.grid()\n",
    "plt.legend()\n",
    "plt.tight_layout();\n",
    "plt.savefig('nll_training.pdf', format='pdf')"
   ]
  },
  {
   "cell_type": "code",
   "execution_count": null,
   "metadata": {},
   "outputs": [],
   "source": []
  }
 ],
 "metadata": {
  "kernelspec": {
   "display_name": "Condatorch",
   "language": "python",
   "name": "condatorch"
  },
  "language_info": {
   "codemirror_mode": {
    "name": "ipython",
    "version": 3
   },
   "file_extension": ".py",
   "mimetype": "text/x-python",
   "name": "python",
   "nbconvert_exporter": "python",
   "pygments_lexer": "ipython3",
   "version": "3.8.5"
  }
 },
 "nbformat": 4,
 "nbformat_minor": 4
}
