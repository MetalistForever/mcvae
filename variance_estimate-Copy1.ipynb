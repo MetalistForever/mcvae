{
 "cells": [
  {
   "cell_type": "code",
   "execution_count": null,
   "metadata": {},
   "outputs": [],
   "source": [
    "import os\n",
    "import torch\n",
    "import torch.nn as nn\n",
    "import torch.nn.functional as F\n",
    "import torchvision\n",
    "from torch.utils.data import Dataset, DataLoader\n",
    "import matplotlib.pyplot as plt\n",
    "import seaborn as sns\n",
    "from utils import make_dataloaders\n",
    "from models.vaes import Base, VAE, IWAE, AIS_VAE, ULA_VAE, Stacked_VAE, VAE_with_flows, repeat_data\n",
    "from models.samplers import HMC, MALA, ULA, run_chain\n",
    "import yaml\n",
    "import numpy as np\n",
    "from scipy.stats import norm\n",
    "import copy\n",
    "from tqdm.auto import tqdm\n",
    "\n",
    "import pytorch_lightning as pl\n",
    "from pytorch_lightning import loggers as pl_loggers\n",
    "\n",
    "from inspect import signature\n",
    "\n",
    "%matplotlib widget\n",
    "\n",
    "colors = {\n",
    "    0: 'blue',\n",
    "    1: 'red',\n",
    "    2: 'green',\n",
    "    3: 'yellow',\n",
    "    4: 'black',\n",
    "    5: 'orange',\n",
    "}"
   ]
  },
  {
   "cell_type": "code",
   "execution_count": null,
   "metadata": {},
   "outputs": [],
   "source": [
    "device = torch.device('cuda:1' if torch.cuda.is_available() else 'cpu')"
   ]
  },
  {
   "cell_type": "code",
   "execution_count": null,
   "metadata": {},
   "outputs": [],
   "source": [
    "train_loader, val_loader = make_dataloaders(dataset='mnist', batch_size=100, val_batch_size=100, binarize=True)"
   ]
  },
  {
   "cell_type": "code",
   "execution_count": 4,
   "metadata": {},
   "outputs": [],
   "source": [
    "batch = None\n",
    "for v_b in val_loader:\n",
    "    batch = v_b\n",
    "    break"
   ]
  },
  {
   "cell_type": "code",
   "execution_count": null,
   "metadata": {},
   "outputs": [],
   "source": []
  },
  {
   "cell_type": "code",
   "execution_count": 5,
   "metadata": {},
   "outputs": [],
   "source": [
    "def load_model(version):\n",
    "    with open(f'lightning_logs/default/version_{version}/hparams.yaml') as file:\n",
    "        fruits_list = yaml.load(file, Loader=yaml.FullLoader)\n",
    "        print(fruits_list)\n",
    "        hparams = fruits_list\n",
    "        \n",
    "    path = f'lightning_logs/default/version_{version}/checkpoints/'\n",
    "    file_name = os.listdir(path)[0]\n",
    "    checkpoint = torch.load(f'{path}{file_name}')\n",
    "    \n",
    "    for current_model in [VAE, IWAE, ULA_VAE, AIS_VAE]:\n",
    "        try:\n",
    "            model = current_model(**hparams).to(device)\n",
    "            model.load_state_dict(checkpoint['state_dict'])\n",
    "        except:\n",
    "            pass\n",
    "        else:\n",
    "            print(f'loaded {model.name}')\n",
    "            return model"
   ]
  },
  {
   "cell_type": "code",
   "execution_count": 6,
   "metadata": {},
   "outputs": [
    {
     "name": "stdout",
     "output_type": "stream",
     "text": [
      "{'act_func': <class 'torch.nn.modules.activation.GELU'>, 'dataset': 'mnist', 'hidden_dim': 100, 'name': 'IWAE', 'net_type': 'fc', 'num_samples': 50, 'shape': 28, 'sigma': 0.1, 'specific_likelihood': 'gaussian'}\n",
      "loaded IWAE\n"
     ]
    }
   ],
   "source": [
    "version = 794\n",
    "iwae = load_model(version=version)"
   ]
  },
  {
   "cell_type": "code",
   "execution_count": 7,
   "metadata": {},
   "outputs": [],
   "source": [
    "def get_transitions_output(model, z, mu, logvar, x):\n",
    "    x = repeat_data(x, model.num_samples)\n",
    "    output = model.run_transitions(z=z,\n",
    "                                    x=x,\n",
    "                                   mu=mu,\n",
    "                                   logvar=logvar)\n",
    "    if len(str(signature(model.loss_function)).split(',')) > 1:\n",
    "        loss = model.loss_function(sum_log_alphas=output[2], sum_log_weights=output[1])\n",
    "    else:\n",
    "        loss = model.loss_function(sum_log_weights=output[1])\n",
    "    grad = torch.autograd.grad(loss, model.decoder_net.net[0].bias)[0][:50]\n",
    "    return output, grad"
   ]
  },
  {
   "cell_type": "code",
   "execution_count": 8,
   "metadata": {},
   "outputs": [],
   "source": [
    "sigma = 0.1"
   ]
  },
  {
   "cell_type": "code",
   "execution_count": 9,
   "metadata": {},
   "outputs": [],
   "source": [
    "model_W = iwae.decoder_net.net[0].weight.data\n",
    "model_mu = iwae.decoder_net.net[0].bias.data[..., None]\n",
    "model_mu.requires_grad_(True)\n",
    "\n",
    "C = (model_W @ model_W.T) + (sigma**2) * torch.eye(784, device=device)\n",
    "C_inv = torch.inverse(C)\n",
    "logdetC = torch.logdet(C)\n",
    "\n",
    "first_term = 784 * np.log(2 * np.pi) + logdetC\n",
    "\n",
    "def get_true_loglikelihood(x):\n",
    "    true_loglikelihood = torch.empty(x.shape[0], device=device, dtype=torch.float32)\n",
    "    for i in range(x.shape[0]):\n",
    "        x_cur = x[i].view(784, 1)\n",
    "        S = (x_cur - model_mu) @ (x_cur - model_mu).T\n",
    "        true_loglikelihood[i] = -0.5 * (first_term + torch.trace(C_inv @ S))\n",
    "    grad_true = torch.autograd.grad(true_loglikelihood.sum(), model_mu)[0][:50]\n",
    "    return true_loglikelihood, grad_true"
   ]
  },
  {
   "cell_type": "code",
   "execution_count": 10,
   "metadata": {},
   "outputs": [],
   "source": [
    "class ULA_VAE_reverse(ULA_VAE):\n",
    "    def configure_optimizers(self):\n",
    "        optimizer = torch.optim.Adam(self.reverse_kernels.parameters(), lr=1e-3)\n",
    "        scheduler = torch.optim.lr_scheduler.MultiStepLR(optimizer, milestones=[10, 20, 30], gamma=0.25)\n",
    "        return [optimizer], [scheduler]"
   ]
  },
  {
   "cell_type": "code",
   "execution_count": 11,
   "metadata": {},
   "outputs": [],
   "source": [
    "# ------------------------------------------------------------------------------------------------------------------------------------------------------------\n",
    "# NO reverse\n",
    "\n",
    "# ----- ULA_VAE ----- #\n",
    "ula_5 = ULA_VAE(shape=28, act_func=nn.LeakyReLU, num_samples=1, hidden_dim=iwae.hidden_dim, net_type='fc', dataset='mnist',\n",
    "            step_size=0.003, K=5, use_transforms=False, learnable_transitions=False, return_pre_alphas=True, use_score_matching=False,\n",
    "                      ula_skip_threshold=0.1, grad_skip_val=0., grad_clip_val=0., use_cloned_decoder=False, variance_sensitive_step=False,\n",
    "                     acceptance_rate_target=0.9, annealing_scheme='linear', specific_likelihood='gaussian', sigma=sigma).to(device)\n",
    "ula_5.decoder_net = copy.deepcopy(iwae.decoder_net)\n",
    "for p in ula_5.decoder_net.parameters():\n",
    "    p.requires_grad_(True)\n",
    "ula_5.encoder_net = copy.deepcopy(iwae.encoder_net)\n",
    "ula_5.use_stepsize_update = False\n",
    "\n",
    "# ----- ULA_VAE ----- #\n",
    "ula_10 = ULA_VAE(shape=28, act_func=nn.LeakyReLU, num_samples=1, hidden_dim=iwae.hidden_dim, net_type='fc', dataset='mnist',\n",
    "            step_size=0.003, K=10, use_transforms=False, learnable_transitions=False, return_pre_alphas=True, use_score_matching=False,\n",
    "                      ula_skip_threshold=0.1, grad_skip_val=0., grad_clip_val=0., use_cloned_decoder=False, variance_sensitive_step=False,\n",
    "                     acceptance_rate_target=0.9, annealing_scheme='linear', specific_likelihood='gaussian', sigma=sigma).to(device)\n",
    "ula_10.decoder_net = copy.deepcopy(iwae.decoder_net)\n",
    "for p in ula_10.decoder_net.parameters():\n",
    "    p.requires_grad_(True)\n",
    "ula_10.encoder_net = copy.deepcopy(iwae.encoder_net)\n",
    "ula_10.use_stepsize_update = False\n",
    "\n",
    "\n",
    "# -------------------------------------------------------------------------------------------------------------------------------------------------------------\n",
    "\n",
    "# Reverse\n",
    "\n",
    "# ----- ULA_VAE ----- #\n",
    "ula_5_r = ULA_VAE_reverse(shape=28, act_func=nn.LeakyReLU, num_samples=1, hidden_dim=iwae.hidden_dim, net_type='fc', dataset='mnist',\n",
    "            step_size=0.003, K=1, use_transforms=False, learnable_transitions=False, return_pre_alphas=True, use_score_matching=False,\n",
    "                      ula_skip_threshold=0.1, grad_skip_val=0., grad_clip_val=0., use_cloned_decoder=False, variance_sensitive_step=False,\n",
    "                     acceptance_rate_target=0.9, annealing_scheme='linear', specific_likelihood='gaussian', sigma=sigma, use_reverse_kernel=True).to(device)\n",
    "ula_5_r.decoder_net = copy.deepcopy(iwae.decoder_net)\n",
    "for p in ula_5_r.decoder_net.parameters():\n",
    "    p.requires_grad_(True)\n",
    "ula_5_r.encoder_net = copy.deepcopy(iwae.encoder_net)\n",
    "ula_5_r.use_stepsize_update = False\n",
    "\n",
    "\n",
    "# ----- ULA_VAE ----- #\n",
    "ula_10_r = ULA_VAE_reverse(shape=28, act_func=nn.LeakyReLU, num_samples=1, hidden_dim=iwae.hidden_dim, net_type='fc', dataset='mnist',\n",
    "            step_size=0.003, K=2, use_transforms=False, learnable_transitions=False, return_pre_alphas=True, use_score_matching=False,\n",
    "                      ula_skip_threshold=0.1, grad_skip_val=0., grad_clip_val=0., use_cloned_decoder=False, variance_sensitive_step=False,\n",
    "                     acceptance_rate_target=0.9, annealing_scheme='linear', specific_likelihood='gaussian', sigma=sigma, use_reverse_kernel=True).to(device)\n",
    "ula_10_r.decoder_net = copy.deepcopy(iwae.decoder_net)\n",
    "for p in ula_10_r.decoder_net.parameters():\n",
    "    p.requires_grad_(True)\n",
    "ula_10_r.encoder_net = copy.deepcopy(iwae.encoder_net)\n",
    "ula_10_r.use_stepsize_update = False\n",
    "\n",
    "\n",
    "\n",
    "\n",
    "# -------------------------------------------------------------------------------------------------------------------------------------------------------------\n",
    "\n",
    "# No multisample\n",
    "\n",
    "# ----- AIS_VAE ----- #\n",
    "ais_5 = AIS_VAE(shape=28, act_func=nn.LeakyReLU, num_samples=1, hidden_dim=iwae.hidden_dim, net_type='fc', dataset='mnist',\n",
    "                  step_size=0.003, K=5, use_barker=False, learnable_transitions=False, use_alpha_annealing=True, grad_skip_val=0.,\n",
    "                      grad_clip_val=0., use_cloned_decoder=False, variance_sensitive_step=False,\n",
    "                     acceptance_rate_target=0.8, annealing_scheme='linear', specific_likelihood='gaussian', sigma=sigma).to(device)\n",
    "ais_5.decoder_net = copy.deepcopy(iwae.decoder_net)\n",
    "for p in ais_5.decoder_net.parameters():\n",
    "    p.requires_grad_(True)\n",
    "ais_5.encoder_net = copy.deepcopy(iwae.encoder_net)\n",
    "ais_5.use_stepsize_update = False\n",
    "\n",
    "\n",
    "# ----- AIS_VAE ----- #\n",
    "ais_10 = AIS_VAE(shape=28, act_func=nn.LeakyReLU, num_samples=1, hidden_dim=iwae.hidden_dim, net_type='fc', dataset='mnist',\n",
    "                  step_size=0.003, K=10, use_barker=False, learnable_transitions=False, use_alpha_annealing=True, grad_skip_val=0.,\n",
    "                      grad_clip_val=0., use_cloned_decoder=False, variance_sensitive_step=False,\n",
    "                     acceptance_rate_target=0.8, annealing_scheme='linear', specific_likelihood='gaussian', sigma=sigma).to(device)\n",
    "ais_10.decoder_net = copy.deepcopy(iwae.decoder_net)\n",
    "for p in ais_10.decoder_net.parameters():\n",
    "    p.requires_grad_(True)\n",
    "ais_10.encoder_net = copy.deepcopy(iwae.encoder_net)\n",
    "ais_10.use_stepsize_update = False\n",
    "\n",
    "\n",
    "# -------------------------------------------------------------------------------------------------------------------------------------------------------------\n",
    "\n",
    "# Multisample\n",
    "\n",
    "# ----- AIS_VAE ----- #\n",
    "ais_5_3 = AIS_VAE(shape=28, act_func=nn.LeakyReLU, num_samples=10, hidden_dim=iwae.hidden_dim, net_type='fc', dataset='mnist',\n",
    "                  step_size=0.003, K=5, use_barker=False, learnable_transitions=False, use_alpha_annealing=True, grad_skip_val=0.,\n",
    "                      grad_clip_val=0., use_cloned_decoder=False, variance_sensitive_step=False,\n",
    "                     acceptance_rate_target=0.8, annealing_scheme='linear', specific_likelihood='gaussian', sigma=sigma).to(device)\n",
    "ais_5_3.decoder_net = copy.deepcopy(iwae.decoder_net)\n",
    "for p in ais_5_3.decoder_net.parameters():\n",
    "    p.requires_grad_(True)\n",
    "ais_5_3.encoder_net = copy.deepcopy(iwae.encoder_net)\n",
    "ais_5_3.use_stepsize_update = False"
   ]
  },
  {
   "cell_type": "code",
   "execution_count": null,
   "metadata": {},
   "outputs": [],
   "source": []
  },
  {
   "cell_type": "code",
   "execution_count": 12,
   "metadata": {},
   "outputs": [],
   "source": [
    "def run_exp(model, n = 200):\n",
    "    x, _ = batch\n",
    "    x = x.to(device)\n",
    "    z, mu, logvar = iwae.enc_rep(x, model.num_samples) # <- latents are fixed\n",
    "\n",
    "    model_w = torch.tensor([], device=device, dtype=torch.float32)\n",
    "    model_g = []\n",
    "\n",
    "    true_loglikelihood_, grad_true = get_true_loglikelihood(x)\n",
    "    #true_loglikelihood = true_loglikelihood_.repeat(model.num_samples).cpu().detach().numpy()\n",
    "    true_loglikelihood_mean = np.mean(true_loglikelihood_.cpu().detach().numpy())\n",
    "    for i in tqdm(range(n)):\n",
    "        model_log_w, grad_model = get_transitions_output(model, z, mu, logvar, x)\n",
    "\n",
    "        with torch.no_grad():\n",
    "            model_log_w = model_log_w[1]\n",
    "\n",
    "            model_w = torch.cat([model_w, model_log_w[..., None]], dim=1)\n",
    "\n",
    "\n",
    "            model_g.append(grad_model.cpu().detach().numpy())\n",
    "\n",
    " \n",
    "    return model_w.cpu().detach().numpy(), true_loglikelihood_mean, np.array(model_g), grad_true.cpu().detach().numpy()"
   ]
  },
  {
   "cell_type": "code",
   "execution_count": 13,
   "metadata": {},
   "outputs": [],
   "source": [
    "def run_trainer(model):\n",
    "    tb_logger = pl_loggers.TensorBoardLogger('lightning_logs/')\n",
    "    trainer = pl.Trainer(logger=tb_logger, fast_dev_run=False, max_epochs=5, automatic_optimization=True, gpus=1)\n",
    "    trainer.fit(model, train_dataloader=train_loader, val_dataloaders=val_loader)"
   ]
  },
  {
   "cell_type": "code",
   "execution_count": 14,
   "metadata": {},
   "outputs": [
    {
     "data": {
      "text/plain": [
       "Parameter containing:\n",
       "tensor([[-0.0670,  0.0324,  0.0665,  ..., -0.0644,  0.0245, -0.0544],\n",
       "        [-0.0212, -0.0665,  0.0074,  ..., -0.0375, -0.0210,  0.0423],\n",
       "        [-0.0325, -0.0565,  0.0307,  ...,  0.0049,  0.0565,  0.0462],\n",
       "        ...,\n",
       "        [-0.0529,  0.0007,  0.0208,  ..., -0.0108,  0.0630, -0.0531],\n",
       "        [-0.0366,  0.0108,  0.0113,  ...,  0.0618,  0.0569, -0.0484],\n",
       "        [ 0.0210, -0.0170,  0.0544,  ..., -0.0077, -0.0486,  0.0012]],\n",
       "       device='cuda:1', requires_grad=True)"
      ]
     },
     "execution_count": 14,
     "metadata": {},
     "output_type": "execute_result"
    }
   ],
   "source": [
    "ula_5_r.reverse_kernels[0].net[0].weight"
   ]
  },
  {
   "cell_type": "code",
   "execution_count": null,
   "metadata": {},
   "outputs": [
    {
     "name": "stderr",
     "output_type": "stream",
     "text": [
      "GPU available: True, used: True\n",
      "TPU available: None, using: 0 TPU cores\n",
      "LOCAL_RANK: 0 - CUDA_VISIBLE_DEVICES: [0,1]\n",
      "/home/nkotelevskii/anaconda3/envs/condatorch/lib/python3.8/site-packages/pytorch_lightning/utilities/distributed.py:49: UserWarning: Disable automatic optimization with the trainer flag is deprecated and will be removed in v1.3.0!Please use the property on the LightningModule for disabling automatic optimization\n",
      "  warnings.warn(*args, **kwargs)\n",
      "\n",
      "  | Name            | Type             | Params\n",
      "-----------------------------------------------------\n",
      "0 | encoder_net     | FC_encoder_mnist | 157 K \n",
      "1 | decoder_net     | FC_decoder_mnist | 79.2 K\n",
      "2 | transitions_nll | ModuleList       | 8     \n",
      "3 | transitions     | ModuleList       | 1     \n",
      "4 | reverse_kernels | ModuleList       | 80.4 K\n",
      "-----------------------------------------------------\n",
      "316 K     Trainable params\n",
      "9         Non-trainable params\n",
      "316 K     Total params\n",
      "/home/nkotelevskii/anaconda3/envs/condatorch/lib/python3.8/site-packages/pytorch_lightning/utilities/distributed.py:49: UserWarning: The dataloader, val dataloader 0, does not have many workers which may be a bottleneck. Consider increasing the value of the `num_workers` argument` (try 20 which is the number of cpus on this machine) in the `DataLoader` init to improve performance.\n",
      "  warnings.warn(*args, **kwargs)\n"
     ]
    },
    {
     "data": {
      "application/vnd.jupyter.widget-view+json": {
       "model_id": "",
       "version_major": 2,
       "version_minor": 0
      },
      "text/plain": [
       "HBox(children=(HTML(value='Validation sanity check'), FloatProgress(value=1.0, bar_style='info', layout=Layout…"
      ]
     },
     "metadata": {},
     "output_type": "display_data"
    },
    {
     "name": "stdout",
     "output_type": "stream",
     "text": [
      "> \u001b[0;32m/home/nkotelevskii/github/metflow/models/samplers.py\u001b[0m(295)\u001b[0;36mmake_transition\u001b[0;34m()\u001b[0m\n",
      "\u001b[0;32m    293 \u001b[0;31m            \u001b[0;32mimport\u001b[0m \u001b[0mpdb\u001b[0m\u001b[0;34m\u001b[0m\u001b[0;34m\u001b[0m\u001b[0m\n",
      "\u001b[0m\u001b[0;32m    294 \u001b[0;31m            \u001b[0mpdb\u001b[0m\u001b[0;34m.\u001b[0m\u001b[0mset_trace\u001b[0m\u001b[0;34m(\u001b[0m\u001b[0;34m)\u001b[0m\u001b[0;34m\u001b[0m\u001b[0;34m\u001b[0m\u001b[0m\n",
      "\u001b[0m\u001b[0;32m--> 295 \u001b[0;31m        \u001b[0mproposal_density_denominator\u001b[0m \u001b[0;34m=\u001b[0m \u001b[0mstd_normal\u001b[0m\u001b[0;34m.\u001b[0m\u001b[0mlog_prob\u001b[0m\u001b[0;34m(\u001b[0m\u001b[0meps\u001b[0m\u001b[0;34m)\u001b[0m\u001b[0;34m.\u001b[0m\u001b[0msum\u001b[0m\u001b[0;34m(\u001b[0m\u001b[0;36m1\u001b[0m\u001b[0;34m)\u001b[0m\u001b[0;34m\u001b[0m\u001b[0;34m\u001b[0m\u001b[0m\n",
      "\u001b[0m\u001b[0;32m    296 \u001b[0;31m\u001b[0;34m\u001b[0m\u001b[0m\n",
      "\u001b[0m\u001b[0;32m    297 \u001b[0;31m        \u001b[0mz_new\u001b[0m \u001b[0;34m=\u001b[0m \u001b[0mz_upd\u001b[0m\u001b[0;34m\u001b[0m\u001b[0;34m\u001b[0m\u001b[0m\n",
      "\u001b[0m\n"
     ]
    },
    {
     "name": "stdin",
     "output_type": "stream",
     "text": [
      "ipdb>  l\n"
     ]
    },
    {
     "name": "stdout",
     "output_type": "stream",
     "text": [
      "\u001b[1;32m    290 \u001b[0m            \u001b[0mmu\u001b[0m\u001b[0;34m,\u001b[0m \u001b[0mlogvar\u001b[0m \u001b[0;34m=\u001b[0m \u001b[0mreverse_kernel\u001b[0m\u001b[0;34m(\u001b[0m\u001b[0mtorch\u001b[0m\u001b[0;34m.\u001b[0m\u001b[0mcat\u001b[0m\u001b[0;34m(\u001b[0m\u001b[0;34m[\u001b[0m\u001b[0mz_upd\u001b[0m\u001b[0;34m,\u001b[0m \u001b[0mmu_amortize\u001b[0m\u001b[0;34m]\u001b[0m\u001b[0;34m,\u001b[0m \u001b[0mdim\u001b[0m\u001b[0;34m=\u001b[0m\u001b[0;36m1\u001b[0m\u001b[0;34m)\u001b[0m\u001b[0;34m)\u001b[0m\u001b[0;34m\u001b[0m\u001b[0;34m\u001b[0m\u001b[0m\n",
      "\u001b[1;32m    291 \u001b[0m            proposal_density_numerator = torch.distributions.Normal(loc=mu, scale=torch.exp(0.5 * logvar)).log_prob(\n",
      "\u001b[1;32m    292 \u001b[0m                z).sum(1)\n",
      "\u001b[1;32m    293 \u001b[0m            \u001b[0;32mimport\u001b[0m \u001b[0mpdb\u001b[0m\u001b[0;34m\u001b[0m\u001b[0;34m\u001b[0m\u001b[0m\n",
      "\u001b[1;32m    294 \u001b[0m            \u001b[0mpdb\u001b[0m\u001b[0;34m.\u001b[0m\u001b[0mset_trace\u001b[0m\u001b[0;34m(\u001b[0m\u001b[0;34m)\u001b[0m\u001b[0;34m\u001b[0m\u001b[0;34m\u001b[0m\u001b[0m\n",
      "\u001b[0;32m--> 295 \u001b[0;31m        \u001b[0mproposal_density_denominator\u001b[0m \u001b[0;34m=\u001b[0m \u001b[0mstd_normal\u001b[0m\u001b[0;34m.\u001b[0m\u001b[0mlog_prob\u001b[0m\u001b[0;34m(\u001b[0m\u001b[0meps\u001b[0m\u001b[0;34m)\u001b[0m\u001b[0;34m.\u001b[0m\u001b[0msum\u001b[0m\u001b[0;34m(\u001b[0m\u001b[0;36m1\u001b[0m\u001b[0;34m)\u001b[0m\u001b[0;34m\u001b[0m\u001b[0;34m\u001b[0m\u001b[0m\n",
      "\u001b[0m\u001b[1;32m    296 \u001b[0m\u001b[0;34m\u001b[0m\u001b[0m\n",
      "\u001b[1;32m    297 \u001b[0m        \u001b[0mz_new\u001b[0m \u001b[0;34m=\u001b[0m \u001b[0mz_upd\u001b[0m\u001b[0;34m\u001b[0m\u001b[0;34m\u001b[0m\u001b[0m\n",
      "\u001b[1;32m    298 \u001b[0m\u001b[0;34m\u001b[0m\u001b[0m\n",
      "\u001b[1;32m    299 \u001b[0m        \u001b[0;31m###\u001b[0m\u001b[0;34m\u001b[0m\u001b[0;34m\u001b[0m\u001b[0;34m\u001b[0m\u001b[0m\n",
      "\u001b[1;32m    300 \u001b[0m        \u001b[0;32mwith\u001b[0m \u001b[0mtorch\u001b[0m\u001b[0;34m.\u001b[0m\u001b[0mno_grad\u001b[0m\u001b[0;34m(\u001b[0m\u001b[0;34m)\u001b[0m\u001b[0;34m:\u001b[0m\u001b[0;34m\u001b[0m\u001b[0;34m\u001b[0m\u001b[0m\n",
      "\n"
     ]
    },
    {
     "name": "stdin",
     "output_type": "stream",
     "text": [
      "ipdb>  proposal_density_numerator\n"
     ]
    },
    {
     "name": "stdout",
     "output_type": "stream",
     "text": [
      "tensor([-95.3776, -95.8059, -94.4750, -94.1509, -94.9008, -95.1708, -93.9506,\n",
      "        -95.0646, -93.0227, -94.1119, -95.3042, -94.0263, -96.5608, -94.9266,\n",
      "        -93.3799, -94.7214, -93.8542, -94.9650, -93.8211, -93.8972, -95.5769,\n",
      "        -96.5783, -94.1705, -93.8395, -94.9955, -96.5774, -93.3102, -97.7786,\n",
      "        -97.4422, -94.1206, -94.7868, -94.9281, -94.6953, -94.4966, -95.6322,\n",
      "        -94.2076, -96.3949, -96.3103, -94.7338, -95.2991, -93.6644, -94.9886,\n",
      "        -93.5534, -94.1277, -93.5960, -95.2754, -94.1880, -94.9850, -93.7809,\n",
      "        -95.4933, -93.5445, -97.5387, -95.2633, -94.2864, -94.2159, -96.4697,\n",
      "        -96.9878, -95.2658, -96.5847, -93.5586, -95.9307, -93.9657, -95.1893,\n",
      "        -96.8474, -94.4391, -93.8481, -95.2231, -94.0024, -96.0819, -96.4588,\n",
      "        -94.7752, -93.9633, -93.5512, -95.9609, -94.8333, -95.8542, -95.3843,\n",
      "        -94.1602, -94.9772, -95.4344, -94.1814, -95.8854, -96.0177, -95.2733,\n",
      "        -94.5953, -93.6507, -94.4008, -95.3690, -95.6521, -94.8202, -95.9514,\n",
      "        -93.8972, -94.1227, -94.6956, -95.3081, -96.7472, -94.2720, -95.7572,\n",
      "        -93.7905, -93.4233], device='cuda:0')\n"
     ]
    },
    {
     "name": "stdin",
     "output_type": "stream",
     "text": [
      "ipdb>  n\n"
     ]
    },
    {
     "name": "stdout",
     "output_type": "stream",
     "text": [
      "> \u001b[0;32m/home/nkotelevskii/github/metflow/models/samplers.py\u001b[0m(297)\u001b[0;36mmake_transition\u001b[0;34m()\u001b[0m\n",
      "\u001b[0;32m    295 \u001b[0;31m        \u001b[0mproposal_density_denominator\u001b[0m \u001b[0;34m=\u001b[0m \u001b[0mstd_normal\u001b[0m\u001b[0;34m.\u001b[0m\u001b[0mlog_prob\u001b[0m\u001b[0;34m(\u001b[0m\u001b[0meps\u001b[0m\u001b[0;34m)\u001b[0m\u001b[0;34m.\u001b[0m\u001b[0msum\u001b[0m\u001b[0;34m(\u001b[0m\u001b[0;36m1\u001b[0m\u001b[0;34m)\u001b[0m\u001b[0;34m\u001b[0m\u001b[0;34m\u001b[0m\u001b[0m\n",
      "\u001b[0m\u001b[0;32m    296 \u001b[0;31m\u001b[0;34m\u001b[0m\u001b[0m\n",
      "\u001b[0m\u001b[0;32m--> 297 \u001b[0;31m        \u001b[0mz_new\u001b[0m \u001b[0;34m=\u001b[0m \u001b[0mz_upd\u001b[0m\u001b[0;34m\u001b[0m\u001b[0;34m\u001b[0m\u001b[0m\n",
      "\u001b[0m\u001b[0;32m    298 \u001b[0;31m\u001b[0;34m\u001b[0m\u001b[0m\n",
      "\u001b[0m\u001b[0;32m    299 \u001b[0;31m        \u001b[0;31m###\u001b[0m\u001b[0;34m\u001b[0m\u001b[0;34m\u001b[0m\u001b[0;34m\u001b[0m\u001b[0m\n",
      "\u001b[0m\n"
     ]
    },
    {
     "name": "stdin",
     "output_type": "stream",
     "text": [
      "ipdb>  proposal_density_denominator\n"
     ]
    },
    {
     "name": "stdout",
     "output_type": "stream",
     "text": [
      "tensor([-146.4310, -140.6102, -139.3007, -141.9236, -143.5369, -135.6804,\n",
      "        -141.8717, -143.9990, -134.0378, -141.8576, -147.4485, -157.5022,\n",
      "        -147.4998, -142.9543, -155.0458, -143.4251, -154.0109, -139.0259,\n",
      "        -138.4986, -141.6771, -144.8130, -139.0892, -134.6164, -157.0891,\n",
      "        -149.0808, -163.8890, -135.5802, -133.1441, -132.5892, -146.1041,\n",
      "        -143.8495, -140.1778, -148.4436, -140.0159, -146.3909, -141.1794,\n",
      "        -139.1979, -135.1289, -148.4689, -134.5874, -138.1894, -132.1818,\n",
      "        -138.9670, -151.2648, -136.1422, -154.1900, -140.7306, -141.6888,\n",
      "        -133.0919, -135.2489, -128.4404, -135.6926, -151.4668, -134.9214,\n",
      "        -138.6302, -138.7498, -142.9134, -139.3253, -136.8326, -139.7886,\n",
      "        -137.5486, -145.8272, -144.9510, -130.8595, -153.5489, -132.1464,\n",
      "        -138.6730, -142.0182, -145.7953, -131.9983, -134.0290, -137.4797,\n",
      "        -150.0326, -140.0414, -156.3582, -151.1036, -147.0923, -142.0720,\n",
      "        -153.4742, -136.0888, -139.9445, -142.1888, -133.3810, -137.5393,\n",
      "        -140.6658, -150.3098, -138.6843, -141.1652, -155.2728, -132.0096,\n",
      "        -143.0798, -154.7159, -148.0738, -137.8140, -152.3949, -128.8745,\n",
      "        -138.5735, -133.9684, -149.0518, -152.7435], device='cuda:0')\n"
     ]
    },
    {
     "name": "stdin",
     "output_type": "stream",
     "text": [
      "ipdb>  c\n"
     ]
    },
    {
     "name": "stdout",
     "output_type": "stream",
     "text": [
      "> \u001b[0;32m/home/nkotelevskii/github/metflow/models/samplers.py\u001b[0m(295)\u001b[0;36mmake_transition\u001b[0;34m()\u001b[0m\n",
      "\u001b[0;32m    293 \u001b[0;31m            \u001b[0;32mimport\u001b[0m \u001b[0mpdb\u001b[0m\u001b[0;34m\u001b[0m\u001b[0;34m\u001b[0m\u001b[0m\n",
      "\u001b[0m\u001b[0;32m    294 \u001b[0;31m            \u001b[0mpdb\u001b[0m\u001b[0;34m.\u001b[0m\u001b[0mset_trace\u001b[0m\u001b[0;34m(\u001b[0m\u001b[0;34m)\u001b[0m\u001b[0;34m\u001b[0m\u001b[0;34m\u001b[0m\u001b[0m\n",
      "\u001b[0m\u001b[0;32m--> 295 \u001b[0;31m        \u001b[0mproposal_density_denominator\u001b[0m \u001b[0;34m=\u001b[0m \u001b[0mstd_normal\u001b[0m\u001b[0;34m.\u001b[0m\u001b[0mlog_prob\u001b[0m\u001b[0;34m(\u001b[0m\u001b[0meps\u001b[0m\u001b[0;34m)\u001b[0m\u001b[0;34m.\u001b[0m\u001b[0msum\u001b[0m\u001b[0;34m(\u001b[0m\u001b[0;36m1\u001b[0m\u001b[0;34m)\u001b[0m\u001b[0;34m\u001b[0m\u001b[0;34m\u001b[0m\u001b[0m\n",
      "\u001b[0m\u001b[0;32m    296 \u001b[0;31m\u001b[0;34m\u001b[0m\u001b[0m\n",
      "\u001b[0m\u001b[0;32m    297 \u001b[0;31m        \u001b[0mz_new\u001b[0m \u001b[0;34m=\u001b[0m \u001b[0mz_upd\u001b[0m\u001b[0;34m\u001b[0m\u001b[0;34m\u001b[0m\u001b[0m\n",
      "\u001b[0m\n"
     ]
    },
    {
     "name": "stdin",
     "output_type": "stream",
     "text": [
      "ipdb>  c\n"
     ]
    },
    {
     "name": "stderr",
     "output_type": "stream",
     "text": [
      "/home/nkotelevskii/anaconda3/envs/condatorch/lib/python3.8/site-packages/pytorch_lightning/utilities/distributed.py:49: UserWarning: The dataloader, train dataloader, does not have many workers which may be a bottleneck. Consider increasing the value of the `num_workers` argument` (try 20 which is the number of cpus on this machine) in the `DataLoader` init to improve performance.\n",
      "  warnings.warn(*args, **kwargs)\n"
     ]
    },
    {
     "data": {
      "application/vnd.jupyter.widget-view+json": {
       "model_id": "833eb03384b04bcb98a92076f374bf94",
       "version_major": 2,
       "version_minor": 0
      },
      "text/plain": [
       "HBox(children=(HTML(value='Training'), FloatProgress(value=1.0, bar_style='info', layout=Layout(flex='2'), max…"
      ]
     },
     "metadata": {},
     "output_type": "display_data"
    },
    {
     "name": "stdout",
     "output_type": "stream",
     "text": [
      "> \u001b[0;32m/home/nkotelevskii/github/metflow/models/samplers.py\u001b[0m(295)\u001b[0;36mmake_transition\u001b[0;34m()\u001b[0m\n",
      "\u001b[0;32m    293 \u001b[0;31m            \u001b[0;32mimport\u001b[0m \u001b[0mpdb\u001b[0m\u001b[0;34m\u001b[0m\u001b[0;34m\u001b[0m\u001b[0m\n",
      "\u001b[0m\u001b[0;32m    294 \u001b[0;31m            \u001b[0mpdb\u001b[0m\u001b[0;34m.\u001b[0m\u001b[0mset_trace\u001b[0m\u001b[0;34m(\u001b[0m\u001b[0;34m)\u001b[0m\u001b[0;34m\u001b[0m\u001b[0;34m\u001b[0m\u001b[0m\n",
      "\u001b[0m\u001b[0;32m--> 295 \u001b[0;31m        \u001b[0mproposal_density_denominator\u001b[0m \u001b[0;34m=\u001b[0m \u001b[0mstd_normal\u001b[0m\u001b[0;34m.\u001b[0m\u001b[0mlog_prob\u001b[0m\u001b[0;34m(\u001b[0m\u001b[0meps\u001b[0m\u001b[0;34m)\u001b[0m\u001b[0;34m.\u001b[0m\u001b[0msum\u001b[0m\u001b[0;34m(\u001b[0m\u001b[0;36m1\u001b[0m\u001b[0;34m)\u001b[0m\u001b[0;34m\u001b[0m\u001b[0;34m\u001b[0m\u001b[0m\n",
      "\u001b[0m\u001b[0;32m    296 \u001b[0;31m\u001b[0;34m\u001b[0m\u001b[0m\n",
      "\u001b[0m\u001b[0;32m    297 \u001b[0;31m        \u001b[0mz_new\u001b[0m \u001b[0;34m=\u001b[0m \u001b[0mz_upd\u001b[0m\u001b[0;34m\u001b[0m\u001b[0;34m\u001b[0m\u001b[0m\n",
      "\u001b[0m\n"
     ]
    },
    {
     "name": "stdin",
     "output_type": "stream",
     "text": [
      "ipdb>  l\n"
     ]
    },
    {
     "name": "stdout",
     "output_type": "stream",
     "text": [
      "\u001b[1;32m    290 \u001b[0m            \u001b[0mmu\u001b[0m\u001b[0;34m,\u001b[0m \u001b[0mlogvar\u001b[0m \u001b[0;34m=\u001b[0m \u001b[0mreverse_kernel\u001b[0m\u001b[0;34m(\u001b[0m\u001b[0mtorch\u001b[0m\u001b[0;34m.\u001b[0m\u001b[0mcat\u001b[0m\u001b[0;34m(\u001b[0m\u001b[0;34m[\u001b[0m\u001b[0mz_upd\u001b[0m\u001b[0;34m,\u001b[0m \u001b[0mmu_amortize\u001b[0m\u001b[0;34m]\u001b[0m\u001b[0;34m,\u001b[0m \u001b[0mdim\u001b[0m\u001b[0;34m=\u001b[0m\u001b[0;36m1\u001b[0m\u001b[0;34m)\u001b[0m\u001b[0;34m)\u001b[0m\u001b[0;34m\u001b[0m\u001b[0;34m\u001b[0m\u001b[0m\n",
      "\u001b[1;32m    291 \u001b[0m            proposal_density_numerator = torch.distributions.Normal(loc=mu, scale=torch.exp(0.5 * logvar)).log_prob(\n",
      "\u001b[1;32m    292 \u001b[0m                z).sum(1)\n",
      "\u001b[1;32m    293 \u001b[0m            \u001b[0;32mimport\u001b[0m \u001b[0mpdb\u001b[0m\u001b[0;34m\u001b[0m\u001b[0;34m\u001b[0m\u001b[0m\n",
      "\u001b[1;32m    294 \u001b[0m            \u001b[0mpdb\u001b[0m\u001b[0;34m.\u001b[0m\u001b[0mset_trace\u001b[0m\u001b[0;34m(\u001b[0m\u001b[0;34m)\u001b[0m\u001b[0;34m\u001b[0m\u001b[0;34m\u001b[0m\u001b[0m\n",
      "\u001b[0;32m--> 295 \u001b[0;31m        \u001b[0mproposal_density_denominator\u001b[0m \u001b[0;34m=\u001b[0m \u001b[0mstd_normal\u001b[0m\u001b[0;34m.\u001b[0m\u001b[0mlog_prob\u001b[0m\u001b[0;34m(\u001b[0m\u001b[0meps\u001b[0m\u001b[0;34m)\u001b[0m\u001b[0;34m.\u001b[0m\u001b[0msum\u001b[0m\u001b[0;34m(\u001b[0m\u001b[0;36m1\u001b[0m\u001b[0;34m)\u001b[0m\u001b[0;34m\u001b[0m\u001b[0;34m\u001b[0m\u001b[0m\n",
      "\u001b[0m\u001b[1;32m    296 \u001b[0m\u001b[0;34m\u001b[0m\u001b[0m\n",
      "\u001b[1;32m    297 \u001b[0m        \u001b[0mz_new\u001b[0m \u001b[0;34m=\u001b[0m \u001b[0mz_upd\u001b[0m\u001b[0;34m\u001b[0m\u001b[0;34m\u001b[0m\u001b[0m\n",
      "\u001b[1;32m    298 \u001b[0m\u001b[0;34m\u001b[0m\u001b[0m\n",
      "\u001b[1;32m    299 \u001b[0m        \u001b[0;31m###\u001b[0m\u001b[0;34m\u001b[0m\u001b[0;34m\u001b[0m\u001b[0;34m\u001b[0m\u001b[0m\n",
      "\u001b[1;32m    300 \u001b[0m        \u001b[0;32mwith\u001b[0m \u001b[0mtorch\u001b[0m\u001b[0;34m.\u001b[0m\u001b[0mno_grad\u001b[0m\u001b[0;34m(\u001b[0m\u001b[0;34m)\u001b[0m\u001b[0;34m:\u001b[0m\u001b[0;34m\u001b[0m\u001b[0;34m\u001b[0m\u001b[0m\n",
      "\n"
     ]
    },
    {
     "name": "stdin",
     "output_type": "stream",
     "text": [
      "ipdb>  proposal_density_numerator\n"
     ]
    },
    {
     "name": "stdout",
     "output_type": "stream",
     "text": [
      "tensor([-94.5317, -94.7253, -96.6883, -96.0809, -94.2829, -95.5246, -93.6617,\n",
      "        -93.8099, -94.4432, -95.2868, -95.8652, -94.8354, -94.4960, -95.6355,\n",
      "        -95.0625, -94.9936, -95.6617, -94.3483, -93.5368, -96.9681, -93.8587,\n",
      "        -94.1969, -94.2508, -94.4562, -95.0666, -96.0399, -97.1531, -94.8723,\n",
      "        -95.0929, -95.8054, -94.9713, -94.9028, -94.4580, -96.7896, -95.6754,\n",
      "        -95.0082, -96.0695, -96.5562, -95.8982, -93.6395, -96.5245, -95.7232,\n",
      "        -95.7653, -96.4272, -96.8164, -95.0334, -93.9237, -97.4513, -94.5016,\n",
      "        -94.2400, -95.3942, -95.1177, -93.3016, -95.6268, -96.0296, -95.5117,\n",
      "        -96.5693, -95.0053, -95.2332, -95.5879, -95.4145, -94.6781, -93.8831,\n",
      "        -95.5221, -96.9571, -95.0927, -96.3691, -94.5027, -95.5555, -94.9506,\n",
      "        -95.7418, -94.0392, -96.3006, -94.8357, -93.9037, -93.9412, -94.5750,\n",
      "        -96.8072, -94.0914, -95.4753, -94.3898, -94.4171, -95.3787, -95.6731,\n",
      "        -95.1285, -96.3996, -95.1335, -94.8360, -98.9753, -94.3691, -93.9422,\n",
      "        -96.2753, -94.6482, -95.1110, -94.9552, -94.7015, -95.0060, -93.3091,\n",
      "        -97.5383, -95.5091], device='cuda:0', grad_fn=<SumBackward1>)\n"
     ]
    },
    {
     "name": "stdin",
     "output_type": "stream",
     "text": [
      "ipdb>  n\n"
     ]
    },
    {
     "name": "stdout",
     "output_type": "stream",
     "text": [
      "> \u001b[0;32m/home/nkotelevskii/github/metflow/models/samplers.py\u001b[0m(297)\u001b[0;36mmake_transition\u001b[0;34m()\u001b[0m\n",
      "\u001b[0;32m    295 \u001b[0;31m        \u001b[0mproposal_density_denominator\u001b[0m \u001b[0;34m=\u001b[0m \u001b[0mstd_normal\u001b[0m\u001b[0;34m.\u001b[0m\u001b[0mlog_prob\u001b[0m\u001b[0;34m(\u001b[0m\u001b[0meps\u001b[0m\u001b[0;34m)\u001b[0m\u001b[0;34m.\u001b[0m\u001b[0msum\u001b[0m\u001b[0;34m(\u001b[0m\u001b[0;36m1\u001b[0m\u001b[0;34m)\u001b[0m\u001b[0;34m\u001b[0m\u001b[0;34m\u001b[0m\u001b[0m\n",
      "\u001b[0m\u001b[0;32m    296 \u001b[0;31m\u001b[0;34m\u001b[0m\u001b[0m\n",
      "\u001b[0m\u001b[0;32m--> 297 \u001b[0;31m        \u001b[0mz_new\u001b[0m \u001b[0;34m=\u001b[0m \u001b[0mz_upd\u001b[0m\u001b[0;34m\u001b[0m\u001b[0;34m\u001b[0m\u001b[0m\n",
      "\u001b[0m\u001b[0;32m    298 \u001b[0;31m\u001b[0;34m\u001b[0m\u001b[0m\n",
      "\u001b[0m\u001b[0;32m    299 \u001b[0;31m        \u001b[0;31m###\u001b[0m\u001b[0;34m\u001b[0m\u001b[0;34m\u001b[0m\u001b[0;34m\u001b[0m\u001b[0m\n",
      "\u001b[0m\n"
     ]
    },
    {
     "name": "stdin",
     "output_type": "stream",
     "text": [
      "ipdb>  proposal_density_denominator\n"
     ]
    },
    {
     "name": "stdout",
     "output_type": "stream",
     "text": [
      "tensor([-132.6566, -138.1509, -136.4125, -147.7957, -141.0547, -143.9251,\n",
      "        -150.3295, -138.8692, -139.5088, -157.0158, -142.9257, -134.1563,\n",
      "        -144.2855, -144.2211, -135.5975, -141.2521, -153.8958, -131.0676,\n",
      "        -138.4034, -127.4715, -154.0866, -147.9740, -149.1210, -140.4524,\n",
      "        -137.2724, -143.9175, -135.7776, -137.3575, -144.6543, -141.9239,\n",
      "        -139.6571, -145.7996, -151.4924, -137.8004, -148.6528, -140.2309,\n",
      "        -145.1800, -132.9691, -149.0033, -144.9300, -140.0458, -147.3461,\n",
      "        -154.6968, -151.4992, -145.9287, -142.9902, -154.4283, -140.9539,\n",
      "        -134.7433, -144.0301, -133.8429, -150.0531, -141.6931, -143.7299,\n",
      "        -147.4802, -142.3478, -160.2601, -150.2877, -136.1246, -142.4634,\n",
      "        -146.7168, -133.0498, -136.8847, -145.8396, -153.1057, -132.4257,\n",
      "        -144.2570, -148.9386, -132.9288, -148.3356, -150.7859, -147.7441,\n",
      "        -141.5187, -148.0009, -137.7659, -142.4707, -153.6358, -132.9777,\n",
      "        -149.7246, -141.9248, -137.1332, -141.5716, -142.8392, -152.4249,\n",
      "        -145.1075, -135.8052, -140.4751, -151.2758, -144.4325, -149.1246,\n",
      "        -147.2325, -139.5538, -147.5938, -144.4468, -137.5916, -144.1124,\n",
      "        -143.1801, -150.5091, -150.9284, -145.0796], device='cuda:0')\n"
     ]
    },
    {
     "name": "stdin",
     "output_type": "stream",
     "text": [
      "ipdb>  c\n"
     ]
    },
    {
     "name": "stdout",
     "output_type": "stream",
     "text": [
      "> \u001b[0;32m/home/nkotelevskii/github/metflow/models/samplers.py\u001b[0m(295)\u001b[0;36mmake_transition\u001b[0;34m()\u001b[0m\n",
      "\u001b[0;32m    293 \u001b[0;31m            \u001b[0;32mimport\u001b[0m \u001b[0mpdb\u001b[0m\u001b[0;34m\u001b[0m\u001b[0;34m\u001b[0m\u001b[0m\n",
      "\u001b[0m\u001b[0;32m    294 \u001b[0;31m            \u001b[0mpdb\u001b[0m\u001b[0;34m.\u001b[0m\u001b[0mset_trace\u001b[0m\u001b[0;34m(\u001b[0m\u001b[0;34m)\u001b[0m\u001b[0;34m\u001b[0m\u001b[0;34m\u001b[0m\u001b[0m\n",
      "\u001b[0m\u001b[0;32m--> 295 \u001b[0;31m        \u001b[0mproposal_density_denominator\u001b[0m \u001b[0;34m=\u001b[0m \u001b[0mstd_normal\u001b[0m\u001b[0;34m.\u001b[0m\u001b[0mlog_prob\u001b[0m\u001b[0;34m(\u001b[0m\u001b[0meps\u001b[0m\u001b[0;34m)\u001b[0m\u001b[0;34m.\u001b[0m\u001b[0msum\u001b[0m\u001b[0;34m(\u001b[0m\u001b[0;36m1\u001b[0m\u001b[0;34m)\u001b[0m\u001b[0;34m\u001b[0m\u001b[0;34m\u001b[0m\u001b[0m\n",
      "\u001b[0m\u001b[0;32m    296 \u001b[0;31m\u001b[0;34m\u001b[0m\u001b[0m\n",
      "\u001b[0m\u001b[0;32m    297 \u001b[0;31m        \u001b[0mz_new\u001b[0m \u001b[0;34m=\u001b[0m \u001b[0mz_upd\u001b[0m\u001b[0;34m\u001b[0m\u001b[0;34m\u001b[0m\u001b[0m\n",
      "\u001b[0m\n"
     ]
    },
    {
     "name": "stdin",
     "output_type": "stream",
     "text": [
      "ipdb>  c\n"
     ]
    },
    {
     "name": "stdout",
     "output_type": "stream",
     "text": [
      "> \u001b[0;32m/home/nkotelevskii/github/metflow/models/samplers.py\u001b[0m(295)\u001b[0;36mmake_transition\u001b[0;34m()\u001b[0m\n",
      "\u001b[0;32m    293 \u001b[0;31m            \u001b[0;32mimport\u001b[0m \u001b[0mpdb\u001b[0m\u001b[0;34m\u001b[0m\u001b[0;34m\u001b[0m\u001b[0m\n",
      "\u001b[0m\u001b[0;32m    294 \u001b[0;31m            \u001b[0mpdb\u001b[0m\u001b[0;34m.\u001b[0m\u001b[0mset_trace\u001b[0m\u001b[0;34m(\u001b[0m\u001b[0;34m)\u001b[0m\u001b[0;34m\u001b[0m\u001b[0;34m\u001b[0m\u001b[0m\n",
      "\u001b[0m\u001b[0;32m--> 295 \u001b[0;31m        \u001b[0mproposal_density_denominator\u001b[0m \u001b[0;34m=\u001b[0m \u001b[0mstd_normal\u001b[0m\u001b[0;34m.\u001b[0m\u001b[0mlog_prob\u001b[0m\u001b[0;34m(\u001b[0m\u001b[0meps\u001b[0m\u001b[0;34m)\u001b[0m\u001b[0;34m.\u001b[0m\u001b[0msum\u001b[0m\u001b[0;34m(\u001b[0m\u001b[0;36m1\u001b[0m\u001b[0;34m)\u001b[0m\u001b[0;34m\u001b[0m\u001b[0;34m\u001b[0m\u001b[0m\n",
      "\u001b[0m\u001b[0;32m    296 \u001b[0;31m\u001b[0;34m\u001b[0m\u001b[0m\n",
      "\u001b[0m\u001b[0;32m    297 \u001b[0;31m        \u001b[0mz_new\u001b[0m \u001b[0;34m=\u001b[0m \u001b[0mz_upd\u001b[0m\u001b[0;34m\u001b[0m\u001b[0;34m\u001b[0m\u001b[0m\n",
      "\u001b[0m\n"
     ]
    },
    {
     "name": "stdin",
     "output_type": "stream",
     "text": [
      "ipdb>  c\n"
     ]
    },
    {
     "name": "stdout",
     "output_type": "stream",
     "text": [
      "> \u001b[0;32m/home/nkotelevskii/github/metflow/models/samplers.py\u001b[0m(295)\u001b[0;36mmake_transition\u001b[0;34m()\u001b[0m\n",
      "\u001b[0;32m    293 \u001b[0;31m            \u001b[0;32mimport\u001b[0m \u001b[0mpdb\u001b[0m\u001b[0;34m\u001b[0m\u001b[0;34m\u001b[0m\u001b[0m\n",
      "\u001b[0m\u001b[0;32m    294 \u001b[0;31m            \u001b[0mpdb\u001b[0m\u001b[0;34m.\u001b[0m\u001b[0mset_trace\u001b[0m\u001b[0;34m(\u001b[0m\u001b[0;34m)\u001b[0m\u001b[0;34m\u001b[0m\u001b[0;34m\u001b[0m\u001b[0m\n",
      "\u001b[0m\u001b[0;32m--> 295 \u001b[0;31m        \u001b[0mproposal_density_denominator\u001b[0m \u001b[0;34m=\u001b[0m \u001b[0mstd_normal\u001b[0m\u001b[0;34m.\u001b[0m\u001b[0mlog_prob\u001b[0m\u001b[0;34m(\u001b[0m\u001b[0meps\u001b[0m\u001b[0;34m)\u001b[0m\u001b[0;34m.\u001b[0m\u001b[0msum\u001b[0m\u001b[0;34m(\u001b[0m\u001b[0;36m1\u001b[0m\u001b[0;34m)\u001b[0m\u001b[0;34m\u001b[0m\u001b[0;34m\u001b[0m\u001b[0m\n",
      "\u001b[0m\u001b[0;32m    296 \u001b[0;31m\u001b[0;34m\u001b[0m\u001b[0m\n",
      "\u001b[0m\u001b[0;32m    297 \u001b[0;31m        \u001b[0mz_new\u001b[0m \u001b[0;34m=\u001b[0m \u001b[0mz_upd\u001b[0m\u001b[0;34m\u001b[0m\u001b[0;34m\u001b[0m\u001b[0m\n",
      "\u001b[0m\n"
     ]
    },
    {
     "name": "stdin",
     "output_type": "stream",
     "text": [
      "ipdb>  c\n"
     ]
    },
    {
     "name": "stdout",
     "output_type": "stream",
     "text": [
      "> \u001b[0;32m/home/nkotelevskii/github/metflow/models/samplers.py\u001b[0m(295)\u001b[0;36mmake_transition\u001b[0;34m()\u001b[0m\n",
      "\u001b[0;32m    293 \u001b[0;31m            \u001b[0;32mimport\u001b[0m \u001b[0mpdb\u001b[0m\u001b[0;34m\u001b[0m\u001b[0;34m\u001b[0m\u001b[0m\n",
      "\u001b[0m\u001b[0;32m    294 \u001b[0;31m            \u001b[0mpdb\u001b[0m\u001b[0;34m.\u001b[0m\u001b[0mset_trace\u001b[0m\u001b[0;34m(\u001b[0m\u001b[0;34m)\u001b[0m\u001b[0;34m\u001b[0m\u001b[0;34m\u001b[0m\u001b[0m\n",
      "\u001b[0m\u001b[0;32m--> 295 \u001b[0;31m        \u001b[0mproposal_density_denominator\u001b[0m \u001b[0;34m=\u001b[0m \u001b[0mstd_normal\u001b[0m\u001b[0;34m.\u001b[0m\u001b[0mlog_prob\u001b[0m\u001b[0;34m(\u001b[0m\u001b[0meps\u001b[0m\u001b[0;34m)\u001b[0m\u001b[0;34m.\u001b[0m\u001b[0msum\u001b[0m\u001b[0;34m(\u001b[0m\u001b[0;36m1\u001b[0m\u001b[0;34m)\u001b[0m\u001b[0;34m\u001b[0m\u001b[0;34m\u001b[0m\u001b[0m\n",
      "\u001b[0m\u001b[0;32m    296 \u001b[0;31m\u001b[0;34m\u001b[0m\u001b[0m\n",
      "\u001b[0m\u001b[0;32m    297 \u001b[0;31m        \u001b[0mz_new\u001b[0m \u001b[0;34m=\u001b[0m \u001b[0mz_upd\u001b[0m\u001b[0;34m\u001b[0m\u001b[0;34m\u001b[0m\u001b[0m\n",
      "\u001b[0m\n"
     ]
    },
    {
     "name": "stdin",
     "output_type": "stream",
     "text": [
      "ipdb>  c\n"
     ]
    },
    {
     "name": "stdout",
     "output_type": "stream",
     "text": [
      "> \u001b[0;32m/home/nkotelevskii/github/metflow/models/samplers.py\u001b[0m(295)\u001b[0;36mmake_transition\u001b[0;34m()\u001b[0m\n",
      "\u001b[0;32m    293 \u001b[0;31m            \u001b[0;32mimport\u001b[0m \u001b[0mpdb\u001b[0m\u001b[0;34m\u001b[0m\u001b[0;34m\u001b[0m\u001b[0m\n",
      "\u001b[0m\u001b[0;32m    294 \u001b[0;31m            \u001b[0mpdb\u001b[0m\u001b[0;34m.\u001b[0m\u001b[0mset_trace\u001b[0m\u001b[0;34m(\u001b[0m\u001b[0;34m)\u001b[0m\u001b[0;34m\u001b[0m\u001b[0;34m\u001b[0m\u001b[0m\n",
      "\u001b[0m\u001b[0;32m--> 295 \u001b[0;31m        \u001b[0mproposal_density_denominator\u001b[0m \u001b[0;34m=\u001b[0m \u001b[0mstd_normal\u001b[0m\u001b[0;34m.\u001b[0m\u001b[0mlog_prob\u001b[0m\u001b[0;34m(\u001b[0m\u001b[0meps\u001b[0m\u001b[0;34m)\u001b[0m\u001b[0;34m.\u001b[0m\u001b[0msum\u001b[0m\u001b[0;34m(\u001b[0m\u001b[0;36m1\u001b[0m\u001b[0;34m)\u001b[0m\u001b[0;34m\u001b[0m\u001b[0;34m\u001b[0m\u001b[0m\n",
      "\u001b[0m\u001b[0;32m    296 \u001b[0;31m\u001b[0;34m\u001b[0m\u001b[0m\n",
      "\u001b[0m\u001b[0;32m    297 \u001b[0;31m        \u001b[0mz_new\u001b[0m \u001b[0;34m=\u001b[0m \u001b[0mz_upd\u001b[0m\u001b[0;34m\u001b[0m\u001b[0;34m\u001b[0m\u001b[0m\n",
      "\u001b[0m\n"
     ]
    },
    {
     "name": "stdin",
     "output_type": "stream",
     "text": [
      "ipdb>  l\n"
     ]
    },
    {
     "name": "stdout",
     "output_type": "stream",
     "text": [
      "\u001b[1;32m    290 \u001b[0m            \u001b[0mmu\u001b[0m\u001b[0;34m,\u001b[0m \u001b[0mlogvar\u001b[0m \u001b[0;34m=\u001b[0m \u001b[0mreverse_kernel\u001b[0m\u001b[0;34m(\u001b[0m\u001b[0mtorch\u001b[0m\u001b[0;34m.\u001b[0m\u001b[0mcat\u001b[0m\u001b[0;34m(\u001b[0m\u001b[0;34m[\u001b[0m\u001b[0mz_upd\u001b[0m\u001b[0;34m,\u001b[0m \u001b[0mmu_amortize\u001b[0m\u001b[0;34m]\u001b[0m\u001b[0;34m,\u001b[0m \u001b[0mdim\u001b[0m\u001b[0;34m=\u001b[0m\u001b[0;36m1\u001b[0m\u001b[0;34m)\u001b[0m\u001b[0;34m)\u001b[0m\u001b[0;34m\u001b[0m\u001b[0;34m\u001b[0m\u001b[0m\n",
      "\u001b[1;32m    291 \u001b[0m            proposal_density_numerator = torch.distributions.Normal(loc=mu, scale=torch.exp(0.5 * logvar)).log_prob(\n",
      "\u001b[1;32m    292 \u001b[0m                z).sum(1)\n",
      "\u001b[1;32m    293 \u001b[0m            \u001b[0;32mimport\u001b[0m \u001b[0mpdb\u001b[0m\u001b[0;34m\u001b[0m\u001b[0;34m\u001b[0m\u001b[0m\n",
      "\u001b[1;32m    294 \u001b[0m            \u001b[0mpdb\u001b[0m\u001b[0;34m.\u001b[0m\u001b[0mset_trace\u001b[0m\u001b[0;34m(\u001b[0m\u001b[0;34m)\u001b[0m\u001b[0;34m\u001b[0m\u001b[0;34m\u001b[0m\u001b[0m\n",
      "\u001b[0;32m--> 295 \u001b[0;31m        \u001b[0mproposal_density_denominator\u001b[0m \u001b[0;34m=\u001b[0m \u001b[0mstd_normal\u001b[0m\u001b[0;34m.\u001b[0m\u001b[0mlog_prob\u001b[0m\u001b[0;34m(\u001b[0m\u001b[0meps\u001b[0m\u001b[0;34m)\u001b[0m\u001b[0;34m.\u001b[0m\u001b[0msum\u001b[0m\u001b[0;34m(\u001b[0m\u001b[0;36m1\u001b[0m\u001b[0;34m)\u001b[0m\u001b[0;34m\u001b[0m\u001b[0;34m\u001b[0m\u001b[0m\n",
      "\u001b[0m\u001b[1;32m    296 \u001b[0m\u001b[0;34m\u001b[0m\u001b[0m\n",
      "\u001b[1;32m    297 \u001b[0m        \u001b[0mz_new\u001b[0m \u001b[0;34m=\u001b[0m \u001b[0mz_upd\u001b[0m\u001b[0;34m\u001b[0m\u001b[0;34m\u001b[0m\u001b[0m\n",
      "\u001b[1;32m    298 \u001b[0m\u001b[0;34m\u001b[0m\u001b[0m\n",
      "\u001b[1;32m    299 \u001b[0m        \u001b[0;31m###\u001b[0m\u001b[0;34m\u001b[0m\u001b[0;34m\u001b[0m\u001b[0;34m\u001b[0m\u001b[0m\n",
      "\u001b[1;32m    300 \u001b[0m        \u001b[0;32mwith\u001b[0m \u001b[0mtorch\u001b[0m\u001b[0;34m.\u001b[0m\u001b[0mno_grad\u001b[0m\u001b[0;34m(\u001b[0m\u001b[0;34m)\u001b[0m\u001b[0;34m:\u001b[0m\u001b[0;34m\u001b[0m\u001b[0;34m\u001b[0m\u001b[0m\n",
      "\n"
     ]
    },
    {
     "name": "stdin",
     "output_type": "stream",
     "text": [
      "ipdb>  proposal_density_numerator\n"
     ]
    },
    {
     "name": "stdout",
     "output_type": "stream",
     "text": [
      "tensor([-90.1474, -89.8752, -89.8598, -90.0304, -89.6248, -89.6380, -89.8418,\n",
      "        -89.8358, -89.1677, -91.0337, -90.4426, -90.3195, -90.8715, -89.2637,\n",
      "        -90.0070, -90.3618, -90.3828, -90.1516, -89.6788, -90.2895, -91.1151,\n",
      "        -89.7854, -90.7627, -90.9568, -89.9686, -89.6017, -90.5007, -89.2577,\n",
      "        -90.1455, -90.5593, -90.0968, -88.8921, -89.8700, -90.6064, -90.6168,\n",
      "        -89.4250, -90.8374, -90.6886, -90.4815, -89.9760, -90.4556, -89.7790,\n",
      "        -91.6048, -90.2273, -89.6544, -90.3576, -90.5672, -90.6879, -90.6878,\n",
      "        -90.0638, -90.2425, -90.3293, -89.9753, -90.7523, -90.1524, -89.1491,\n",
      "        -89.7670, -90.4344, -90.4239, -89.0687, -90.8441, -91.2478, -90.3467,\n",
      "        -90.4700, -90.3797, -90.7043, -90.0969, -90.1593, -88.6058, -90.5237,\n",
      "        -88.9268, -89.5062, -90.5376, -89.9160, -91.1390, -90.3023, -90.0065,\n",
      "        -90.4652, -89.7879, -91.2493, -91.1123, -90.3531, -89.1107, -89.8702,\n",
      "        -90.3288, -90.4971, -89.5395, -89.9662, -89.9535, -89.0458, -91.2135,\n",
      "        -90.6150, -90.2875, -90.5485, -90.1623, -89.5109, -90.2829, -89.8019,\n",
      "        -89.7948, -90.6837], device='cuda:0', grad_fn=<SumBackward1>)\n"
     ]
    },
    {
     "name": "stdin",
     "output_type": "stream",
     "text": [
      "ipdb>  proposal_density_denominator\n"
     ]
    },
    {
     "name": "stdout",
     "output_type": "stream",
     "text": [
      "*** NameError: name 'proposal_density_denominator' is not defined\n"
     ]
    },
    {
     "name": "stdin",
     "output_type": "stream",
     "text": [
      "ipdb>  n\n"
     ]
    },
    {
     "name": "stdout",
     "output_type": "stream",
     "text": [
      "> \u001b[0;32m/home/nkotelevskii/github/metflow/models/samplers.py\u001b[0m(297)\u001b[0;36mmake_transition\u001b[0;34m()\u001b[0m\n",
      "\u001b[0;32m    295 \u001b[0;31m        \u001b[0mproposal_density_denominator\u001b[0m \u001b[0;34m=\u001b[0m \u001b[0mstd_normal\u001b[0m\u001b[0;34m.\u001b[0m\u001b[0mlog_prob\u001b[0m\u001b[0;34m(\u001b[0m\u001b[0meps\u001b[0m\u001b[0;34m)\u001b[0m\u001b[0;34m.\u001b[0m\u001b[0msum\u001b[0m\u001b[0;34m(\u001b[0m\u001b[0;36m1\u001b[0m\u001b[0;34m)\u001b[0m\u001b[0;34m\u001b[0m\u001b[0;34m\u001b[0m\u001b[0m\n",
      "\u001b[0m\u001b[0;32m    296 \u001b[0;31m\u001b[0;34m\u001b[0m\u001b[0m\n",
      "\u001b[0m\u001b[0;32m--> 297 \u001b[0;31m        \u001b[0mz_new\u001b[0m \u001b[0;34m=\u001b[0m \u001b[0mz_upd\u001b[0m\u001b[0;34m\u001b[0m\u001b[0;34m\u001b[0m\u001b[0m\n",
      "\u001b[0m\u001b[0;32m    298 \u001b[0;31m\u001b[0;34m\u001b[0m\u001b[0m\n",
      "\u001b[0m\u001b[0;32m    299 \u001b[0;31m        \u001b[0;31m###\u001b[0m\u001b[0;34m\u001b[0m\u001b[0;34m\u001b[0m\u001b[0;34m\u001b[0m\u001b[0m\n",
      "\u001b[0m\n"
     ]
    },
    {
     "name": "stdin",
     "output_type": "stream",
     "text": [
      "ipdb>  proposal_density_denominator\n"
     ]
    },
    {
     "name": "stdout",
     "output_type": "stream",
     "text": [
      "tensor([-137.1668, -149.8611, -151.2194, -140.2371, -151.1601, -142.2115,\n",
      "        -129.7785, -133.8708, -139.5077, -143.1925, -147.3088, -153.4055,\n",
      "        -134.9669, -137.3990, -145.6248, -144.7758, -144.2202, -138.5620,\n",
      "        -131.7334, -141.7127, -146.2631, -143.2713, -137.4313, -143.3028,\n",
      "        -166.4186, -156.6298, -129.3212, -141.9250, -154.9762, -135.1765,\n",
      "        -142.4826, -134.7117, -142.1162, -130.6470, -145.0455, -130.4093,\n",
      "        -134.4709, -134.4338, -142.5820, -149.8792, -134.5950, -140.5591,\n",
      "        -133.3982, -149.4653, -141.7820, -143.8646, -159.0844, -138.1960,\n",
      "        -133.7022, -144.3874, -141.9352, -137.8752, -135.7475, -131.7495,\n",
      "        -133.1917, -143.2497, -129.4335, -139.3657, -131.5886, -140.1616,\n",
      "        -144.5827, -139.6280, -143.9297, -153.1750, -141.5427, -152.7619,\n",
      "        -147.4227, -147.0909, -142.4054, -144.4585, -142.6401, -136.9293,\n",
      "        -145.1759, -135.9094, -144.1416, -133.5063, -139.6616, -142.2040,\n",
      "        -155.2632, -143.6912, -136.3751, -127.4755, -135.5618, -124.5448,\n",
      "        -139.9895, -142.3295, -142.8074, -138.7350, -143.4694, -140.5184,\n",
      "        -128.0649, -154.2675, -136.4051, -139.6710, -145.0462, -155.9983,\n",
      "        -143.3755, -160.1471, -142.5948, -145.0502], device='cuda:0')\n"
     ]
    }
   ],
   "source": [
    "run_trainer(ula_5_r)"
   ]
  },
  {
   "cell_type": "code",
   "execution_count": 16,
   "metadata": {},
   "outputs": [
    {
     "data": {
      "text/plain": [
       "[Parameter containing:\n",
       " tensor([[ 0.0053, -0.0491,  0.0285,  ...,  0.0390,  0.0034,  0.0400],\n",
       "         [-0.0881,  0.0659,  0.0072,  ..., -0.0059,  0.0004, -0.1810],\n",
       "         [ 0.0620,  0.0009, -0.0101,  ..., -0.1145,  0.2492,  0.1068],\n",
       "         ...,\n",
       "         [ 0.0322, -0.0928,  0.0628,  ...,  0.0707,  0.1588,  0.0102],\n",
       "         [ 0.0459, -0.0771,  0.0069,  ...,  0.1253, -0.0568, -0.0779],\n",
       "         [-0.0007, -0.0386, -0.0108,  ..., -0.2071,  0.0102,  0.1555]],\n",
       "        requires_grad=True),\n",
       " Parameter containing:\n",
       " tensor([ 0.2657, -0.2468,  0.1401, -0.2648, -0.2313, -0.2938,  0.1642,  0.2663,\n",
       "         -0.3005,  0.2815, -0.2469,  0.2552,  0.2399, -0.2619,  0.2035,  0.2566,\n",
       "          0.2356, -0.2278, -0.1630, -0.2653,  0.2357, -0.2679, -0.2331, -0.2440,\n",
       "          0.1170, -0.2291,  0.2686, -0.2909,  0.2376,  0.1965, -0.2018, -0.1411,\n",
       "         -0.2472,  0.1608,  0.2480,  0.1655, -0.2181,  0.1919,  0.2273, -0.2739,\n",
       "          0.2601, -0.2629,  0.1592,  0.1845,  0.1889,  0.2549,  0.2065,  0.1630,\n",
       "          0.2140, -0.2086,  0.2201,  0.2780,  0.1228, -0.2866,  0.2506, -0.2459,\n",
       "         -0.1588, -0.2681,  0.1615,  0.2046, -0.2919, -0.2725,  0.2325,  0.2317,\n",
       "          0.2321, -0.2710, -0.3277,  0.2410, -0.2067,  0.1980,  0.1343,  0.1612,\n",
       "          0.2922, -0.2234,  0.1281,  0.3103,  0.2779,  0.2874,  0.2710,  0.2137,\n",
       "          0.2778,  0.2147,  0.1991, -0.2006, -0.1244, -0.2780,  0.1840,  0.1453,\n",
       "          0.2530,  0.2588,  0.2484,  0.2783,  0.2673, -0.2817, -0.2146,  0.1209,\n",
       "          0.1825,  0.2586,  0.1735,  0.2682,  0.2683,  0.1532, -0.2709, -0.1871,\n",
       "          0.1917, -0.2430,  0.1932,  0.1311, -0.2061, -0.2281, -0.2932,  0.2844,\n",
       "         -0.2963, -0.2553,  0.2515,  0.2667,  0.1867,  0.2353, -0.2339, -0.2885,\n",
       "          0.2223, -0.1470, -0.0316,  0.2015,  0.2913,  0.2602,  0.3402,  0.2699,\n",
       "          0.2062,  0.2209, -0.2168,  0.2250,  0.2880, -0.1842,  0.1744, -0.2436,\n",
       "         -0.2094,  0.1721, -0.2838, -0.2742, -0.2684,  0.2529,  0.2381, -0.2613,\n",
       "          0.2625, -0.2456,  0.1281, -0.3040,  0.2213,  0.1434,  0.2399, -0.2340,\n",
       "         -0.2895,  0.2141, -0.2462, -0.1126, -0.2614,  0.1886,  0.2809, -0.2515,\n",
       "          0.1901,  0.1791, -0.2581, -0.2492, -0.2519,  0.2751,  0.1807, -0.2611,\n",
       "          0.2088,  0.1759,  0.2628,  0.2764, -0.2488, -0.2936,  0.1849, -0.2173,\n",
       "          0.2782,  0.2798, -0.0730, -0.2244, -0.2571, -0.2144, -0.3275,  0.2031,\n",
       "         -0.2349, -0.2910, -0.3152, -0.2839,  0.2849,  0.2893,  0.2278,  0.2514,\n",
       "         -0.1945,  0.2318, -0.3002,  0.2756, -0.2756,  0.1698,  0.2488,  0.2285],\n",
       "        requires_grad=True),\n",
       " Parameter containing:\n",
       " tensor([[ 0.0082,  0.0688, -0.0098,  ...,  0.0028,  0.0187, -0.0478],\n",
       "         [ 0.0069, -0.0384,  0.0772,  ..., -0.1183, -0.0165,  0.0347],\n",
       "         [ 0.0352, -0.0286, -0.0250,  ..., -0.0186, -0.0258, -0.1043],\n",
       "         ...,\n",
       "         [-0.0586,  0.3322,  0.0091,  ..., -0.0902, -0.0449, -0.0314],\n",
       "         [-0.1139,  0.2201, -0.0265,  ..., -0.0352, -0.0931, -0.0588],\n",
       "         [-0.0516,  0.2530, -0.0308,  ..., -0.0116, -0.0462,  0.0199]],\n",
       "        requires_grad=True),\n",
       " Parameter containing:\n",
       " tensor([ 0.0575, -0.0194,  0.0198,  0.0413,  0.0164, -0.0270, -0.0251, -0.0122,\n",
       "         -0.0094, -0.0044, -0.0328, -0.0268, -0.0551,  0.0397, -0.0099, -0.0059,\n",
       "          0.0073, -0.0100, -0.0086, -0.0635,  0.0467,  0.0279,  0.0372, -0.0037,\n",
       "          0.0190,  0.0514, -0.0068, -0.0554, -0.0270, -0.0471,  0.0210, -0.0607,\n",
       "         -0.0253,  0.0082, -0.0576, -0.0095, -0.0530,  0.0055,  0.0282,  0.0370,\n",
       "         -0.0327, -0.0440,  0.0348,  0.0064,  0.0273, -0.0176,  0.0428,  0.0263,\n",
       "         -0.0402,  0.0194,  0.0185,  0.0324, -0.0319, -0.0196,  0.0258, -0.0011,\n",
       "         -0.0254, -0.0050,  0.0127,  0.0642,  0.0340, -0.0279, -0.0216, -0.0345,\n",
       "          0.0121,  0.0420,  0.0154, -0.0123,  0.0378,  0.0093,  0.0332,  0.0616,\n",
       "          0.0649, -0.0472,  0.0206,  0.0210, -0.0358, -0.0093,  0.0096,  0.0416,\n",
       "         -0.0100, -0.0181,  0.0115, -0.0285, -0.0133, -0.0067,  0.0679, -0.0382,\n",
       "          0.0019,  0.0509, -0.0157, -0.0743,  0.0540,  0.0101, -0.0018, -0.0390,\n",
       "         -0.0523, -0.0243,  0.0434, -0.0208, -0.1484, -0.0997, -0.1458, -0.1829,\n",
       "         -0.1834, -0.2101, -0.2200, -0.1520, -0.2351, -0.2109, -0.1063, -0.1482,\n",
       "         -0.1223, -0.1051, -0.1914, -0.1634, -0.1859, -0.1488, -0.1160, -0.1778,\n",
       "         -0.1302, -0.1817, -0.1125, -0.1691, -0.1401, -0.2357, -0.1521, -0.2377,\n",
       "         -0.1699, -0.1227, -0.1144, -0.1323, -0.2415, -0.1412, -0.1062, -0.1179,\n",
       "         -0.1300, -0.1779, -0.2253, -0.1454, -0.2069, -0.1257, -0.2017, -0.1264,\n",
       "         -0.1667, -0.1321, -0.2311, -0.1694, -0.1272, -0.2372, -0.1133, -0.1887,\n",
       "         -0.2067, -0.2329, -0.1930, -0.1816, -0.1786, -0.1189, -0.2349, -0.2128,\n",
       "         -0.1575, -0.1709, -0.1525, -0.2071, -0.2245, -0.2170, -0.1914, -0.1744,\n",
       "         -0.2185, -0.1538, -0.1799, -0.1645, -0.1437, -0.2146, -0.1890, -0.1572,\n",
       "         -0.1897, -0.1276, -0.1425, -0.1951, -0.2103, -0.0999, -0.1178, -0.1718,\n",
       "         -0.1323, -0.2268, -0.1796, -0.1798, -0.1622, -0.2140, -0.1151, -0.2250,\n",
       "         -0.1297, -0.2035, -0.2168, -0.2209, -0.2347, -0.1144, -0.1293, -0.1376],\n",
       "        requires_grad=True)]"
      ]
     },
     "execution_count": 16,
     "metadata": {},
     "output_type": "execute_result"
    }
   ],
   "source": [
    "[p for p in ula_5_r.reverse_kernels.parameters()]"
   ]
  },
  {
   "cell_type": "code",
   "execution_count": null,
   "metadata": {},
   "outputs": [],
   "source": []
  },
  {
   "cell_type": "code",
   "execution_count": null,
   "metadata": {},
   "outputs": [],
   "source": []
  },
  {
   "cell_type": "code",
   "execution_count": 17,
   "metadata": {},
   "outputs": [],
   "source": [
    "ula_5_r = ula_5_r.to(device)"
   ]
  },
  {
   "cell_type": "code",
   "execution_count": 18,
   "metadata": {},
   "outputs": [
    {
     "name": "stderr",
     "output_type": "stream",
     "text": [
      "GPU available: True, used: True\n",
      "TPU available: None, using: 0 TPU cores\n",
      "LOCAL_RANK: 0 - CUDA_VISIBLE_DEVICES: [0,1]\n",
      "\n",
      "  | Name            | Type             | Params\n",
      "-----------------------------------------------------\n",
      "0 | encoder_net     | FC_encoder_mnist | 157 K \n",
      "1 | decoder_net     | FC_decoder_mnist | 79.2 K\n",
      "2 | transitions_nll | ModuleList       | 8     \n",
      "3 | transitions     | ModuleList       | 2     \n",
      "4 | reverse_kernels | ModuleList       | 160 K \n",
      "-----------------------------------------------------\n",
      "396 K     Trainable params\n",
      "10        Non-trainable params\n",
      "396 K     Total params\n"
     ]
    },
    {
     "data": {
      "application/vnd.jupyter.widget-view+json": {
       "model_id": "",
       "version_major": 2,
       "version_minor": 0
      },
      "text/plain": [
       "HBox(children=(HTML(value='Validation sanity check'), FloatProgress(value=1.0, bar_style='info', layout=Layout…"
      ]
     },
     "metadata": {},
     "output_type": "display_data"
    },
    {
     "data": {
      "application/vnd.jupyter.widget-view+json": {
       "model_id": "b822372907a348ccba61ebfa6915ac4d",
       "version_major": 2,
       "version_minor": 0
      },
      "text/plain": [
       "HBox(children=(HTML(value='Training'), FloatProgress(value=1.0, bar_style='info', layout=Layout(flex='2'), max…"
      ]
     },
     "metadata": {},
     "output_type": "display_data"
    },
    {
     "data": {
      "application/vnd.jupyter.widget-view+json": {
       "model_id": "",
       "version_major": 2,
       "version_minor": 0
      },
      "text/plain": [
       "HBox(children=(HTML(value='Validating'), FloatProgress(value=1.0, bar_style='info', layout=Layout(flex='2'), m…"
      ]
     },
     "metadata": {},
     "output_type": "display_data"
    },
    {
     "data": {
      "application/vnd.jupyter.widget-view+json": {
       "model_id": "",
       "version_major": 2,
       "version_minor": 0
      },
      "text/plain": [
       "HBox(children=(HTML(value='Validating'), FloatProgress(value=1.0, bar_style='info', layout=Layout(flex='2'), m…"
      ]
     },
     "metadata": {},
     "output_type": "display_data"
    },
    {
     "data": {
      "application/vnd.jupyter.widget-view+json": {
       "model_id": "",
       "version_major": 2,
       "version_minor": 0
      },
      "text/plain": [
       "HBox(children=(HTML(value='Validating'), FloatProgress(value=1.0, bar_style='info', layout=Layout(flex='2'), m…"
      ]
     },
     "metadata": {},
     "output_type": "display_data"
    },
    {
     "data": {
      "application/vnd.jupyter.widget-view+json": {
       "model_id": "",
       "version_major": 2,
       "version_minor": 0
      },
      "text/plain": [
       "HBox(children=(HTML(value='Validating'), FloatProgress(value=1.0, bar_style='info', layout=Layout(flex='2'), m…"
      ]
     },
     "metadata": {},
     "output_type": "display_data"
    },
    {
     "data": {
      "application/vnd.jupyter.widget-view+json": {
       "model_id": "",
       "version_major": 2,
       "version_minor": 0
      },
      "text/plain": [
       "HBox(children=(HTML(value='Validating'), FloatProgress(value=1.0, bar_style='info', layout=Layout(flex='2'), m…"
      ]
     },
     "metadata": {},
     "output_type": "display_data"
    },
    {
     "name": "stdout",
     "output_type": "stream",
     "text": [
      "\n"
     ]
    }
   ],
   "source": [
    "run_trainer(ula_10_r)"
   ]
  },
  {
   "cell_type": "code",
   "execution_count": 19,
   "metadata": {},
   "outputs": [],
   "source": [
    "ula_10_r = ula_10_r.to(device)"
   ]
  },
  {
   "cell_type": "code",
   "execution_count": null,
   "metadata": {},
   "outputs": [],
   "source": []
  },
  {
   "cell_type": "code",
   "execution_count": null,
   "metadata": {},
   "outputs": [],
   "source": []
  },
  {
   "cell_type": "code",
   "execution_count": 20,
   "metadata": {},
   "outputs": [
    {
     "data": {
      "application/vnd.jupyter.widget-view+json": {
       "model_id": "8d3bc4b4526e4704abf6a122409c310e",
       "version_major": 2,
       "version_minor": 0
      },
      "text/plain": [
       "HBox(children=(HTML(value=''), FloatProgress(value=0.0, max=200.0), HTML(value='')))"
      ]
     },
     "metadata": {},
     "output_type": "display_data"
    },
    {
     "name": "stdout",
     "output_type": "stream",
     "text": [
      "\n"
     ]
    }
   ],
   "source": [
    "output_ula_5 = run_exp(ula_5)"
   ]
  },
  {
   "cell_type": "code",
   "execution_count": 21,
   "metadata": {},
   "outputs": [
    {
     "data": {
      "application/vnd.jupyter.widget-view+json": {
       "model_id": "5633ba0fce094ee793ca940e89b889c5",
       "version_major": 2,
       "version_minor": 0
      },
      "text/plain": [
       "HBox(children=(HTML(value=''), FloatProgress(value=0.0, max=200.0), HTML(value='')))"
      ]
     },
     "metadata": {},
     "output_type": "display_data"
    },
    {
     "name": "stdout",
     "output_type": "stream",
     "text": [
      "\n"
     ]
    }
   ],
   "source": [
    "output_ula_10 = run_exp(ula_10)"
   ]
  },
  {
   "cell_type": "code",
   "execution_count": null,
   "metadata": {},
   "outputs": [],
   "source": []
  },
  {
   "cell_type": "code",
   "execution_count": 22,
   "metadata": {},
   "outputs": [
    {
     "data": {
      "application/vnd.jupyter.widget-view+json": {
       "model_id": "707944f225744a729062712789835474",
       "version_major": 2,
       "version_minor": 0
      },
      "text/plain": [
       "HBox(children=(HTML(value=''), FloatProgress(value=0.0, max=200.0), HTML(value='')))"
      ]
     },
     "metadata": {},
     "output_type": "display_data"
    },
    {
     "name": "stdout",
     "output_type": "stream",
     "text": [
      "\n"
     ]
    }
   ],
   "source": [
    "output_ula_5_r = run_exp(ula_5_r)"
   ]
  },
  {
   "cell_type": "code",
   "execution_count": 23,
   "metadata": {},
   "outputs": [
    {
     "data": {
      "application/vnd.jupyter.widget-view+json": {
       "model_id": "63254264764c4c84ba0997c398a257bb",
       "version_major": 2,
       "version_minor": 0
      },
      "text/plain": [
       "HBox(children=(HTML(value=''), FloatProgress(value=0.0, max=200.0), HTML(value='')))"
      ]
     },
     "metadata": {},
     "output_type": "display_data"
    },
    {
     "name": "stdout",
     "output_type": "stream",
     "text": [
      "\n"
     ]
    }
   ],
   "source": [
    "output_ula_10_r = run_exp(ula_10_r)"
   ]
  },
  {
   "cell_type": "code",
   "execution_count": null,
   "metadata": {},
   "outputs": [],
   "source": []
  },
  {
   "cell_type": "code",
   "execution_count": null,
   "metadata": {},
   "outputs": [],
   "source": []
  },
  {
   "cell_type": "code",
   "execution_count": null,
   "metadata": {},
   "outputs": [],
   "source": []
  },
  {
   "cell_type": "code",
   "execution_count": 24,
   "metadata": {},
   "outputs": [
    {
     "data": {
      "application/vnd.jupyter.widget-view+json": {
       "model_id": "8da3ea9f99b14507880076d4680fe094",
       "version_major": 2,
       "version_minor": 0
      },
      "text/plain": [
       "HBox(children=(HTML(value=''), FloatProgress(value=0.0, max=200.0), HTML(value='')))"
      ]
     },
     "metadata": {},
     "output_type": "display_data"
    },
    {
     "name": "stdout",
     "output_type": "stream",
     "text": [
      "\n"
     ]
    }
   ],
   "source": [
    "output_ais_5 = run_exp(ais_5)"
   ]
  },
  {
   "cell_type": "code",
   "execution_count": 25,
   "metadata": {},
   "outputs": [
    {
     "data": {
      "application/vnd.jupyter.widget-view+json": {
       "model_id": "0df2c295f9d34ad18176019832aeafcf",
       "version_major": 2,
       "version_minor": 0
      },
      "text/plain": [
       "HBox(children=(HTML(value=''), FloatProgress(value=0.0, max=200.0), HTML(value='')))"
      ]
     },
     "metadata": {},
     "output_type": "display_data"
    },
    {
     "name": "stdout",
     "output_type": "stream",
     "text": [
      "\n"
     ]
    }
   ],
   "source": [
    "output_ais_10 = run_exp(ais_10)"
   ]
  },
  {
   "cell_type": "code",
   "execution_count": null,
   "metadata": {},
   "outputs": [],
   "source": []
  },
  {
   "cell_type": "code",
   "execution_count": 26,
   "metadata": {},
   "outputs": [
    {
     "data": {
      "application/vnd.jupyter.widget-view+json": {
       "model_id": "b451244add9241f3a288c0c11eb1d526",
       "version_major": 2,
       "version_minor": 0
      },
      "text/plain": [
       "HBox(children=(HTML(value=''), FloatProgress(value=0.0, max=200.0), HTML(value='')))"
      ]
     },
     "metadata": {},
     "output_type": "display_data"
    },
    {
     "name": "stdout",
     "output_type": "stream",
     "text": [
      "\n"
     ]
    }
   ],
   "source": [
    "output_ais_5_3 = run_exp(ais_5_3)"
   ]
  },
  {
   "cell_type": "code",
   "execution_count": null,
   "metadata": {},
   "outputs": [],
   "source": []
  },
  {
   "cell_type": "code",
   "execution_count": 27,
   "metadata": {},
   "outputs": [],
   "source": [
    "def plot_beautiful_boxplots(list_of_things_to_plot, list_of_titles, title_file=None, grad=False):\n",
    "    plt.close()\n",
    "    plt.figure(figsize = (5, 3), dpi=200)\n",
    "\n",
    "    #sns.violinplot(data = total_res_10)\n",
    "    #sns.swarmplot(data = list_of_things_to_plot, size = 2.5, dodge = True, alpha = .8)\n",
    "    sns.boxplot(data=list_of_things_to_plot, showfliers=False)\n",
    "    \n",
    "    if grad:\n",
    "        plt.yticks([])\n",
    "        \n",
    "    plt.xticks(range(len(list_of_titles)), list_of_titles, rotation=7, fontsize=6)\n",
    "    plt.tight_layout()\n",
    "    plt.show()\n",
    "    if title_file is not None:\n",
    "        plt.savefig(title_file +'.pdf')"
   ]
  },
  {
   "cell_type": "code",
   "execution_count": 28,
   "metadata": {},
   "outputs": [],
   "source": [
    "outputs = [output_ula_5, output_ula_10, output_ula_5_r, output_ula_10_r, output_ais_5, output_ais_10, output_ais_5_3]\n",
    "# outputs = [output_ula_5, output_ula_10, output_ais_5, output_ais_10, output_ais_5_3]"
   ]
  },
  {
   "cell_type": "code",
   "execution_count": 29,
   "metadata": {},
   "outputs": [],
   "source": [
    "# list_of_titles = ['L-MCVAE, K=5', 'L-MCVAE, K=10', 'A-MCVAE, K=5', 'A-MCVAE, K=10', 'A-MCVAE, K=5, reduced variance',]# 'L-MCVAE-5-r', 'L-MCVAE-10-r']\n",
    "list_of_titles = ['L-MCVAE, K=5', 'L-MCVAE, K=10', 'L-MCVAE-5-r', 'L-MCVAE-10-r', 'A-MCVAE, K=5', 'A-MCVAE, K=10', 'A-MCVAE, K=5, reduced variance',]#"
   ]
  },
  {
   "cell_type": "code",
   "execution_count": 30,
   "metadata": {},
   "outputs": [
    {
     "data": {
      "application/vnd.jupyter.widget-view+json": {
       "model_id": "36da3ff957f642709c69f2c05d2551e7",
       "version_major": 2,
       "version_minor": 0
      },
      "text/plain": [
       "Canvas(toolbar=Toolbar(toolitems=[('Home', 'Reset original view', 'home', 'home'), ('Back', 'Back to previous …"
      ]
     },
     "metadata": {},
     "output_type": "display_data"
    }
   ],
   "source": [
    "plot_beautiful_boxplots([l[0].mean(0) - l[1] for l in outputs], list_of_titles, 'est')"
   ]
  },
  {
   "cell_type": "code",
   "execution_count": null,
   "metadata": {},
   "outputs": [],
   "source": [
    "coord = 18\n",
    "plot_beautiful_boxplots([l[2][:, coord] for l in outputs], list_of_titles, 'grad_est', grad=True)"
   ]
  },
  {
   "cell_type": "code",
   "execution_count": null,
   "metadata": {},
   "outputs": [],
   "source": []
  },
  {
   "cell_type": "code",
   "execution_count": null,
   "metadata": {},
   "outputs": [],
   "source": [
    "outputs[0][2][10].shape"
   ]
  },
  {
   "cell_type": "code",
   "execution_count": null,
   "metadata": {},
   "outputs": [],
   "source": []
  },
  {
   "cell_type": "code",
   "execution_count": null,
   "metadata": {},
   "outputs": [],
   "source": []
  },
  {
   "cell_type": "code",
   "execution_count": null,
   "metadata": {},
   "outputs": [],
   "source": []
  },
  {
   "cell_type": "code",
   "execution_count": null,
   "metadata": {},
   "outputs": [],
   "source": [
    "# 19"
   ]
  },
  {
   "cell_type": "code",
   "execution_count": null,
   "metadata": {},
   "outputs": [],
   "source": [
    "outputs = [output_ula_5, output_ula_10, output_ula_5_r, output_ula_10_r, output_ais_5, output_ais_10, output_ais_5_3]\n",
    "list_of_titles = ['L-MCVAE, K=5', 'L-MCVAE, K=10', 'L-MCVAE-5-r', 'L-MCVAE-10-r', 'A-MCVAE, K=5', 'A-MCVAE, K=10', 'A-MCVAE, K=5, reduced variance']"
   ]
  },
  {
   "cell_type": "code",
   "execution_count": null,
   "metadata": {},
   "outputs": [],
   "source": [
    "plot_beautiful_boxplots([l[0].mean(0) - l[1] for l in outputs], list_of_titles, 'est')"
   ]
  },
  {
   "cell_type": "code",
   "execution_count": null,
   "metadata": {},
   "outputs": [],
   "source": []
  }
 ],
 "metadata": {
  "kernelspec": {
   "display_name": "Condatorch",
   "language": "python",
   "name": "condatorch"
  },
  "language_info": {
   "codemirror_mode": {
    "name": "ipython",
    "version": 3
   },
   "file_extension": ".py",
   "mimetype": "text/x-python",
   "name": "python",
   "nbconvert_exporter": "python",
   "pygments_lexer": "ipython3",
   "version": "3.8.5"
  }
 },
 "nbformat": 4,
 "nbformat_minor": 4
}
